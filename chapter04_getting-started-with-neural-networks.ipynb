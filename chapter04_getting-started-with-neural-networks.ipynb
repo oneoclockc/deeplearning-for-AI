{
  "cells": [
    {
      "cell_type": "markdown",
      "metadata": {
        "id": "zZs3aCABaeul"
      },
      "source": [
        "# Getting started with neural networks: Classification and regression"
      ]
    },
    {
      "cell_type": "markdown",
      "metadata": {
        "id": "ypOu1Kujaeun"
      },
      "source": [
        "## Classifying movie reviews: A binary classification example"
      ]
    },
    {
      "cell_type": "markdown",
      "metadata": {
        "id": "4NI-IAC4aeuo"
      },
      "source": [
        "### The IMDB dataset"
      ]
    },
    {
      "cell_type": "markdown",
      "source": [
        "50,000 highly polarized review from the Internet movie database.  \n",
        "25000 traing data, 25000 test data  \n",
        "50% positive, 50% negative "
      ],
      "metadata": {
        "id": "QBwequUteKkq"
      }
    },
    {
      "cell_type": "markdown",
      "metadata": {
        "id": "vFK4Gei0aeuo"
      },
      "source": [
        "**Loading the IMDB dataset**"
      ]
    },
    {
      "cell_type": "code",
      "execution_count": null,
      "metadata": {
        "id": "peErQmUlaeuq",
        "outputId": "c0ad1d00-28c9-495d-89b2-65408692913c",
        "colab": {
          "base_uri": "https://localhost:8080/"
        }
      },
      "outputs": [
        {
          "output_type": "stream",
          "name": "stdout",
          "text": [
            "Downloading data from https://storage.googleapis.com/tensorflow/tf-keras-datasets/imdb.npz\n",
            "17465344/17464789 [==============================] - 0s 0us/step\n",
            "17473536/17464789 [==============================] - 0s 0us/step\n"
          ]
        }
      ],
      "source": [
        "from tensorflow.keras.datasets import imdb\n",
        "(train_data, train_labels), (test_data, test_labels) = imdb.load_data(\n",
        "    num_words=10000) # only keep 10,000 most frequently occuriring word in the training data"
      ]
    },
    {
      "cell_type": "code",
      "execution_count": null,
      "metadata": {
        "id": "uP9ABT7_aeus",
        "outputId": "543243ec-97e9-4e29-98f1-08eade2d5f7e",
        "colab": {
          "base_uri": "https://localhost:8080/"
        }
      },
      "outputs": [
        {
          "output_type": "execute_result",
          "data": {
            "text/plain": [
              "[1,\n",
              " 14,\n",
              " 22,\n",
              " 16,\n",
              " 43,\n",
              " 530,\n",
              " 973,\n",
              " 1622,\n",
              " 1385,\n",
              " 65,\n",
              " 458,\n",
              " 4468,\n",
              " 66,\n",
              " 3941,\n",
              " 4,\n",
              " 173,\n",
              " 36,\n",
              " 256,\n",
              " 5,\n",
              " 25,\n",
              " 100,\n",
              " 43,\n",
              " 838,\n",
              " 112,\n",
              " 50,\n",
              " 670,\n",
              " 2,\n",
              " 9,\n",
              " 35,\n",
              " 480,\n",
              " 284,\n",
              " 5,\n",
              " 150,\n",
              " 4,\n",
              " 172,\n",
              " 112,\n",
              " 167,\n",
              " 2,\n",
              " 336,\n",
              " 385,\n",
              " 39,\n",
              " 4,\n",
              " 172,\n",
              " 4536,\n",
              " 1111,\n",
              " 17,\n",
              " 546,\n",
              " 38,\n",
              " 13,\n",
              " 447,\n",
              " 4,\n",
              " 192,\n",
              " 50,\n",
              " 16,\n",
              " 6,\n",
              " 147,\n",
              " 2025,\n",
              " 19,\n",
              " 14,\n",
              " 22,\n",
              " 4,\n",
              " 1920,\n",
              " 4613,\n",
              " 469,\n",
              " 4,\n",
              " 22,\n",
              " 71,\n",
              " 87,\n",
              " 12,\n",
              " 16,\n",
              " 43,\n",
              " 530,\n",
              " 38,\n",
              " 76,\n",
              " 15,\n",
              " 13,\n",
              " 1247,\n",
              " 4,\n",
              " 22,\n",
              " 17,\n",
              " 515,\n",
              " 17,\n",
              " 12,\n",
              " 16,\n",
              " 626,\n",
              " 18,\n",
              " 2,\n",
              " 5,\n",
              " 62,\n",
              " 386,\n",
              " 12,\n",
              " 8,\n",
              " 316,\n",
              " 8,\n",
              " 106,\n",
              " 5,\n",
              " 4,\n",
              " 2223,\n",
              " 5244,\n",
              " 16,\n",
              " 480,\n",
              " 66,\n",
              " 3785,\n",
              " 33,\n",
              " 4,\n",
              " 130,\n",
              " 12,\n",
              " 16,\n",
              " 38,\n",
              " 619,\n",
              " 5,\n",
              " 25,\n",
              " 124,\n",
              " 51,\n",
              " 36,\n",
              " 135,\n",
              " 48,\n",
              " 25,\n",
              " 1415,\n",
              " 33,\n",
              " 6,\n",
              " 22,\n",
              " 12,\n",
              " 215,\n",
              " 28,\n",
              " 77,\n",
              " 52,\n",
              " 5,\n",
              " 14,\n",
              " 407,\n",
              " 16,\n",
              " 82,\n",
              " 2,\n",
              " 8,\n",
              " 4,\n",
              " 107,\n",
              " 117,\n",
              " 5952,\n",
              " 15,\n",
              " 256,\n",
              " 4,\n",
              " 2,\n",
              " 7,\n",
              " 3766,\n",
              " 5,\n",
              " 723,\n",
              " 36,\n",
              " 71,\n",
              " 43,\n",
              " 530,\n",
              " 476,\n",
              " 26,\n",
              " 400,\n",
              " 317,\n",
              " 46,\n",
              " 7,\n",
              " 4,\n",
              " 2,\n",
              " 1029,\n",
              " 13,\n",
              " 104,\n",
              " 88,\n",
              " 4,\n",
              " 381,\n",
              " 15,\n",
              " 297,\n",
              " 98,\n",
              " 32,\n",
              " 2071,\n",
              " 56,\n",
              " 26,\n",
              " 141,\n",
              " 6,\n",
              " 194,\n",
              " 7486,\n",
              " 18,\n",
              " 4,\n",
              " 226,\n",
              " 22,\n",
              " 21,\n",
              " 134,\n",
              " 476,\n",
              " 26,\n",
              " 480,\n",
              " 5,\n",
              " 144,\n",
              " 30,\n",
              " 5535,\n",
              " 18,\n",
              " 51,\n",
              " 36,\n",
              " 28,\n",
              " 224,\n",
              " 92,\n",
              " 25,\n",
              " 104,\n",
              " 4,\n",
              " 226,\n",
              " 65,\n",
              " 16,\n",
              " 38,\n",
              " 1334,\n",
              " 88,\n",
              " 12,\n",
              " 16,\n",
              " 283,\n",
              " 5,\n",
              " 16,\n",
              " 4472,\n",
              " 113,\n",
              " 103,\n",
              " 32,\n",
              " 15,\n",
              " 16,\n",
              " 5345,\n",
              " 19,\n",
              " 178,\n",
              " 32]"
            ]
          },
          "metadata": {},
          "execution_count": 2
        }
      ],
      "source": [
        "train_data[0]"
      ]
    },
    {
      "cell_type": "code",
      "execution_count": null,
      "metadata": {
        "id": "FuXsgApTaeuu",
        "outputId": "1db73d52-be7d-4b81-e04e-8efa933c16b5",
        "colab": {
          "base_uri": "https://localhost:8080/"
        }
      },
      "outputs": [
        {
          "output_type": "execute_result",
          "data": {
            "text/plain": [
              "1"
            ]
          },
          "metadata": {},
          "execution_count": 5
        }
      ],
      "source": [
        "train_labels[0]"
      ]
    },
    {
      "cell_type": "code",
      "execution_count": null,
      "metadata": {
        "id": "zJs1G8IHaeuv",
        "outputId": "94e7d4b5-c13a-47d4-cf01-a7213a5571ad",
        "colab": {
          "base_uri": "https://localhost:8080/"
        }
      },
      "outputs": [
        {
          "output_type": "execute_result",
          "data": {
            "text/plain": [
              "9999"
            ]
          },
          "metadata": {},
          "execution_count": 6
        }
      ],
      "source": [
        "max([max(sequence) for sequence in train_data]) # because we  restricited to the top 10000 most frequent words"
      ]
    },
    {
      "cell_type": "markdown",
      "metadata": {
        "id": "yoFmRjhfaeux"
      },
      "source": [
        "**Decoding reviews back to text**"
      ]
    },
    {
      "cell_type": "code",
      "execution_count": null,
      "metadata": {
        "id": "HwlANfMNaeuy",
        "outputId": "834f2736-59aa-49ce-a08a-bb7fd678c788",
        "colab": {
          "base_uri": "https://localhost:8080/"
        }
      },
      "outputs": [
        {
          "output_type": "stream",
          "name": "stdout",
          "text": [
            "Downloading data from https://storage.googleapis.com/tensorflow/tf-keras-datasets/imdb_word_index.json\n",
            "1646592/1641221 [==============================] - 0s 0us/step\n",
            "1654784/1641221 [==============================] - 0s 0us/step\n"
          ]
        }
      ],
      "source": [
        "word_index = imdb.get_word_index() # word -> integer index 매핑 dictionary\n",
        "reverse_word_index = dict(\n",
        "    [(value, key) for (key, value) in word_index.items()])\n",
        "decoded_review = \" \".join( #.join -> list를 문자열로 \n",
        "    [reverse_word_index.get(i - 3, \"?\") for i in train_data[0]])\n",
        "# indices are offset by 3 because 0,1,2 are \"padding\",\"start of sequence\", \"unknown\""
      ]
    },
    {
      "cell_type": "code",
      "source": [
        "decoded_review"
      ],
      "metadata": {
        "id": "AdfiE7rsg85S",
        "outputId": "6d4b5b98-c6a2-4a48-c7c6-69ed3e543074",
        "colab": {
          "base_uri": "https://localhost:8080/",
          "height": 162
        }
      },
      "execution_count": null,
      "outputs": [
        {
          "output_type": "execute_result",
          "data": {
            "text/plain": [
              "\"? this film was just brilliant casting location scenery story direction everyone's really suited the part they played and you could just imagine being there robert ? is an amazing actor and now the same being director ? father came from the same scottish island as myself so i loved the fact there was a real connection with this film the witty remarks throughout the film were great it was just brilliant so much that i bought the film as soon as it was released for ? and would recommend it to everyone to watch and the fly fishing was amazing really cried at the end it was so sad and you know what they say if you cry at a film it must have been good and this definitely was also ? to the two little boy's that played the ? of norman and paul they were just brilliant children are often left out of the ? list i think because the stars that play them all grown up are such a big profile for the whole film but these children are amazing and should be praised for what they have done don't you think the whole story was so lovely because it was true and was someone's life after all that was shared with us all\""
            ],
            "application/vnd.google.colaboratory.intrinsic+json": {
              "type": "string"
            }
          },
          "metadata": {},
          "execution_count": 14
        }
      ]
    },
    {
      "cell_type": "markdown",
      "metadata": {
        "id": "rYeOQmN4aeuz"
      },
      "source": [
        "### Preparing the data"
      ]
    },
    {
      "cell_type": "markdown",
      "metadata": {
        "id": "Nb6FTZ7yaeu0"
      },
      "source": [
        "**Encoding the integer sequences via multi-hot encoding**"
      ]
    },
    {
      "cell_type": "markdown",
      "source": [
        "원-핫 인코딩은 단어 집합의 크기를 벡터의 차원으로 하고, 표현하고 싶은 단어의 인덱스에 1의 값을 부여하고, 다른 인덱스에는 0을 부여하는 단어의 벡터 표현 방식입니다. 이렇게 표현된 벡터를 원-핫 벡터(One-Hot vector)라고 합니다."
      ],
      "metadata": {
        "id": "OyC2w6peBVNM"
      }
    },
    {
      "cell_type": "code",
      "execution_count": 11,
      "metadata": {
        "id": "ygFD9vwtaeu1"
      },
      "outputs": [],
      "source": [
        "import numpy as np\n",
        "def vectorize_sequences(sequences, dimension=10000):\n",
        "    results = np.zeros((len(sequences), dimension))\n",
        "    for i, sequence in enumerate(sequences):\n",
        "        for j in sequence:\n",
        "            results[i, j] = 1.\n",
        "    return results\n",
        "x_train = vectorize_sequences(train_data)\n",
        "x_test = vectorize_sequences(test_data)"
      ]
    },
    {
      "cell_type": "code",
      "execution_count": null,
      "metadata": {
        "id": "TDg2Dafpaeu2",
        "outputId": "d1b9a276-4016-457f-fadc-8179693ff6c4",
        "colab": {
          "base_uri": "https://localhost:8080/"
        }
      },
      "outputs": [
        {
          "output_type": "execute_result",
          "data": {
            "text/plain": [
              "array([0., 1., 1., ..., 0., 0., 0.])"
            ]
          },
          "metadata": {},
          "execution_count": 16
        }
      ],
      "source": [
        "x_train[0]"
      ]
    },
    {
      "cell_type": "code",
      "execution_count": null,
      "metadata": {
        "id": "yh1JiG80aeu3"
      },
      "outputs": [],
      "source": [
        "y_train = np.asarray(train_labels).astype(\"float32\")\n",
        "y_test = np.asarray(test_labels).astype(\"float32\")"
      ]
    },
    {
      "cell_type": "markdown",
      "metadata": {
        "id": "2iqa51yGaeu4"
      },
      "source": [
        "### Building your model"
      ]
    },
    {
      "cell_type": "markdown",
      "source": [
        "2 intermediate layers with 16 units each  \n",
        "3rd layer will output the scalar prediction regarding the sentiment of the curruent revies\n"
      ],
      "metadata": {
        "id": "RVVW2wtwkKTT"
      }
    },
    {
      "cell_type": "markdown",
      "metadata": {
        "id": "Q2Xdz5lqaeu4"
      },
      "source": [
        "**Model definition**"
      ]
    },
    {
      "cell_type": "code",
      "execution_count": 17,
      "metadata": {
        "id": "Yl4rQC9Faeu5"
      },
      "outputs": [],
      "source": [
        "from tensorflow import keras\n",
        "from tensorflow.keras import layers\n",
        "\n",
        "model = keras.Sequential([\n",
        "    layers.Dense(16, activation=\"relu\"), # 중간 계층 -> relu 함수 사용(음수를 0으로 만드는 함수)\n",
        "    layers.Dense(16, activation=\"relu\"), \n",
        "    layers.Dense(1, activation=\"sigmoid\") # 임의의 값을 [0,1] interval로 나타냄 (1을 가질 가능성)\n",
        "])"
      ]
    },
    {
      "cell_type": "markdown",
      "source": [
        "more unit(a higher-dimensional representation spae) -> 더 복잡한 표현을 학습할 수 있으나, overfit 될 수 있다. "
      ],
      "metadata": {
        "id": "-noyG_-BlT67"
      }
    },
    {
      "cell_type": "markdown",
      "metadata": {
        "id": "XTnl00Koaeu6"
      },
      "source": [
        "**Compiling the model**"
      ]
    },
    {
      "cell_type": "markdown",
      "source": [
        "- loss choice : binary classification, output of you model is a probability(single unnit layer with a sigmoid activation)   \n",
        "  -> **binary cossentropy loss** is best chois \n",
        "- optimizer choice : rmsprob is usually good defalt choice "
      ],
      "metadata": {
        "id": "vRPs8WHslwG9"
      }
    },
    {
      "cell_type": "code",
      "execution_count": null,
      "metadata": {
        "id": "k9VbT2Rcaeu6"
      },
      "outputs": [],
      "source": [
        "model.compile(optimizer=\"rmsprop\",\n",
        "              loss=\"binary_crossentropy\",\n",
        "              metrics=[\"accuracy\"])"
      ]
    },
    {
      "cell_type": "markdown",
      "metadata": {
        "id": "szk9qgmzaeu7"
      },
      "source": [
        "### Validating your approach"
      ]
    },
    {
      "cell_type": "markdown",
      "metadata": {
        "id": "Uubjpl8qaeu8"
      },
      "source": [
        "**Setting aside a validation set**"
      ]
    },
    {
      "cell_type": "code",
      "execution_count": null,
      "metadata": {
        "id": "959tolXHaeu8"
      },
      "outputs": [],
      "source": [
        "x_val = x_train[:10000] # train data 중 10000개를 validation data에 할당 \n",
        "partial_x_train = x_train[10000:]\n",
        "y_val = y_train[:10000]\n",
        "partial_y_train = y_train[10000:]"
      ]
    },
    {
      "cell_type": "markdown",
      "metadata": {
        "id": "1AlvnrChaeu9"
      },
      "source": [
        "**Training your model**"
      ]
    },
    {
      "cell_type": "code",
      "execution_count": null,
      "metadata": {
        "id": "MZW4j_cWaeu9",
        "outputId": "c7dc45da-0fd4-4d4e-fea4-0521bd0953e1",
        "colab": {
          "base_uri": "https://localhost:8080/"
        }
      },
      "outputs": [
        {
          "output_type": "stream",
          "name": "stdout",
          "text": [
            "Epoch 1/20\n",
            "30/30 [==============================] - 2s 55ms/step - loss: 0.5268 - accuracy: 0.7797 - val_loss: 0.3998 - val_accuracy: 0.8694\n",
            "Epoch 2/20\n",
            "30/30 [==============================] - 1s 41ms/step - loss: 0.3224 - accuracy: 0.8985 - val_loss: 0.3151 - val_accuracy: 0.8852\n",
            "Epoch 3/20\n",
            "30/30 [==============================] - 1s 40ms/step - loss: 0.2369 - accuracy: 0.9247 - val_loss: 0.2839 - val_accuracy: 0.8922\n",
            "Epoch 4/20\n",
            "30/30 [==============================] - 1s 41ms/step - loss: 0.1865 - accuracy: 0.9424 - val_loss: 0.2769 - val_accuracy: 0.8882\n",
            "Epoch 5/20\n",
            "30/30 [==============================] - 1s 41ms/step - loss: 0.1521 - accuracy: 0.9521 - val_loss: 0.2949 - val_accuracy: 0.8835\n",
            "Epoch 6/20\n",
            "30/30 [==============================] - 1s 41ms/step - loss: 0.1254 - accuracy: 0.9623 - val_loss: 0.2923 - val_accuracy: 0.8837\n",
            "Epoch 7/20\n",
            "30/30 [==============================] - 1s 41ms/step - loss: 0.1049 - accuracy: 0.9694 - val_loss: 0.3030 - val_accuracy: 0.8837\n",
            "Epoch 8/20\n",
            "30/30 [==============================] - 1s 40ms/step - loss: 0.0863 - accuracy: 0.9755 - val_loss: 0.3246 - val_accuracy: 0.8798\n",
            "Epoch 9/20\n",
            "30/30 [==============================] - 1s 41ms/step - loss: 0.0715 - accuracy: 0.9801 - val_loss: 0.3427 - val_accuracy: 0.8796\n",
            "Epoch 10/20\n",
            "30/30 [==============================] - 1s 40ms/step - loss: 0.0597 - accuracy: 0.9857 - val_loss: 0.3718 - val_accuracy: 0.8757\n",
            "Epoch 11/20\n",
            "30/30 [==============================] - 1s 41ms/step - loss: 0.0480 - accuracy: 0.9884 - val_loss: 0.3880 - val_accuracy: 0.8783\n",
            "Epoch 12/20\n",
            "30/30 [==============================] - 1s 40ms/step - loss: 0.0392 - accuracy: 0.9909 - val_loss: 0.4327 - val_accuracy: 0.8710\n",
            "Epoch 13/20\n",
            "30/30 [==============================] - 1s 40ms/step - loss: 0.0331 - accuracy: 0.9930 - val_loss: 0.4562 - val_accuracy: 0.8695\n",
            "Epoch 14/20\n",
            "30/30 [==============================] - 1s 40ms/step - loss: 0.0245 - accuracy: 0.9964 - val_loss: 0.4967 - val_accuracy: 0.8669\n",
            "Epoch 15/20\n",
            "30/30 [==============================] - 1s 40ms/step - loss: 0.0219 - accuracy: 0.9962 - val_loss: 0.5073 - val_accuracy: 0.8698\n",
            "Epoch 16/20\n",
            "30/30 [==============================] - 1s 40ms/step - loss: 0.0156 - accuracy: 0.9977 - val_loss: 0.5319 - val_accuracy: 0.8689\n",
            "Epoch 17/20\n",
            "30/30 [==============================] - 1s 41ms/step - loss: 0.0125 - accuracy: 0.9986 - val_loss: 0.5816 - val_accuracy: 0.8673\n",
            "Epoch 18/20\n",
            "30/30 [==============================] - 1s 41ms/step - loss: 0.0109 - accuracy: 0.9987 - val_loss: 0.6007 - val_accuracy: 0.8671\n",
            "Epoch 19/20\n",
            "30/30 [==============================] - 1s 40ms/step - loss: 0.0058 - accuracy: 0.9997 - val_loss: 0.6657 - val_accuracy: 0.8609\n",
            "Epoch 20/20\n",
            "30/30 [==============================] - 1s 40ms/step - loss: 0.0064 - accuracy: 0.9995 - val_loss: 0.6692 - val_accuracy: 0.8665\n"
          ]
        }
      ],
      "source": [
        "history = model.fit(partial_x_train,\n",
        "                    partial_y_train,\n",
        "                    epochs=20,\n",
        "                    batch_size=512,\n",
        "                    validation_data=(x_val, y_val))"
      ]
    },
    {
      "cell_type": "code",
      "execution_count": null,
      "metadata": {
        "id": "pVSRWxpGaeu-",
        "outputId": "5444577f-6091-476b-f1a7-d9d911725237",
        "colab": {
          "base_uri": "https://localhost:8080/"
        }
      },
      "outputs": [
        {
          "output_type": "execute_result",
          "data": {
            "text/plain": [
              "dict_keys(['loss', 'accuracy', 'val_loss', 'val_accuracy'])"
            ]
          },
          "metadata": {},
          "execution_count": 22
        }
      ],
      "source": [
        "history_dict = history.history\n",
        "history_dict.keys()"
      ]
    },
    {
      "cell_type": "markdown",
      "metadata": {
        "id": "gHGo6R8Iaeu-"
      },
      "source": [
        "**Plotting the training and validation loss**"
      ]
    },
    {
      "cell_type": "code",
      "execution_count": null,
      "metadata": {
        "id": "ECEaj0LUaeu_",
        "outputId": "c3a8e1a3-3fe7-4f23-c422-c746b0e6b0a0",
        "colab": {
          "base_uri": "https://localhost:8080/",
          "height": 295
        }
      },
      "outputs": [
        {
          "output_type": "display_data",
          "data": {
            "text/plain": [
              "<Figure size 432x288 with 1 Axes>"
            ],
            "image/png": "[encoded data removed]"
          },
          "metadata": {
            "needs_background": "light"
          }
        }
      ],
      "source": [
        "import matplotlib.pyplot as plt\n",
        "history_dict = history.history\n",
        "loss_values = history_dict[\"loss\"]\n",
        "val_loss_values = history_dict[\"val_loss\"]\n",
        "epochs = range(1, len(loss_values) + 1)\n",
        "plt.plot(epochs, loss_values, \"bo\", label=\"Training loss\")\n",
        "plt.plot(epochs, val_loss_values, \"b\", label=\"Validation loss\")\n",
        "plt.title(\"Training and validation loss\")\n",
        "plt.xlabel(\"Epochs\")\n",
        "plt.ylabel(\"Loss\")\n",
        "plt.legend()\n",
        "plt.show()"
      ]
    },
    {
      "cell_type": "markdown",
      "metadata": {
        "id": "deFNuYUdaevA"
      },
      "source": [
        "**Plotting the training and validation accuracy**"
      ]
    },
    {
      "cell_type": "code",
      "execution_count": null,
      "metadata": {
        "id": "0DLproQvaevA",
        "outputId": "9e9fe279-203c-4be5-d661-b59b2e7036b6",
        "colab": {
          "base_uri": "https://localhost:8080/",
          "height": 295
        }
      },
      "outputs": [
        {
          "output_type": "display_data",
          "data": {
            "text/plain": [
              "<Figure size 432x288 with 1 Axes>"
            ],
            "image/png": "[encoded data removed]"
          },
          "metadata": {
            "needs_background": "light"
          }
        }
      ],
      "source": [
        "plt.clf()\n",
        "acc = history_dict[\"accuracy\"]\n",
        "val_acc = history_dict[\"val_accuracy\"]\n",
        "plt.plot(epochs, acc, \"bo\", label=\"Training acc\")\n",
        "plt.plot(epochs, val_acc, \"b\", label=\"Validation acc\")\n",
        "plt.title(\"Training and validation accuracy\")\n",
        "plt.xlabel(\"Epochs\")\n",
        "plt.ylabel(\"Accuracy\")\n",
        "plt.legend()\n",
        "plt.show()"
      ]
    },
    {
      "cell_type": "markdown",
      "source": [
        "약 4 epochs 이후로는 loss가 커지고 accuracy가 줄어듦\n",
        "-> 4 epochs까지만 진행 "
      ],
      "metadata": {
        "id": "0qcizxlVoa65"
      }
    },
    {
      "cell_type": "markdown",
      "metadata": {
        "id": "sAuLzVkUaevB"
      },
      "source": [
        "**Retraining a model from scratch**"
      ]
    },
    {
      "cell_type": "code",
      "execution_count": null,
      "metadata": {
        "id": "DMrdxfpwaevB",
        "outputId": "bb9c9617-2ca0-454c-a550-c01e4c9f9197",
        "colab": {
          "base_uri": "https://localhost:8080/"
        }
      },
      "outputs": [
        {
          "output_type": "stream",
          "name": "stdout",
          "text": [
            "Epoch 1/4\n",
            "49/49 [==============================] - 2s 30ms/step - loss: 0.4843 - accuracy: 0.8181\n",
            "Epoch 2/4\n",
            "49/49 [==============================] - 1s 29ms/step - loss: 0.2736 - accuracy: 0.9048\n",
            "Epoch 3/4\n",
            "49/49 [==============================] - 1s 29ms/step - loss: 0.2065 - accuracy: 0.9256\n",
            "Epoch 4/4\n",
            "49/49 [==============================] - 1s 29ms/step - loss: 0.1703 - accuracy: 0.9403\n",
            "782/782 [==============================] - 2s 2ms/step - loss: 0.2941 - accuracy: 0.8850\n"
          ]
        }
      ],
      "source": [
        "model = keras.Sequential([\n",
        "    layers.Dense(16, activation=\"relu\"),\n",
        "    layers.Dense(16, activation=\"relu\"),\n",
        "    layers.Dense(1, activation=\"sigmoid\")\n",
        "])\n",
        "model.compile(optimizer=\"rmsprop\",\n",
        "              loss=\"binary_crossentropy\",\n",
        "              metrics=[\"accuracy\"])\n",
        "model.fit(x_train, y_train, epochs=4, batch_size=512)\n",
        "results = model.evaluate(x_test, y_test)"
      ]
    },
    {
      "cell_type": "code",
      "execution_count": null,
      "metadata": {
        "id": "8iCX8FkYaevC",
        "outputId": "1b8355ea-8bb9-4fcb-b87c-dd0b014c1f2d",
        "colab": {
          "base_uri": "https://localhost:8080/"
        }
      },
      "outputs": [
        {
          "output_type": "execute_result",
          "data": {
            "text/plain": [
              "[0.29411429166793823, 0.8850399851799011]"
            ]
          },
          "metadata": {},
          "execution_count": 26
        }
      ],
      "source": [
        "results #test loss, accuracy"
      ]
    },
    {
      "cell_type": "markdown",
      "metadata": {
        "id": "BC8F-hufaevC"
      },
      "source": [
        "### Using a trained model to generate predictions on new data"
      ]
    },
    {
      "cell_type": "code",
      "execution_count": null,
      "metadata": {
        "id": "_hJ0W3jDaevD",
        "outputId": "17e85b30-8c65-404a-b12d-08bbd63e3090",
        "colab": {
          "base_uri": "https://localhost:8080/"
        }
      },
      "outputs": [
        {
          "output_type": "execute_result",
          "data": {
            "text/plain": [
              "array([[0.22858968],\n",
              "       [0.9999449 ],\n",
              "       [0.9672936 ],\n",
              "       ...,\n",
              "       [0.161401  ],\n",
              "       [0.09347045],\n",
              "       [0.82443804]], dtype=float32)"
            ]
          },
          "metadata": {},
          "execution_count": 27
        }
      ],
      "source": [
        "model.predict(x_test)\n",
        "\n",
        "# 일부 표본의 경우 모델이 신뢰 가능하지만(0.99 이상, 0.01이하), 다른 표본(0.6,0.4)의 경우 신뢰도가 낮다 "
      ]
    },
    {
      "cell_type": "markdown",
      "metadata": {
        "id": "BGf57AduaevD"
      },
      "source": [
        "### Further experiments"
      ]
    },
    {
      "cell_type": "markdown",
      "source": [
        "- 최종 분류 전 2개의 layor 사용 -> 1개 또는 3개의 layor 사용해보기\n",
        "- 더 많거나 적은 units 사용해보기\n",
        "- binary crossentropy 대신 mse사용해보기\n",
        "- relu 대신 tanh 활성화함수 사용해보기 "
      ],
      "metadata": {
        "id": "c-cDbtKSq2_T"
      }
    },
    {
      "cell_type": "markdown",
      "metadata": {
        "id": "r8G_sqjKaevE"
      },
      "source": [
        "### Wrapping up"
      ]
    },
    {
      "cell_type": "markdown",
      "metadata": {
        "id": "RjAH3wcEaevE"
      },
      "source": [
        "## Classifying newswires: A multiclass classification example"
      ]
    },
    {
      "cell_type": "markdown",
      "source": [
        "- singlelabel multiclass classification : 하나의 data는 한 class에만 속함\n",
        "- multilabel multiclass classification : 하나의 data가 여러 class에 속함"
      ],
      "metadata": {
        "id": "DOXRsgoh_eXJ"
      }
    },
    {
      "cell_type": "markdown",
      "metadata": {
        "id": "tls7jta0aevE"
      },
      "source": [
        "### The Reuters dataset"
      ]
    },
    {
      "cell_type": "markdown",
      "source": [
        "reuters가 출간한 짧은 뉴스 와이어  \n",
        "46개의 토픽이 있으며, 각 토픽에 10개 이상의 example을 가지고 있음"
      ],
      "metadata": {
        "id": "tfLBCT4f_g8g"
      }
    },
    {
      "cell_type": "markdown",
      "metadata": {
        "id": "Fy1Y7gzdaevF"
      },
      "source": [
        "**Loading the Reuters dataset**"
      ]
    },
    {
      "cell_type": "code",
      "execution_count": 1,
      "metadata": {
        "id": "T24kkjvEaevF",
        "outputId": "0ba30662-4682-459f-8db1-d87f173c3a5f",
        "colab": {
          "base_uri": "https://localhost:8080/"
        }
      },
      "outputs": [
        {
          "output_type": "stream",
          "name": "stdout",
          "text": [
            "Downloading data from https://storage.googleapis.com/tensorflow/tf-keras-datasets/reuters.npz\n",
            "2113536/2110848 [==============================] - 0s 0us/step\n",
            "2121728/2110848 [==============================] - 0s 0us/step\n"
          ]
        }
      ],
      "source": [
        "from tensorflow.keras.datasets import reuters\n",
        "(train_data, train_labels), (test_data, test_labels) = reuters.load_data(\n",
        "    num_words=10000)"
      ]
    },
    {
      "cell_type": "code",
      "execution_count": 2,
      "metadata": {
        "id": "nqmjxa6haevF",
        "outputId": "70126fad-d16d-48a5-d70f-3563559e8b3a",
        "colab": {
          "base_uri": "https://localhost:8080/"
        }
      },
      "outputs": [
        {
          "output_type": "execute_result",
          "data": {
            "text/plain": [
              "8982"
            ]
          },
          "metadata": {},
          "execution_count": 2
        }
      ],
      "source": [
        "len(train_data)"
      ]
    },
    {
      "cell_type": "code",
      "execution_count": 3,
      "metadata": {
        "id": "0EE3x_NkaevG",
        "outputId": "d5a11f97-aa27-4940-c7dc-ec08ff3dad3e",
        "colab": {
          "base_uri": "https://localhost:8080/"
        }
      },
      "outputs": [
        {
          "output_type": "execute_result",
          "data": {
            "text/plain": [
              "2246"
            ]
          },
          "metadata": {},
          "execution_count": 3
        }
      ],
      "source": [
        "len(test_data)"
      ]
    },
    {
      "cell_type": "code",
      "execution_count": 4,
      "metadata": {
        "id": "ftqQT2_EaevG",
        "outputId": "17f5aa8c-a59b-4439-e633-6bfd13322703",
        "colab": {
          "base_uri": "https://localhost:8080/"
        }
      },
      "outputs": [
        {
          "output_type": "execute_result",
          "data": {
            "text/plain": [
              "[1,\n",
              " 245,\n",
              " 273,\n",
              " 207,\n",
              " 156,\n",
              " 53,\n",
              " 74,\n",
              " 160,\n",
              " 26,\n",
              " 14,\n",
              " 46,\n",
              " 296,\n",
              " 26,\n",
              " 39,\n",
              " 74,\n",
              " 2979,\n",
              " 3554,\n",
              " 14,\n",
              " 46,\n",
              " 4689,\n",
              " 4329,\n",
              " 86,\n",
              " 61,\n",
              " 3499,\n",
              " 4795,\n",
              " 14,\n",
              " 61,\n",
              " 451,\n",
              " 4329,\n",
              " 17,\n",
              " 12]"
            ]
          },
          "metadata": {},
          "execution_count": 4
        }
      ],
      "source": [
        "train_data[10]"
      ]
    },
    {
      "cell_type": "markdown",
      "metadata": {
        "id": "KtECD8zxaevG"
      },
      "source": [
        "**Decoding newswires back to text**"
      ]
    },
    {
      "cell_type": "code",
      "execution_count": 5,
      "metadata": {
        "id": "P6teVZQaaevH",
        "outputId": "aa099f39-e6c8-4d55-a2b8-9c29fa53bdfe",
        "colab": {
          "base_uri": "https://localhost:8080/"
        }
      },
      "outputs": [
        {
          "output_type": "stream",
          "name": "stdout",
          "text": [
            "Downloading data from https://storage.googleapis.com/tensorflow/tf-keras-datasets/reuters_word_index.json\n",
            "557056/550378 [==============================] - 0s 0us/step\n",
            "565248/550378 [==============================] - 0s 0us/step\n"
          ]
        }
      ],
      "source": [
        "word_index = reuters.get_word_index()\n",
        "reverse_word_index = dict([(value, key) for (key, value) in word_index.items()])\n",
        "decoded_newswire = \" \".join([reverse_word_index.get(i - 3, \"?\") for i in\n",
        "    train_data[0]])"
      ]
    },
    {
      "cell_type": "code",
      "execution_count": 6,
      "metadata": {
        "id": "WCu3t_4HaevH",
        "outputId": "d02705c9-97a4-49d5-ec13-d4d2192e6153",
        "colab": {
          "base_uri": "https://localhost:8080/"
        }
      },
      "outputs": [
        {
          "output_type": "execute_result",
          "data": {
            "text/plain": [
              "3"
            ]
          },
          "metadata": {},
          "execution_count": 6
        }
      ],
      "source": [
        "train_labels[10]"
      ]
    },
    {
      "cell_type": "code",
      "source": [
        "decoded_newswire"
      ],
      "metadata": {
        "id": "BtZ36Rz3_9p2",
        "outputId": "c825a236-b0da-4c54-d861-653065e595f1",
        "colab": {
          "base_uri": "https://localhost:8080/",
          "height": 89
        }
      },
      "execution_count": 9,
      "outputs": [
        {
          "output_type": "execute_result",
          "data": {
            "text/plain": [
              "'? ? ? said as a result of its december acquisition of space co it expects earnings per share in 1987 of 1 15 to 1 30 dlrs per share up from 70 cts in 1986 the company said pretax net should rise to nine to 10 mln dlrs from six mln dlrs in 1986 and rental operation revenues to 19 to 22 mln dlrs from 12 5 mln dlrs it said cash flow per share this year should be 2 50 to three dlrs reuter 3'"
            ],
            "application/vnd.google.colaboratory.intrinsic+json": {
              "type": "string"
            }
          },
          "metadata": {},
          "execution_count": 9
        }
      ]
    },
    {
      "cell_type": "markdown",
      "metadata": {
        "id": "VNBJ5V9YaevI"
      },
      "source": [
        "### Preparing the data"
      ]
    },
    {
      "cell_type": "markdown",
      "metadata": {
        "id": "7pcviomNaevI"
      },
      "source": [
        "**Encoding the input data**"
      ]
    },
    {
      "cell_type": "code",
      "execution_count": 12,
      "metadata": {
        "id": "ifCfS8oPaevJ"
      },
      "outputs": [],
      "source": [
        "x_train = vectorize_sequences(train_data)\n",
        "x_test = vectorize_sequences(test_data)"
      ]
    },
    {
      "cell_type": "markdown",
      "metadata": {
        "id": "z5c3iYxlaevJ"
      },
      "source": [
        "**Encoding the labels**"
      ]
    },
    {
      "cell_type": "code",
      "execution_count": 14,
      "metadata": {
        "id": "WNMLIzSqaevJ"
      },
      "outputs": [],
      "source": [
        "def to_one_hot(labels, dimension=46):\n",
        "    results = np.zeros((len(labels), dimension))\n",
        "    for i, label in enumerate(labels):\n",
        "        results[i, label] = 1.\n",
        "    return results\n",
        "y_train = to_one_hot(train_labels)\n",
        "y_test = to_one_hot(test_labels)"
      ]
    },
    {
      "cell_type": "code",
      "execution_count": 15,
      "metadata": {
        "id": "E3Sy5InAaevK"
      },
      "outputs": [],
      "source": [
        "# one hot encoding (keras 내장)\n",
        "from tensorflow.keras.utils import to_categorical\n",
        "y_train = to_categorical(train_labels)\n",
        "y_test = to_categorical(test_labels)"
      ]
    },
    {
      "cell_type": "markdown",
      "metadata": {
        "id": "tKGwrOiJaevK"
      },
      "source": [
        "### Building your model"
      ]
    },
    {
      "cell_type": "markdown",
      "metadata": {
        "id": "UDyOrQGyaevL"
      },
      "source": [
        "**Model definition**"
      ]
    },
    {
      "cell_type": "code",
      "execution_count": 24,
      "metadata": {
        "id": "OOaJPe-qaevL"
      },
      "outputs": [],
      "source": [
        "model = keras.Sequential([\n",
        "    layers.Dense(64, activation=\"relu\"), # 조금 더 큰 층을 사용하자! 16차원 공간으로는 46차원 클래스를 구분하기에 너무 작음 \n",
        "    layers.Dense(64, activation=\"relu\"),\n",
        "    layers.Dense(46, activation=\"softmax\") # softmax함수의 output[i]은 i에 속할 prob며, 46개의 값을 모두 더하면 1이 된다 \n",
        "])"
      ]
    },
    {
      "cell_type": "markdown",
      "metadata": {
        "id": "v9PQ0aoRaevM"
      },
      "source": [
        "**Compiling the model**"
      ]
    },
    {
      "cell_type": "code",
      "execution_count": 20,
      "metadata": {
        "id": "dRe1i8QKaevM"
      },
      "outputs": [],
      "source": [
        "model.compile(optimizer=\"rmsprop\",\n",
        "              loss=\"categorical_crossentropy\", #  두 확률 분포 사이의 거리를 측정하는 loss function.\n",
        "              metrics=[\"accuracy\"])"
      ]
    },
    {
      "cell_type": "markdown",
      "metadata": {
        "id": "PPRGj7V4aevN"
      },
      "source": [
        "### Validating your approach"
      ]
    },
    {
      "cell_type": "markdown",
      "metadata": {
        "id": "PrdVth9VaevN"
      },
      "source": [
        "**Setting aside a validation set**"
      ]
    },
    {
      "cell_type": "code",
      "execution_count": 21,
      "metadata": {
        "id": "1T_18ZDdaevN"
      },
      "outputs": [],
      "source": [
        "x_val = x_train[:1000]\n",
        "partial_x_train = x_train[1000:]\n",
        "y_val = y_train[:1000]\n",
        "partial_y_train = y_train[1000:]"
      ]
    },
    {
      "cell_type": "markdown",
      "metadata": {
        "id": "Int1Ig8uaevO"
      },
      "source": [
        "**Training the model**"
      ]
    },
    {
      "cell_type": "code",
      "execution_count": 22,
      "metadata": {
        "id": "KavY3bWmaevO",
        "outputId": "012e274a-c642-4ea2-a521-2dc405caf6ed",
        "colab": {
          "base_uri": "https://localhost:8080/"
        }
      },
      "outputs": [
        {
          "output_type": "stream",
          "name": "stdout",
          "text": [
            "Epoch 1/20\n",
            "16/16 [==============================] - 2s 64ms/step - loss: 2.7331 - accuracy: 0.5247 - val_loss: 1.8661 - val_accuracy: 0.6360\n",
            "Epoch 2/20\n",
            "16/16 [==============================] - 1s 52ms/step - loss: 1.4837 - accuracy: 0.7035 - val_loss: 1.3390 - val_accuracy: 0.7160\n",
            "Epoch 3/20\n",
            "16/16 [==============================] - 1s 50ms/step - loss: 1.0751 - accuracy: 0.7795 - val_loss: 1.1495 - val_accuracy: 0.7550\n",
            "Epoch 4/20\n",
            "16/16 [==============================] - 1s 51ms/step - loss: 0.8368 - accuracy: 0.8281 - val_loss: 1.0556 - val_accuracy: 0.7710\n",
            "Epoch 5/20\n",
            "16/16 [==============================] - 1s 49ms/step - loss: 0.6637 - accuracy: 0.8624 - val_loss: 0.9694 - val_accuracy: 0.7950\n",
            "Epoch 6/20\n",
            "16/16 [==============================] - 1s 49ms/step - loss: 0.5314 - accuracy: 0.8908 - val_loss: 0.9372 - val_accuracy: 0.8010\n",
            "Epoch 7/20\n",
            "16/16 [==============================] - 1s 49ms/step - loss: 0.4217 - accuracy: 0.9131 - val_loss: 0.8984 - val_accuracy: 0.8110\n",
            "Epoch 8/20\n",
            "16/16 [==============================] - 1s 50ms/step - loss: 0.3456 - accuracy: 0.9266 - val_loss: 0.8887 - val_accuracy: 0.8120\n",
            "Epoch 9/20\n",
            "16/16 [==============================] - 1s 51ms/step - loss: 0.2819 - accuracy: 0.9390 - val_loss: 0.9268 - val_accuracy: 0.8140\n",
            "Epoch 10/20\n",
            "16/16 [==============================] - 1s 49ms/step - loss: 0.2436 - accuracy: 0.9440 - val_loss: 0.8995 - val_accuracy: 0.8210\n",
            "Epoch 11/20\n",
            "16/16 [==============================] - 1s 50ms/step - loss: 0.2064 - accuracy: 0.9501 - val_loss: 0.9139 - val_accuracy: 0.8150\n",
            "Epoch 12/20\n",
            "16/16 [==============================] - 1s 51ms/step - loss: 0.1846 - accuracy: 0.9519 - val_loss: 0.9988 - val_accuracy: 0.7980\n",
            "Epoch 13/20\n",
            "16/16 [==============================] - 1s 50ms/step - loss: 0.1643 - accuracy: 0.9523 - val_loss: 0.9787 - val_accuracy: 0.8130\n",
            "Epoch 14/20\n",
            "16/16 [==============================] - 1s 50ms/step - loss: 0.1527 - accuracy: 0.9544 - val_loss: 1.0050 - val_accuracy: 0.8090\n",
            "Epoch 15/20\n",
            "16/16 [==============================] - 1s 50ms/step - loss: 0.1370 - accuracy: 0.9560 - val_loss: 0.9859 - val_accuracy: 0.8100\n",
            "Epoch 16/20\n",
            "16/16 [==============================] - 1s 50ms/step - loss: 0.1341 - accuracy: 0.9563 - val_loss: 1.0301 - val_accuracy: 0.8030\n",
            "Epoch 17/20\n",
            "16/16 [==============================] - 1s 50ms/step - loss: 0.1257 - accuracy: 0.9553 - val_loss: 1.0881 - val_accuracy: 0.7940\n",
            "Epoch 18/20\n",
            "16/16 [==============================] - 1s 49ms/step - loss: 0.1177 - accuracy: 0.9578 - val_loss: 1.0784 - val_accuracy: 0.8060\n",
            "Epoch 19/20\n",
            "16/16 [==============================] - 1s 50ms/step - loss: 0.1148 - accuracy: 0.9580 - val_loss: 1.0546 - val_accuracy: 0.8070\n",
            "Epoch 20/20\n",
            "16/16 [==============================] - 1s 49ms/step - loss: 0.1134 - accuracy: 0.9549 - val_loss: 1.1865 - val_accuracy: 0.7880\n"
          ]
        }
      ],
      "source": [
        "history = model.fit(partial_x_train,\n",
        "                    partial_y_train,\n",
        "                    epochs=20,\n",
        "                    batch_size=512,\n",
        "                    validation_data=(x_val, y_val))"
      ]
    },
    {
      "cell_type": "markdown",
      "metadata": {
        "id": "Q86bkksOaevO"
      },
      "source": [
        "**Plotting the training and validation loss**"
      ]
    },
    {
      "cell_type": "code",
      "execution_count": 25,
      "metadata": {
        "id": "1tv464XmaevP",
        "outputId": "28d34949-7641-486c-f86d-76550ea13056",
        "colab": {
          "base_uri": "https://localhost:8080/",
          "height": 295
        }
      },
      "outputs": [
        {
          "output_type": "display_data",
          "data": {
            "text/plain": [
              "<Figure size 432x288 with 1 Axes>"
            ],
            "image/png": "[encoded data removed]"
          },
          "metadata": {
            "needs_background": "light"
          }
        }
      ],
      "source": [
        "import matplotlib.pyplot as plt\n",
        "loss = history.history[\"loss\"]\n",
        "val_loss = history.history[\"val_loss\"]\n",
        "epochs = range(1, len(loss) + 1)\n",
        "plt.plot(epochs, loss, \"bo\", label=\"Training loss\")\n",
        "plt.plot(epochs, val_loss, \"b\", label=\"Validation loss\")\n",
        "plt.title(\"Training and validation loss\")\n",
        "plt.xlabel(\"Epochs\")\n",
        "plt.ylabel(\"Loss\")\n",
        "plt.legend()\n",
        "plt.show()"
      ]
    },
    {
      "cell_type": "markdown",
      "metadata": {
        "id": "2s-GiZs9aevP"
      },
      "source": [
        "**Plotting the training and validation accuracy**"
      ]
    },
    {
      "cell_type": "code",
      "execution_count": 26,
      "metadata": {
        "id": "z0jRPTtEaevQ",
        "outputId": "de216982-3a6f-4b12-ebef-6ca8f8c60cc2",
        "colab": {
          "base_uri": "https://localhost:8080/",
          "height": 295
        }
      },
      "outputs": [
        {
          "output_type": "display_data",
          "data": {
            "text/plain": [
              "<Figure size 432x288 with 1 Axes>"
            ],
            "image/png": "[encoded data removed]"
          },
          "metadata": {
            "needs_background": "light"
          }
        }
      ],
      "source": [
        "plt.clf()\n",
        "acc = history.history[\"accuracy\"]\n",
        "val_acc = history.history[\"val_accuracy\"]\n",
        "plt.plot(epochs, acc, \"bo\", label=\"Training accuracy\")\n",
        "plt.plot(epochs, val_acc, \"b\", label=\"Validation accuracy\")\n",
        "plt.title(\"Training and validation accuracy\")\n",
        "plt.xlabel(\"Epochs\")\n",
        "plt.ylabel(\"Accuracy\")\n",
        "plt.legend()\n",
        "plt.show()"
      ]
    },
    {
      "cell_type": "markdown",
      "source": [
        "epochs = 9 정도에서 오버피팅이 발생한다."
      ],
      "metadata": {
        "id": "qlzOgkjMEUGC"
      }
    },
    {
      "cell_type": "markdown",
      "metadata": {
        "id": "A7pnL8zUaevQ"
      },
      "source": [
        "**Retraining a model from scratch**"
      ]
    },
    {
      "cell_type": "code",
      "execution_count": 27,
      "metadata": {
        "id": "DTPQdvbQaevR",
        "outputId": "72b54dcc-079a-47e5-a01c-1877ed532889",
        "colab": {
          "base_uri": "https://localhost:8080/"
        }
      },
      "outputs": [
        {
          "output_type": "stream",
          "name": "stdout",
          "text": [
            "Epoch 1/9\n",
            "18/18 [==============================] - 1s 44ms/step - loss: 2.4905 - accuracy: 0.4774\n",
            "Epoch 2/9\n",
            "18/18 [==============================] - 1s 43ms/step - loss: 1.3528 - accuracy: 0.7145\n",
            "Epoch 3/9\n",
            "18/18 [==============================] - 1s 44ms/step - loss: 1.0050 - accuracy: 0.7841\n",
            "Epoch 4/9\n",
            "18/18 [==============================] - 1s 44ms/step - loss: 0.7854 - accuracy: 0.8292\n",
            "Epoch 5/9\n",
            "18/18 [==============================] - 1s 43ms/step - loss: 0.6238 - accuracy: 0.8674\n",
            "Epoch 6/9\n",
            "18/18 [==============================] - 1s 43ms/step - loss: 0.4960 - accuracy: 0.8952\n",
            "Epoch 7/9\n",
            "18/18 [==============================] - 1s 44ms/step - loss: 0.3972 - accuracy: 0.9162\n",
            "Epoch 8/9\n",
            "18/18 [==============================] - 1s 43ms/step - loss: 0.3249 - accuracy: 0.9292\n",
            "Epoch 9/9\n",
            "18/18 [==============================] - 1s 44ms/step - loss: 0.2695 - accuracy: 0.9399\n",
            "71/71 [==============================] - 0s 3ms/step - loss: 0.9738 - accuracy: 0.7850\n"
          ]
        }
      ],
      "source": [
        "model = keras.Sequential([\n",
        "  layers.Dense(64, activation=\"relu\"),\n",
        "  layers.Dense(64, activation=\"relu\"),\n",
        "  layers.Dense(46, activation=\"softmax\")\n",
        "])\n",
        "model.compile(optimizer=\"rmsprop\",\n",
        "              loss=\"categorical_crossentropy\",\n",
        "              metrics=[\"accuracy\"])\n",
        "model.fit(x_train,\n",
        "          y_train,\n",
        "          epochs=9,\n",
        "          batch_size=512)\n",
        "results = model.evaluate(x_test, y_test)"
      ]
    },
    {
      "cell_type": "code",
      "execution_count": 28,
      "metadata": {
        "id": "bkv5v6udaevR",
        "outputId": "2f654572-751b-4bf8-84d4-8adcd5fb29f9",
        "colab": {
          "base_uri": "https://localhost:8080/"
        }
      },
      "outputs": [
        {
          "output_type": "execute_result",
          "data": {
            "text/plain": [
              "[0.973783016204834, 0.7849510312080383]"
            ]
          },
          "metadata": {},
          "execution_count": 28
        }
      ],
      "source": [
        "results # 약 78%의 정확도"
      ]
    },
    {
      "cell_type": "code",
      "execution_count": 29,
      "metadata": {
        "id": "hoe-2Ok0aevS",
        "outputId": "794b3005-500e-489d-8ec5-35a926ef3b5c",
        "colab": {
          "base_uri": "https://localhost:8080/"
        }
      },
      "outputs": [
        {
          "output_type": "execute_result",
          "data": {
            "text/plain": [
              "0.18833481745325023"
            ]
          },
          "metadata": {},
          "execution_count": 29
        }
      ],
      "source": [
        "import copy\n",
        "test_labels_copy = copy.copy(test_labels)\n",
        "np.random.shuffle(test_labels_copy)\n",
        "hits_array = np.array(test_labels) == np.array(test_labels_copy)\n",
        "hits_array.mean()\n",
        "# 이건 뭘까....................................................................???"
      ]
    },
    {
      "cell_type": "markdown",
      "metadata": {
        "id": "qkPcPknjaevS"
      },
      "source": [
        "### Generating predictions on new data"
      ]
    },
    {
      "cell_type": "code",
      "execution_count": 30,
      "metadata": {
        "id": "4jApcXzdaevT"
      },
      "outputs": [],
      "source": [
        "predictions = model.predict(x_test)"
      ]
    },
    {
      "cell_type": "code",
      "execution_count": 31,
      "metadata": {
        "id": "BgoctvblaevT",
        "outputId": "f8c3d55c-6928-426c-983e-23a0ddb14270",
        "colab": {
          "base_uri": "https://localhost:8080/"
        }
      },
      "outputs": [
        {
          "output_type": "execute_result",
          "data": {
            "text/plain": [
              "(46,)"
            ]
          },
          "metadata": {},
          "execution_count": 31
        }
      ],
      "source": [
        "predictions[0].shape"
      ]
    },
    {
      "cell_type": "code",
      "source": [
        "predictions[0]"
      ],
      "metadata": {
        "id": "1-F9M0SNFm4v",
        "outputId": "09f852f4-84c8-4782-c0e7-4c8ad8783475",
        "colab": {
          "base_uri": "https://localhost:8080/"
        }
      },
      "execution_count": 38,
      "outputs": [
        {
          "output_type": "execute_result",
          "data": {
            "text/plain": [
              "array([6.78879906e-06, 5.03536321e-05, 2.03105174e-06, 9.16004002e-01,\n",
              "       8.01233575e-02, 1.99025635e-06, 7.78363483e-06, 3.07450573e-05,\n",
              "       7.22226163e-04, 4.94765686e-07, 5.19944042e-05, 2.58993299e-04,\n",
              "       7.64691067e-05, 8.53158417e-05, 2.22782219e-05, 2.37533859e-05,\n",
              "       5.29270736e-04, 1.20836550e-04, 2.56715848e-05, 5.20560483e-04,\n",
              "       2.72248610e-04, 3.77403107e-04, 1.01483856e-05, 1.10872425e-04,\n",
              "       4.36205710e-06, 2.72916295e-05, 2.81941129e-06, 3.40042316e-05,\n",
              "       2.68721506e-05, 8.38007982e-05, 2.07360208e-05, 3.40782462e-05,\n",
              "       2.03549334e-05, 4.08385768e-06, 1.96981655e-05, 9.27697693e-06,\n",
              "       1.43052948e-05, 1.79983181e-05, 6.07085076e-06, 6.57340424e-05,\n",
              "       8.55945109e-06, 1.47025188e-04, 7.34358935e-07, 1.41089731e-05,\n",
              "       2.20628863e-06, 2.75952488e-07], dtype=float32)"
            ]
          },
          "metadata": {},
          "execution_count": 38
        }
      ]
    },
    {
      "cell_type": "code",
      "execution_count": 32,
      "metadata": {
        "id": "UOYF6LsUaevT",
        "outputId": "0acdc72f-2578-4541-ec6d-b893abbe2ded",
        "colab": {
          "base_uri": "https://localhost:8080/"
        }
      },
      "outputs": [
        {
          "output_type": "execute_result",
          "data": {
            "text/plain": [
              "1.0"
            ]
          },
          "metadata": {},
          "execution_count": 32
        }
      ],
      "source": [
        "np.sum(predictions[0])"
      ]
    },
    {
      "cell_type": "code",
      "execution_count": 39,
      "metadata": {
        "id": "36aqXlgqaevU",
        "outputId": "66ebf3d8-3f92-45b4-e925-62c4368ae999",
        "colab": {
          "base_uri": "https://localhost:8080/"
        }
      },
      "outputs": [
        {
          "output_type": "execute_result",
          "data": {
            "text/plain": [
              "3"
            ]
          },
          "metadata": {},
          "execution_count": 39
        }
      ],
      "source": [
        "np.argmax(predictions[0])"
      ]
    },
    {
      "cell_type": "markdown",
      "metadata": {
        "id": "3gFUtIn7aevU"
      },
      "source": [
        "### A different way to handle the labels and the loss"
      ]
    },
    {
      "cell_type": "code",
      "execution_count": 40,
      "metadata": {
        "id": "bxUQXsokaevU"
      },
      "outputs": [],
      "source": [
        "y_train = np.array(train_labels)\n",
        "y_test = np.array(test_labels)"
      ]
    },
    {
      "cell_type": "code",
      "execution_count": 41,
      "metadata": {
        "id": "6lCfml4kaevV"
      },
      "outputs": [],
      "source": [
        "model.compile(optimizer=\"rmsprop\",\n",
        "              loss=\"sparse_categorical_crossentropy\",\n",
        "              metrics=[\"accuracy\"])"
      ]
    },
    {
      "cell_type": "markdown",
      "metadata": {
        "id": "BvF8FJI4aevV"
      },
      "source": [
        "### The importance of having sufficiently large intermediate layers"
      ]
    },
    {
      "cell_type": "markdown",
      "metadata": {
        "id": "LoZlxyYWaevV"
      },
      "source": [
        "**A model with an information bottleneck**"
      ]
    },
    {
      "cell_type": "code",
      "execution_count": 42,
      "metadata": {
        "id": "zrs_kSGWaevW",
        "outputId": "4f659b2a-5963-4baf-9d81-f6742f52107a",
        "colab": {
          "base_uri": "https://localhost:8080/"
        }
      },
      "outputs": [
        {
          "output_type": "stream",
          "name": "stdout",
          "text": [
            "Epoch 1/20\n",
            "63/63 [==============================] - 2s 21ms/step - loss: 3.0788 - accuracy: 0.0873 - val_loss: 2.3693 - val_accuracy: 0.3000\n",
            "Epoch 2/20\n",
            "63/63 [==============================] - 1s 18ms/step - loss: 1.8819 - accuracy: 0.5173 - val_loss: 1.6085 - val_accuracy: 0.6550\n",
            "Epoch 3/20\n",
            "63/63 [==============================] - 1s 18ms/step - loss: 1.3610 - accuracy: 0.6740 - val_loss: 1.4366 - val_accuracy: 0.6550\n",
            "Epoch 4/20\n",
            "63/63 [==============================] - 1s 18ms/step - loss: 1.1712 - accuracy: 0.6963 - val_loss: 1.3801 - val_accuracy: 0.6710\n",
            "Epoch 5/20\n",
            "63/63 [==============================] - 1s 18ms/step - loss: 1.0438 - accuracy: 0.7296 - val_loss: 1.3421 - val_accuracy: 0.6820\n",
            "Epoch 6/20\n",
            "63/63 [==============================] - 1s 18ms/step - loss: 0.9401 - accuracy: 0.7750 - val_loss: 1.3363 - val_accuracy: 0.6950\n",
            "Epoch 7/20\n",
            "63/63 [==============================] - 1s 22ms/step - loss: 0.8520 - accuracy: 0.7934 - val_loss: 1.3570 - val_accuracy: 0.7000\n",
            "Epoch 8/20\n",
            "63/63 [==============================] - 2s 24ms/step - loss: 0.7801 - accuracy: 0.8072 - val_loss: 1.3884 - val_accuracy: 0.7030\n",
            "Epoch 9/20\n",
            "63/63 [==============================] - 1s 19ms/step - loss: 0.7159 - accuracy: 0.8202 - val_loss: 1.4222 - val_accuracy: 0.7100\n",
            "Epoch 10/20\n",
            "63/63 [==============================] - 1s 19ms/step - loss: 0.6642 - accuracy: 0.8326 - val_loss: 1.4750 - val_accuracy: 0.7070\n",
            "Epoch 11/20\n",
            "63/63 [==============================] - 1s 19ms/step - loss: 0.6180 - accuracy: 0.8433 - val_loss: 1.5045 - val_accuracy: 0.7130\n",
            "Epoch 12/20\n",
            "63/63 [==============================] - 1s 19ms/step - loss: 0.5773 - accuracy: 0.8520 - val_loss: 1.5595 - val_accuracy: 0.7090\n",
            "Epoch 13/20\n",
            "63/63 [==============================] - 1s 18ms/step - loss: 0.5407 - accuracy: 0.8629 - val_loss: 1.6405 - val_accuracy: 0.7040\n",
            "Epoch 14/20\n",
            "63/63 [==============================] - 1s 19ms/step - loss: 0.5131 - accuracy: 0.8725 - val_loss: 1.6322 - val_accuracy: 0.7050\n",
            "Epoch 15/20\n",
            "63/63 [==============================] - 1s 18ms/step - loss: 0.4856 - accuracy: 0.8761 - val_loss: 1.7332 - val_accuracy: 0.7000\n",
            "Epoch 16/20\n",
            "63/63 [==============================] - 1s 18ms/step - loss: 0.4629 - accuracy: 0.8797 - val_loss: 1.7321 - val_accuracy: 0.7040\n",
            "Epoch 17/20\n",
            "63/63 [==============================] - 1s 19ms/step - loss: 0.4417 - accuracy: 0.8840 - val_loss: 1.8148 - val_accuracy: 0.6980\n",
            "Epoch 18/20\n",
            "63/63 [==============================] - 1s 18ms/step - loss: 0.4261 - accuracy: 0.8856 - val_loss: 1.8829 - val_accuracy: 0.6970\n",
            "Epoch 19/20\n",
            "63/63 [==============================] - 1s 19ms/step - loss: 0.4063 - accuracy: 0.8886 - val_loss: 1.9276 - val_accuracy: 0.6990\n",
            "Epoch 20/20\n",
            "63/63 [==============================] - 1s 18ms/step - loss: 0.3929 - accuracy: 0.8899 - val_loss: 1.9673 - val_accuracy: 0.6980\n"
          ]
        },
        {
          "output_type": "execute_result",
          "data": {
            "text/plain": [
              "<keras.callbacks.History at 0x7f86098e95d0>"
            ]
          },
          "metadata": {},
          "execution_count": 42
        }
      ],
      "source": [
        "model = keras.Sequential([\n",
        "    layers.Dense(64, activation=\"relu\"),\n",
        "    layers.Dense(4, activation=\"relu\"),\n",
        "    layers.Dense(46, activation=\"softmax\")\n",
        "])\n",
        "model.compile(optimizer=\"rmsprop\",\n",
        "              loss=\"categorical_crossentropy\", \n",
        "# categorical crossentropy는 레이블이 범주형 인코딩일 때 -> 정수 레이블을 사용할 때는 sparse_categorical_crossentropy를 사용\n",
        "              metrics=[\"accuracy\"])\n",
        "model.fit(partial_x_train,\n",
        "          partial_y_train,\n",
        "          epochs=20,\n",
        "          batch_size=128,\n",
        "          validation_data=(x_val, y_val))"
      ]
    },
    {
      "cell_type": "markdown",
      "metadata": {
        "id": "xEqzFV_uaevW"
      },
      "source": [
        "### Further experiments"
      ]
    },
    {
      "cell_type": "markdown",
      "source": [
        "- 최종 분류 전 2개의 layor 사용 -> 1개 또는 3개의 layor 사용해보기\n",
        "- 더 많거나 적은 units 사용해보기"
      ],
      "metadata": {
        "id": "u9dvoe6GG2dN"
      }
    },
    {
      "cell_type": "markdown",
      "metadata": {
        "id": "fl4rHLWyaevW"
      },
      "source": [
        "### Wrapping up"
      ]
    },
    {
      "cell_type": "markdown",
      "metadata": {
        "id": "80fwlF7QaevX"
      },
      "source": [
        "## Predicting house prices: A regression example"
      ]
    },
    {
      "cell_type": "markdown",
      "source": [
        "* regression : 예측 <-> logistic regression ; 분류"
      ],
      "metadata": {
        "id": "sSDsQ1JD_HEC"
      }
    },
    {
      "cell_type": "markdown",
      "metadata": {
        "id": "kRRTm9paaevX"
      },
      "source": [
        "### The Boston Housing Price dataset"
      ]
    },
    {
      "cell_type": "markdown",
      "metadata": {
        "id": "PhbsZv1vaevX"
      },
      "source": [
        "**Loading the Boston housing dataset**"
      ]
    },
    {
      "cell_type": "code",
      "execution_count": 43,
      "metadata": {
        "id": "AP20fcziaevY",
        "outputId": "1030b551-c179-4dfa-bde8-eac4cb9823b7",
        "colab": {
          "base_uri": "https://localhost:8080/"
        }
      },
      "outputs": [
        {
          "output_type": "stream",
          "name": "stdout",
          "text": [
            "Downloading data from https://storage.googleapis.com/tensorflow/tf-keras-datasets/boston_housing.npz\n",
            "57344/57026 [==============================] - 0s 0us/step\n",
            "65536/57026 [==================================] - 0s 0us/step\n"
          ]
        }
      ],
      "source": [
        "from tensorflow.keras.datasets import boston_housing\n",
        "(train_data, train_targets), (test_data, test_targets) = boston_housing.load_data()"
      ]
    },
    {
      "cell_type": "code",
      "execution_count": 55,
      "metadata": {
        "id": "shly6xv9aevY",
        "outputId": "60f12e61-1f95-4f0f-bd22-42dc0b075632",
        "colab": {
          "base_uri": "https://localhost:8080/"
        }
      },
      "outputs": [
        {
          "output_type": "execute_result",
          "data": {
            "text/plain": [
              "(404, 13)"
            ]
          },
          "metadata": {},
          "execution_count": 55
        }
      ],
      "source": [
        "train_data.shape"
      ]
    },
    {
      "cell_type": "code",
      "execution_count": 45,
      "metadata": {
        "id": "hUlte9bhaevY",
        "outputId": "e73895ab-b826-46d8-af8b-ea7f1d6776d8",
        "colab": {
          "base_uri": "https://localhost:8080/"
        }
      },
      "outputs": [
        {
          "output_type": "execute_result",
          "data": {
            "text/plain": [
              "(102, 13)"
            ]
          },
          "metadata": {},
          "execution_count": 45
        }
      ],
      "source": [
        "test_data.shape"
      ]
    },
    {
      "cell_type": "code",
      "execution_count": 54,
      "metadata": {
        "id": "mBltVM7AaevZ",
        "outputId": "240c42ab-c99d-4f97-e702-fe8730658f77",
        "colab": {
          "base_uri": "https://localhost:8080/"
        }
      },
      "outputs": [
        {
          "output_type": "execute_result",
          "data": {
            "text/plain": [
              "array([15.2, 42.3, 50. , 21.1, 17.7, 18.5, 11.3, 15.6, 15.6, 14.4, 12.1,\n",
              "       17.9, 23.1, 19.9, 15.7,  8.8, 50. , 22.5, 24.1, 27.5, 10.9, 30.8,\n",
              "       32.9, 24. , 18.5, 13.3, 22.9, 34.7, 16.6, 17.5, 22.3, 16.1, 14.9,\n",
              "       23.1, 34.9, 25. , 13.9, 13.1, 20.4, 20. , 15.2, 24.7, 22.2, 16.7,\n",
              "       12.7, 15.6, 18.4, 21. , 30.1, 15.1, 18.7,  9.6, 31.5, 24.8, 19.1,\n",
              "       22. , 14.5, 11. , 32. , 29.4, 20.3, 24.4, 14.6, 19.5, 14.1, 14.3,\n",
              "       15.6, 10.5,  6.3, 19.3, 19.3, 13.4, 36.4, 17.8, 13.5, 16.5,  8.3,\n",
              "       14.3, 16. , 13.4, 28.6, 43.5, 20.2, 22. , 23. , 20.7, 12.5, 48.5,\n",
              "       14.6, 13.4, 23.7, 50. , 21.7, 39.8, 38.7, 22.2, 34.9, 22.5, 31.1,\n",
              "       28.7, 46. , 41.7, 21. , 26.6, 15. , 24.4, 13.3, 21.2, 11.7, 21.7,\n",
              "       19.4, 50. , 22.8, 19.7, 24.7, 36.2, 14.2, 18.9, 18.3, 20.6, 24.6,\n",
              "       18.2,  8.7, 44. , 10.4, 13.2, 21.2, 37. , 30.7, 22.9, 20. , 19.3,\n",
              "       31.7, 32. , 23.1, 18.8, 10.9, 50. , 19.6,  5. , 14.4, 19.8, 13.8,\n",
              "       19.6, 23.9, 24.5, 25. , 19.9, 17.2, 24.6, 13.5, 26.6, 21.4, 11.9,\n",
              "       22.6, 19.6,  8.5, 23.7, 23.1, 22.4, 20.5, 23.6, 18.4, 35.2, 23.1,\n",
              "       27.9, 20.6, 23.7, 28. , 13.6, 27.1, 23.6, 20.6, 18.2, 21.7, 17.1,\n",
              "        8.4, 25.3, 13.8, 22.2, 18.4, 20.7, 31.6, 30.5, 20.3,  8.8, 19.2,\n",
              "       19.4, 23.1, 23. , 14.8, 48.8, 22.6, 33.4, 21.1, 13.6, 32.2, 13.1,\n",
              "       23.4, 18.9, 23.9, 11.8, 23.3, 22.8, 19.6, 16.7, 13.4, 22.2, 20.4,\n",
              "       21.8, 26.4, 14.9, 24.1, 23.8, 12.3, 29.1, 21. , 19.5, 23.3, 23.8,\n",
              "       17.8, 11.5, 21.7, 19.9, 25. , 33.4, 28.5, 21.4, 24.3, 27.5, 33.1,\n",
              "       16.2, 23.3, 48.3, 22.9, 22.8, 13.1, 12.7, 22.6, 15. , 15.3, 10.5,\n",
              "       24. , 18.5, 21.7, 19.5, 33.2, 23.2,  5. , 19.1, 12.7, 22.3, 10.2,\n",
              "       13.9, 16.3, 17. , 20.1, 29.9, 17.2, 37.3, 45.4, 17.8, 23.2, 29. ,\n",
              "       22. , 18. , 17.4, 34.6, 20.1, 25. , 15.6, 24.8, 28.2, 21.2, 21.4,\n",
              "       23.8, 31. , 26.2, 17.4, 37.9, 17.5, 20. ,  8.3, 23.9,  8.4, 13.8,\n",
              "        7.2, 11.7, 17.1, 21.6, 50. , 16.1, 20.4, 20.6, 21.4, 20.6, 36.5,\n",
              "        8.5, 24.8, 10.8, 21.9, 17.3, 18.9, 36.2, 14.9, 18.2, 33.3, 21.8,\n",
              "       19.7, 31.6, 24.8, 19.4, 22.8,  7.5, 44.8, 16.8, 18.7, 50. , 50. ,\n",
              "       19.5, 20.1, 50. , 17.2, 20.8, 19.3, 41.3, 20.4, 20.5, 13.8, 16.5,\n",
              "       23.9, 20.6, 31.5, 23.3, 16.8, 14. , 33.8, 36.1, 12.8, 18.3, 18.7,\n",
              "       19.1, 29. , 30.1, 50. , 50. , 22. , 11.9, 37.6, 50. , 22.7, 20.8,\n",
              "       23.5, 27.9, 50. , 19.3, 23.9, 22.6, 15.2, 21.7, 19.2, 43.8, 20.3,\n",
              "       33.2, 19.9, 22.5, 32.7, 22. , 17.1, 19. , 15. , 16.1, 25.1, 23.7,\n",
              "       28.7, 37.2, 22.6, 16.4, 25. , 29.8, 22.1, 17.4, 18.1, 30.3, 17.5,\n",
              "       24.7, 12.6, 26.5, 28.7, 13.3, 10.4, 24.4, 23. , 20. , 17.8,  7. ,\n",
              "       11.8, 24.4, 13.8, 19.4, 25.2, 19.4, 19.4, 29.1])"
            ]
          },
          "metadata": {},
          "execution_count": 54
        }
      ],
      "source": [
        "train_targets # 주택의 중간 가격, 1000$ 단위"
      ]
    },
    {
      "cell_type": "markdown",
      "metadata": {
        "id": "jLUi2UXfaevZ"
      },
      "source": [
        "### Preparing the data"
      ]
    },
    {
      "cell_type": "markdown",
      "metadata": {
        "id": "yJ8l63m7aevZ"
      },
      "source": [
        "**Normalizing the data**"
      ]
    },
    {
      "cell_type": "markdown",
      "source": [
        "different scale -> nomalizing 필요"
      ],
      "metadata": {
        "id": "AFv412UpI5Bt"
      }
    },
    {
      "cell_type": "code",
      "execution_count": 56,
      "metadata": {
        "id": "KSG1GyzSaeva"
      },
      "outputs": [],
      "source": [
        "mean = train_data.mean(axis=0)\n",
        "train_data -= mean\n",
        "std = train_data.std(axis=0)\n",
        "train_data /= std\n",
        "test_data -= mean\n",
        "test_data /= std\n",
        "# 반드시 train data의 mean과 std를 사용해 정규화 "
      ]
    },
    {
      "cell_type": "markdown",
      "metadata": {
        "id": "kTGYxKSYaeva"
      },
      "source": [
        "### Building your model"
      ]
    },
    {
      "cell_type": "markdown",
      "metadata": {
        "id": "1J92-FRPaeva"
      },
      "source": [
        "**Model definition**"
      ]
    },
    {
      "cell_type": "code",
      "execution_count": 59,
      "metadata": {
        "id": "qtgh9q_Eaevb"
      },
      "outputs": [],
      "source": [
        "def build_model():\n",
        "    model = keras.Sequential([\n",
        "        layers.Dense(64, activation=\"relu\"), # small trainign data -> overfitting 확률 높음 -> 작은 model\n",
        "        layers.Dense(64, activation=\"relu\"),\n",
        "        layers.Dense(1) # linear layor, scalar unit을 위한 구성 \n",
        "    ])\n",
        "    model.compile(optimizer=\"rmsprop\", loss=\"mse\", metrics=[\"mae\"]) # loss = mse : 회귀 문제에서 널리 사용됨 / matrics = mean absolute error : 예측과 타깃 사이의 절댓값\n",
        "    return model"
      ]
    },
    {
      "cell_type": "markdown",
      "metadata": {
        "id": "SxFSTUmuaevb"
      },
      "source": [
        "### Validating your approach using K-fold validation"
      ]
    },
    {
      "cell_type": "markdown",
      "metadata": {
        "id": "J1NiM3ODaevc"
      },
      "source": [
        "**K-fold validation**"
      ]
    },
    {
      "cell_type": "code",
      "execution_count": 60,
      "metadata": {
        "id": "FH4MJ_eNaevc",
        "outputId": "c9239d3d-a8dd-4f45-e72d-10107de0258e",
        "colab": {
          "base_uri": "https://localhost:8080/"
        }
      },
      "outputs": [
        {
          "output_type": "stream",
          "name": "stdout",
          "text": [
            "Processing fold #0\n",
            "Processing fold #1\n",
            "Processing fold #2\n",
            "Processing fold #3\n"
          ]
        }
      ],
      "source": [
        "k = 4\n",
        "num_val_samples = len(train_data) // k\n",
        "num_epochs = 100\n",
        "all_scores = []\n",
        "for i in range(k):\n",
        "    print(f\"Processing fold #{i}\")\n",
        "    val_data = train_data[i * num_val_samples: (i + 1) * num_val_samples]\n",
        "    val_targets = train_targets[i * num_val_samples: (i + 1) * num_val_samples]\n",
        "    partial_train_data = np.concatenate(\n",
        "        [train_data[:i * num_val_samples],\n",
        "         train_data[(i + 1) * num_val_samples:]],\n",
        "        axis=0)\n",
        "    partial_train_targets = np.concatenate(\n",
        "        [train_targets[:i * num_val_samples],\n",
        "         train_targets[(i + 1) * num_val_samples:]],\n",
        "        axis=0)\n",
        "    model = build_model()\n",
        "    model.fit(partial_train_data, partial_train_targets,\n",
        "              epochs=num_epochs, batch_size=16, verbose=0)\n",
        "    val_mse, val_mae = model.evaluate(val_data, val_targets, verbose=0)\n",
        "    all_scores.append(val_mae)"
      ]
    },
    {
      "cell_type": "code",
      "execution_count": 61,
      "metadata": {
        "id": "t0jcvj7Vaevc",
        "outputId": "f5f3b24f-1690-4024-9ac7-891045859893",
        "colab": {
          "base_uri": "https://localhost:8080/"
        }
      },
      "outputs": [
        {
          "output_type": "execute_result",
          "data": {
            "text/plain": [
              "[2.2002570629119873, 2.4157137870788574, 2.393690586090088, 2.42057204246521]"
            ]
          },
          "metadata": {},
          "execution_count": 61
        }
      ],
      "source": [
        "all_scores"
      ]
    },
    {
      "cell_type": "code",
      "execution_count": 62,
      "metadata": {
        "id": "JuEtnl4Raevd",
        "outputId": "909013a5-bcb9-48fa-a948-d1e1eef7bdbc",
        "colab": {
          "base_uri": "https://localhost:8080/"
        }
      },
      "outputs": [
        {
          "output_type": "execute_result",
          "data": {
            "text/plain": [
              "2.3575583696365356"
            ]
          },
          "metadata": {},
          "execution_count": 62
        }
      ],
      "source": [
        "np.mean(all_scores)"
      ]
    },
    {
      "cell_type": "markdown",
      "metadata": {
        "id": "jPXb4xdRaevd"
      },
      "source": [
        "**Saving the validation logs at each fold**"
      ]
    },
    {
      "cell_type": "markdown",
      "source": [
        "ephochs을 500으로 늘려 훈련"
      ],
      "metadata": {
        "id": "-Drd2hUXLE-e"
      }
    },
    {
      "cell_type": "code",
      "execution_count": 63,
      "metadata": {
        "id": "kXGuS_Maaevd",
        "outputId": "daa4dc1f-9be0-4016-a354-119c4e2defa6",
        "colab": {
          "base_uri": "https://localhost:8080/"
        }
      },
      "outputs": [
        {
          "output_type": "stream",
          "name": "stdout",
          "text": [
            "Processing fold #0\n",
            "Processing fold #1\n",
            "Processing fold #2\n",
            "Processing fold #3\n"
          ]
        }
      ],
      "source": [
        "num_epochs = 500\n",
        "all_mae_histories = []\n",
        "for i in range(k):\n",
        "    print(f\"Processing fold #{i}\")\n",
        "    val_data = train_data[i * num_val_samples: (i + 1) * num_val_samples]\n",
        "    val_targets = train_targets[i * num_val_samples: (i + 1) * num_val_samples]\n",
        "    partial_train_data = np.concatenate(\n",
        "        [train_data[:i * num_val_samples],\n",
        "         train_data[(i + 1) * num_val_samples:]],\n",
        "        axis=0)\n",
        "    partial_train_targets = np.concatenate(\n",
        "        [train_targets[:i * num_val_samples],\n",
        "         train_targets[(i + 1) * num_val_samples:]],\n",
        "        axis=0)\n",
        "    model = build_model()\n",
        "    history = model.fit(partial_train_data, partial_train_targets,\n",
        "                        validation_data=(val_data, val_targets),\n",
        "                        epochs=num_epochs, batch_size=16, verbose=0)\n",
        "    mae_history = history.history[\"val_mae\"]\n",
        "    all_mae_histories.append(mae_history)"
      ]
    },
    {
      "cell_type": "markdown",
      "metadata": {
        "id": "hnssqvtCaeve"
      },
      "source": [
        "**Building the history of successive mean K-fold validation scores**"
      ]
    },
    {
      "cell_type": "code",
      "execution_count": 64,
      "metadata": {
        "id": "pSPEE_o9aeve"
      },
      "outputs": [],
      "source": [
        "average_mae_history = [\n",
        "    np.mean([x[i] for x in all_mae_histories]) for i in range(num_epochs)]"
      ]
    },
    {
      "cell_type": "markdown",
      "metadata": {
        "id": "VgX9h_FUaeve"
      },
      "source": [
        "**Plotting validation scores**"
      ]
    },
    {
      "cell_type": "code",
      "execution_count": 65,
      "metadata": {
        "id": "LGo2-O9waeve",
        "outputId": "a0e84975-8ef0-4afc-8cfc-40cafc16455e",
        "colab": {
          "base_uri": "https://localhost:8080/",
          "height": 281
        }
      },
      "outputs": [
        {
          "output_type": "display_data",
          "data": {
            "text/plain": [
              "<Figure size 432x288 with 1 Axes>"
            ],
            "image/png": "[encoded data removed]"
          },
          "metadata": {
            "needs_background": "light"
          }
        }
      ],
      "source": [
        "plt.plot(range(1, len(average_mae_history) + 1), average_mae_history)\n",
        "plt.xlabel(\"Epochs\")\n",
        "plt.ylabel(\"Validation MAE\")\n",
        "plt.show()"
      ]
    },
    {
      "cell_type": "markdown",
      "metadata": {
        "id": "JsVKOiFraevf"
      },
      "source": [
        "**Plotting validation scores, excluding the first 10 data points**"
      ]
    },
    {
      "cell_type": "code",
      "execution_count": 66,
      "metadata": {
        "id": "i3sULW-_aevf",
        "outputId": "396e12e4-2367-49ee-b4d7-35f87af4a057",
        "colab": {
          "base_uri": "https://localhost:8080/",
          "height": 279
        }
      },
      "outputs": [
        {
          "output_type": "display_data",
          "data": {
            "text/plain": [
              "<Figure size 432x288 with 1 Axes>"
            ],
            "image/png": "[encoded data removed]"
          },
          "metadata": {
            "needs_background": "light"
          }
        }
      ],
      "source": [
        "truncated_mae_history = average_mae_history[10:]\n",
        "plt.plot(range(1, len(truncated_mae_history) + 1), truncated_mae_history)\n",
        "plt.xlabel(\"Epochs\")\n",
        "plt.ylabel(\"Validation MAE\")\n",
        "plt.show()"
      ]
    },
    {
      "cell_type": "markdown",
      "metadata": {
        "id": "lpgKrJl2aevf"
      },
      "source": [
        "**Training the final model**"
      ]
    },
    {
      "cell_type": "code",
      "execution_count": 67,
      "metadata": {
        "id": "QfjK9if_aevg",
        "outputId": "aff5dc6b-eab2-4a95-bdde-5f11458ce518",
        "colab": {
          "base_uri": "https://localhost:8080/"
        }
      },
      "outputs": [
        {
          "output_type": "stream",
          "name": "stdout",
          "text": [
            "4/4 [==============================] - 0s 3ms/step - loss: 14.9999 - mae: 2.5456\n"
          ]
        }
      ],
      "source": [
        "model = build_model()\n",
        "model.fit(train_data, train_targets,\n",
        "          epochs=130, batch_size=16, verbose=0)\n",
        "test_mse_score, test_mae_score = model.evaluate(test_data, test_targets)"
      ]
    },
    {
      "cell_type": "code",
      "execution_count": 68,
      "metadata": {
        "id": "D2McZ-AOaevg",
        "outputId": "153be2eb-1b8e-4aa7-8737-a31bc7e65333",
        "colab": {
          "base_uri": "https://localhost:8080/"
        }
      },
      "outputs": [
        {
          "output_type": "execute_result",
          "data": {
            "text/plain": [
              "2.545637607574463"
            ]
          },
          "metadata": {},
          "execution_count": 68
        }
      ],
      "source": [
        "test_mae_score"
      ]
    },
    {
      "cell_type": "markdown",
      "metadata": {
        "id": "HqVXHFDMaevg"
      },
      "source": [
        "### Generating predictions on new data"
      ]
    },
    {
      "cell_type": "code",
      "execution_count": 69,
      "metadata": {
        "id": "cPuqc04laevh",
        "outputId": "c38b957f-b954-4fbb-dd15-0cec1705219d",
        "colab": {
          "base_uri": "https://localhost:8080/"
        }
      },
      "outputs": [
        {
          "output_type": "execute_result",
          "data": {
            "text/plain": [
              "array([8.024035], dtype=float32)"
            ]
          },
          "metadata": {},
          "execution_count": 69
        }
      ],
      "source": [
        "predictions = model.predict(test_data)\n",
        "predictions[0]"
      ]
    },
    {
      "cell_type": "markdown",
      "metadata": {
        "id": "gy7BsIWhaevh"
      },
      "source": [
        "### Wrapping up"
      ]
    }
  ],
  "metadata": {
    "colab": {
      "collapsed_sections": [],
      "name": "chapter04_getting-started-with-neural-networks.i",
      "provenance": [],
      "toc_visible": true
    },
    "kernelspec": {
      "display_name": "Python 3",
      "language": "python",
      "name": "python3"
    },
    "language_info": {
      "codemirror_mode": {
        "name": "ipython",
        "version": 3
      },
      "file_extension": ".py",
      "mimetype": "text/x-python",
      "name": "python",
      "nbconvert_exporter": "python",
      "pygments_lexer": "ipython3",
      "version": "3.7.0"
    }
  },
  "nbformat": 4,
  "nbformat_minor": 0
}