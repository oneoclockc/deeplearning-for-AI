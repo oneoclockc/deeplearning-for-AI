{
  "cells": [
    {
      "cell_type": "markdown",
      "metadata": {
        "id": "SH6zIOM7_aIR"
      },
      "source": [
        "# Introduction to Keras and TensorFlow"
      ]
    },
    {
      "cell_type": "markdown",
      "metadata": {
        "id": "9f3d_CnR_aIU"
      },
      "source": [
        "## What's TensorFlow?"
      ]
    },
    {
      "cell_type": "markdown",
      "source": [
        "- Python-based, free, open source machine learning platporm\n",
        "- Numpy와 같이 mathematical expression over numerical tensors을 조작할 수 있게 해 주다, 다음과 같은 방식으로 numpy를 훨씬 뛰어넘는다. \n",
        "\n",
        "\n",
        "1.   automatically compute the gradient of any differentiable expression \n",
        "2.   CPU뿐 아니라 CPU와 TPU에서도 실행할 수 있다. \n",
        "3. TensorFlow에 의해 정의된 computation은 다른 machin에도 쉽게 분산될 수 있다. \n",
        "4. c++, java등 다른 환경에서도 잘 돌아가 쉽게 배포가 가능하다.\n",
        "\n"
      ],
      "metadata": {
        "id": "uMhu_AbEABd9"
      }
    },
    {
      "cell_type": "markdown",
      "metadata": {
        "id": "GIM6E7RI_aIW"
      },
      "source": [
        "## What's Keras?"
      ]
    },
    {
      "cell_type": "markdown",
      "source": [
        "- Keras는 Tensorflow 위에 구축된 파이썬용 Deeplearning API이다.\n"
      ],
      "metadata": {
        "id": "5tnNDdjOBZLS"
      }
    },
    {
      "cell_type": "markdown",
      "metadata": {
        "id": "9OoAXrK3_aIY"
      },
      "source": [
        "## Keras and TensorFlow: A brief history"
      ]
    },
    {
      "cell_type": "markdown",
      "metadata": {
        "id": "ndkfz1ek_aIa"
      },
      "source": [
        "## Setting up a deep-learning workspace"
      ]
    },
    {
      "cell_type": "markdown",
      "metadata": {
        "id": "JI3ve7ip_aId"
      },
      "source": [
        "### Jupyter notebooks: The preferred way to run deep-learning experiments"
      ]
    },
    {
      "cell_type": "markdown",
      "metadata": {
        "id": "ZxZBmncF_aIf"
      },
      "source": [
        "### Using Colaboratory"
      ]
    },
    {
      "cell_type": "markdown",
      "metadata": {
        "id": "GqxvxgIU_aIi"
      },
      "source": [
        "#### First steps with Colaboratory"
      ]
    },
    {
      "cell_type": "markdown",
      "metadata": {
        "id": "dMjTJiTn_aIl"
      },
      "source": [
        "#### Installing packages with pip"
      ]
    },
    {
      "cell_type": "markdown",
      "metadata": {
        "id": "PoSe4q9g_aIp"
      },
      "source": [
        "#### Using the GPU runtime"
      ]
    },
    {
      "cell_type": "markdown",
      "metadata": {
        "id": "ZglL7Jd1_aIq"
      },
      "source": [
        "## First steps with TensorFlow"
      ]
    },
    {
      "cell_type": "markdown",
      "source": [
        "low-level tensor manipulation : translates to TensorFlow APIs   \n",
        "high-level tensor manupulation : translates to Keras APIs"
      ],
      "metadata": {
        "id": "KDewiuHzDJFW"
      }
    },
    {
      "cell_type": "markdown",
      "metadata": {
        "id": "eV9QHvP5_aIt"
      },
      "source": [
        "#### Constant tensors and variables"
      ]
    },
    {
      "cell_type": "markdown",
      "metadata": {
        "id": "dlegbU6d_aIv"
      },
      "source": [
        "**All-ones or all-zeros tensors**"
      ]
    },
    {
      "cell_type": "code",
      "execution_count": 17,
      "metadata": {
        "id": "Q3yZIcMi_aIx",
        "outputId": "ea8f9024-03fd-421b-9dfa-8ad899175088",
        "colab": {
          "base_uri": "https://localhost:8080/"
        }
      },
      "outputs": [
        {
          "output_type": "stream",
          "name": "stdout",
          "text": [
            "tf.Tensor(\n",
            "[[1.]\n",
            " [1.]], shape=(2, 1), dtype=float32)\n"
          ]
        }
      ],
      "source": [
        "import tensorflow as tf\n",
        "x = tf.ones(shape=(2, 1)) # 모든 원소가 1인 텐서 생성\n",
        "print(x)"
      ]
    },
    {
      "cell_type": "code",
      "execution_count": 18,
      "metadata": {
        "id": "NKybfRCo_aI2",
        "outputId": "56e83734-ad35-42aa-deaa-e970d86c9627",
        "colab": {
          "base_uri": "https://localhost:8080/"
        }
      },
      "outputs": [
        {
          "output_type": "stream",
          "name": "stdout",
          "text": [
            "tf.Tensor(\n",
            "[[0.]\n",
            " [0.]], shape=(2, 1), dtype=float32)\n"
          ]
        }
      ],
      "source": [
        "x = tf.zeros(shape=(2, 1)) # 모든 원소가 0인 텐서 생성\n",
        "print(x)"
      ]
    },
    {
      "cell_type": "markdown",
      "metadata": {
        "id": "Zcokf9zb_aI3"
      },
      "source": [
        "**Random tensors**"
      ]
    },
    {
      "cell_type": "code",
      "execution_count": 19,
      "metadata": {
        "id": "gFTb6WpB_aI5",
        "outputId": "cb1a0601-fd1d-4a8c-fac1-665f151b0521",
        "colab": {
          "base_uri": "https://localhost:8080/"
        }
      },
      "outputs": [
        {
          "output_type": "stream",
          "name": "stdout",
          "text": [
            "tf.Tensor(\n",
            "[[ 0.08275485]\n",
            " [ 0.47355804]\n",
            " [-0.49199578]], shape=(3, 1), dtype=float32)\n"
          ]
        }
      ],
      "source": [
        "x = tf.random.normal(shape=(3, 1), mean=0., stddev=1.) # 표준화 정규분포에서 랜덤 텐서 생성 \n",
        "print(x)"
      ]
    },
    {
      "cell_type": "code",
      "execution_count": 20,
      "metadata": {
        "id": "fk_HAQSQ_aI6",
        "outputId": "4436969a-ec70-47cc-e7ef-8ce410167fd6",
        "colab": {
          "base_uri": "https://localhost:8080/"
        }
      },
      "outputs": [
        {
          "output_type": "stream",
          "name": "stdout",
          "text": [
            "tf.Tensor(\n",
            "[[0.77727115]\n",
            " [0.0137347 ]\n",
            " [0.48286545]], shape=(3, 1), dtype=float32)\n"
          ]
        }
      ],
      "source": [
        "x = tf.random.uniform(shape=(3, 1), minval=0., maxval=1.) # uniform distn에서 랜덤 텐서 생성 \n",
        "print(x)"
      ]
    },
    {
      "cell_type": "markdown",
      "metadata": {
        "id": "ywn_jw9l_aI8"
      },
      "source": [
        "**NumPy arrays are assignable**"
      ]
    },
    {
      "cell_type": "code",
      "execution_count": 21,
      "metadata": {
        "id": "AxKN5X54_aI9"
      },
      "outputs": [],
      "source": [
        "import numpy as np\n",
        "x = np.ones(shape=(2, 2))\n",
        "x[0, 0] = 0. # numpy array are assignable"
      ]
    },
    {
      "cell_type": "code",
      "source": [
        "x = tf.ones(shape = (2,2))\n",
        "x[0,0] = 0. # tensorflow tensor is not assignable "
      ],
      "metadata": {
        "id": "D51kz0EsFkLD",
        "outputId": "c5c48b19-7882-4a23-d801-0d5a0d4a7ddf",
        "colab": {
          "base_uri": "https://localhost:8080/",
          "height": 190
        }
      },
      "execution_count": 22,
      "outputs": [
        {
          "output_type": "error",
          "ename": "TypeError",
          "evalue": "ignored",
          "traceback": [
            "\u001b[0;31m---------------------------------------------------------------------------\u001b[0m",
            "\u001b[0;31mTypeError\u001b[0m                                 Traceback (most recent call last)",
            "\u001b[0;32m<ipython-input-22-c381d47a4bb6>\u001b[0m in \u001b[0;36m<module>\u001b[0;34m()\u001b[0m\n\u001b[1;32m      1\u001b[0m \u001b[0mx\u001b[0m \u001b[0;34m=\u001b[0m \u001b[0mtf\u001b[0m\u001b[0;34m.\u001b[0m\u001b[0mones\u001b[0m\u001b[0;34m(\u001b[0m\u001b[0mshape\u001b[0m \u001b[0;34m=\u001b[0m \u001b[0;34m(\u001b[0m\u001b[0;36m2\u001b[0m\u001b[0;34m,\u001b[0m\u001b[0;36m2\u001b[0m\u001b[0;34m)\u001b[0m\u001b[0;34m)\u001b[0m\u001b[0;34m\u001b[0m\u001b[0;34m\u001b[0m\u001b[0m\n\u001b[0;32m----> 2\u001b[0;31m \u001b[0mx\u001b[0m\u001b[0;34m[\u001b[0m\u001b[0;36m0\u001b[0m\u001b[0;34m,\u001b[0m\u001b[0;36m0\u001b[0m\u001b[0;34m]\u001b[0m \u001b[0;34m=\u001b[0m \u001b[0;36m0.\u001b[0m \u001b[0;31m# tensorflow tensor is not assignable\u001b[0m\u001b[0;34m\u001b[0m\u001b[0;34m\u001b[0m\u001b[0m\n\u001b[0m",
            "\u001b[0;31mTypeError\u001b[0m: 'tensorflow.python.framework.ops.EagerTensor' object does not support item assignment"
          ]
        }
      ]
    },
    {
      "cell_type": "markdown",
      "metadata": {
        "id": "OWDAKQwJ_aI_"
      },
      "source": [
        "**Creating a TensorFlow variable**"
      ]
    },
    {
      "cell_type": "code",
      "execution_count": 24,
      "metadata": {
        "id": "IqPWEfdF_aJA",
        "outputId": "29567656-0b5b-4868-aac9-577c6a4fc556",
        "colab": {
          "base_uri": "https://localhost:8080/"
        }
      },
      "outputs": [
        {
          "output_type": "stream",
          "name": "stdout",
          "text": [
            "<tf.Variable 'Variable:0' shape=(3, 1) dtype=float32, numpy=\n",
            "array([[-0.08745287],\n",
            "       [-0.7663186 ],\n",
            "       [-1.4355539 ]], dtype=float32)>\n"
          ]
        }
      ],
      "source": [
        "v = tf.Variable(initial_value=tf.random.normal(shape=(3, 1)))\n",
        "print(v)"
      ]
    },
    {
      "cell_type": "markdown",
      "metadata": {
        "id": "ggh0FS3y_aJC"
      },
      "source": [
        "**Assigning a value to a TensorFlow variable**"
      ]
    },
    {
      "cell_type": "code",
      "execution_count": 25,
      "metadata": {
        "id": "fd3Ot5sV_aJD",
        "outputId": "ef522ff6-de04-475c-b5e0-c84a1a86a4fd",
        "colab": {
          "base_uri": "https://localhost:8080/"
        }
      },
      "outputs": [
        {
          "output_type": "execute_result",
          "data": {
            "text/plain": [
              "<tf.Variable 'UnreadVariable' shape=(3, 1) dtype=float32, numpy=\n",
              "array([[1.],\n",
              "       [1.],\n",
              "       [1.]], dtype=float32)>"
            ]
          },
          "metadata": {},
          "execution_count": 25
        }
      ],
      "source": [
        "v.assign(tf.ones((3, 1)))"
      ]
    },
    {
      "cell_type": "markdown",
      "metadata": {
        "id": "DaY0ikjb_aJE"
      },
      "source": [
        "**Assigning a value to a subset of a TensorFlow variable**"
      ]
    },
    {
      "cell_type": "code",
      "execution_count": 26,
      "metadata": {
        "id": "1TFM5NrA_aJF",
        "outputId": "a9e61328-3602-4b94-88fb-52a4cbe5ff95",
        "colab": {
          "base_uri": "https://localhost:8080/"
        }
      },
      "outputs": [
        {
          "output_type": "execute_result",
          "data": {
            "text/plain": [
              "<tf.Variable 'UnreadVariable' shape=(3, 1) dtype=float32, numpy=\n",
              "array([[3.],\n",
              "       [1.],\n",
              "       [1.]], dtype=float32)>"
            ]
          },
          "metadata": {},
          "execution_count": 26
        }
      ],
      "source": [
        "v[0, 0].assign(3.)"
      ]
    },
    {
      "cell_type": "markdown",
      "metadata": {
        "id": "WyP8gJFm_aJF"
      },
      "source": [
        "**Using `assign_add`**"
      ]
    },
    {
      "cell_type": "code",
      "execution_count": 27,
      "metadata": {
        "id": "-GxApAIT_aJG",
        "outputId": "6f419fb6-00be-40b4-b0ae-51f3f9c34805",
        "colab": {
          "base_uri": "https://localhost:8080/"
        }
      },
      "outputs": [
        {
          "output_type": "execute_result",
          "data": {
            "text/plain": [
              "<tf.Variable 'UnreadVariable' shape=(3, 1) dtype=float32, numpy=\n",
              "array([[4.],\n",
              "       [2.],\n",
              "       [2.]], dtype=float32)>"
            ]
          },
          "metadata": {},
          "execution_count": 27
        }
      ],
      "source": [
        "v.assign_add(tf.ones((3, 1)))"
      ]
    },
    {
      "cell_type": "markdown",
      "metadata": {
        "id": "N9VNKuxg_aJH"
      },
      "source": [
        "#### Tensor operations: Doing math in TensorFlow"
      ]
    },
    {
      "cell_type": "markdown",
      "metadata": {
        "id": "P4fV9Mn1_aJI"
      },
      "source": [
        "**A few basic math operations**"
      ]
    },
    {
      "cell_type": "code",
      "execution_count": 28,
      "metadata": {
        "id": "FWhE8bb6_aJI"
      },
      "outputs": [],
      "source": [
        "a = tf.ones((2, 2))\n",
        "b = tf.square(a)\n",
        "c = tf.sqrt(a)\n",
        "d = b + c\n",
        "e = tf.matmul(a, b)\n",
        "e *= d"
      ]
    },
    {
      "cell_type": "markdown",
      "metadata": {
        "id": "QkY4AZO__aJK"
      },
      "source": [
        "#### A second look at the GradientTape API"
      ]
    },
    {
      "cell_type": "markdown",
      "metadata": {
        "id": "-yPZfJgZ_aJK"
      },
      "source": [
        "**Using the `GradientTape`**"
      ]
    },
    {
      "cell_type": "code",
      "execution_count": 29,
      "metadata": {
        "id": "7JtCVcbz_aJL"
      },
      "outputs": [],
      "source": [
        "input_var = tf.Variable(initial_value=3.)\n",
        "with tf.GradientTape() as tape:\n",
        "   result = tf.square(input_var)\n",
        "gradient = tape.gradient(result, input_var)"
      ]
    },
    {
      "cell_type": "markdown",
      "metadata": {
        "id": "4br6ezKH_aJN"
      },
      "source": [
        "**Using `GradientTape` with constant tensor inputs**"
      ]
    },
    {
      "cell_type": "code",
      "execution_count": 30,
      "metadata": {
        "id": "DnYUeksq_aJO"
      },
      "outputs": [],
      "source": [
        "input_const = tf.constant(3.)\n",
        "with tf.GradientTape() as tape:\n",
        "   tape.watch(input_const) # constant tensor inputs을 사용할 경우 tape,watch()로 수동 추적표시\n",
        "   result = tf.square(input_const)\n",
        "gradient = tape.gradient(result, input_const)"
      ]
    },
    {
      "cell_type": "markdown",
      "metadata": {
        "id": "Ob88PSus_aJP"
      },
      "source": [
        "**Using nested gradient tapes to compute second-order gradients**"
      ]
    },
    {
      "cell_type": "code",
      "execution_count": 31,
      "metadata": {
        "id": "twLjGvuq_aJQ"
      },
      "outputs": [],
      "source": [
        "time = tf.Variable(0.)\n",
        "with tf.GradientTape() as outer_tape:\n",
        "    with tf.GradientTape() as inner_tape:\n",
        "        position =  4.9 * time ** 2\n",
        "    speed = inner_tape.gradient(position, time)\n",
        "acceleration = outer_tape.gradient(speed, time) # use outer tape to compute the gradient of the gradient from the inner tape."
      ]
    },
    {
      "cell_type": "markdown",
      "metadata": {
        "id": "t1QAfX68_aJR"
      },
      "source": [
        "#### An end-to-end example: A linear classifier in pure TensorFlow"
      ]
    },
    {
      "cell_type": "markdown",
      "metadata": {
        "id": "zHuRIDnl_aJR"
      },
      "source": [
        "**Generating two classes of random points in a 2D plane**"
      ]
    },
    {
      "cell_type": "code",
      "execution_count": 32,
      "metadata": {
        "id": "3hD2WB1z_aJS"
      },
      "outputs": [],
      "source": [
        "num_samples_per_class = 1000\n",
        "negative_samples = np.random.multivariate_normal( # 다변량 정규분포\n",
        "    mean=[0, 3],\n",
        "    cov=[[1, 0.5],[0.5, 1]],\n",
        "    size=num_samples_per_class)\n",
        "positive_samples = np.random.multivariate_normal(\n",
        "    mean=[3, 0],\n",
        "    cov=[[1, 0.5],[0.5, 1]],\n",
        "    size=num_samples_per_class)"
      ]
    },
    {
      "cell_type": "markdown",
      "metadata": {
        "id": "f52KzSBL_aJT"
      },
      "source": [
        "**Stacking the two classes into an array with shape (2000, 2)**"
      ]
    },
    {
      "cell_type": "code",
      "execution_count": 33,
      "metadata": {
        "id": "QIcN8OOi_aJU"
      },
      "outputs": [],
      "source": [
        "inputs = np.vstack((negative_samples, positive_samples)).astype(np.float32)"
      ]
    },
    {
      "cell_type": "code",
      "source": [
        "inputs"
      ],
      "metadata": {
        "id": "1-4YRS8AKlSm",
        "outputId": "4a24a2a3-9e8b-4c5a-ef6b-fb2818766528",
        "colab": {
          "base_uri": "https://localhost:8080/"
        }
      },
      "execution_count": 34,
      "outputs": [
        {
          "output_type": "execute_result",
          "data": {
            "text/plain": [
              "array([[-0.21629365,  2.9524333 ],\n",
              "       [ 0.3975571 ,  3.1851184 ],\n",
              "       [ 1.3117993 ,  3.1214895 ],\n",
              "       ...,\n",
              "       [ 1.6380526 , -1.2518129 ],\n",
              "       [ 1.1226683 , -0.90682447],\n",
              "       [ 3.8630428 , -0.16162129]], dtype=float32)"
            ]
          },
          "metadata": {},
          "execution_count": 34
        }
      ]
    },
    {
      "cell_type": "markdown",
      "metadata": {
        "id": "3e_9FhPu_aJV"
      },
      "source": [
        "**Generating the corresponding targets (0 and 1)**"
      ]
    },
    {
      "cell_type": "code",
      "execution_count": 35,
      "metadata": {
        "id": "mH8LTmlc_aJW"
      },
      "outputs": [],
      "source": [
        "targets = np.vstack((np.zeros((num_samples_per_class, 1), dtype=\"float32\"),\n",
        "                     np.ones((num_samples_per_class, 1), dtype=\"float32\")))"
      ]
    },
    {
      "cell_type": "code",
      "source": [
        "targets"
      ],
      "metadata": {
        "id": "exQBFN7xKp0x",
        "outputId": "23b7cdfc-bdb3-41a6-9455-5ac4fc48f6cc",
        "colab": {
          "base_uri": "https://localhost:8080/"
        }
      },
      "execution_count": 36,
      "outputs": [
        {
          "output_type": "execute_result",
          "data": {
            "text/plain": [
              "array([[0.],\n",
              "       [0.],\n",
              "       [0.],\n",
              "       ...,\n",
              "       [1.],\n",
              "       [1.],\n",
              "       [1.]], dtype=float32)"
            ]
          },
          "metadata": {},
          "execution_count": 36
        }
      ]
    },
    {
      "cell_type": "markdown",
      "metadata": {
        "id": "IXmmWAeU_aJX"
      },
      "source": [
        "**Plotting the two point classes**"
      ]
    },
    {
      "cell_type": "code",
      "execution_count": 37,
      "metadata": {
        "id": "1gnVPmM0_aJY",
        "outputId": "b5717ccc-b12f-44ce-99e7-6999cbcaed5f",
        "colab": {
          "base_uri": "https://localhost:8080/",
          "height": 265
        }
      },
      "outputs": [
        {
          "output_type": "display_data",
          "data": {
            "text/plain": [
              "<Figure size 432x288 with 1 Axes>"
            ],
            "image/png": "[encoded data removed]"
          },
          "metadata": {
            "needs_background": "light"
          }
        }
      ],
      "source": [
        "import matplotlib.pyplot as plt\n",
        "plt.scatter(inputs[:, 0], inputs[:, 1], c=targets[:, 0])\n",
        "plt.show()"
      ]
    },
    {
      "cell_type": "markdown",
      "metadata": {
        "id": "vkNxHob2_aJZ"
      },
      "source": [
        "**Creating the linear classifier variables**"
      ]
    },
    {
      "cell_type": "markdown",
      "source": [
        "affine transformation ( prediction = W * input + b ) trained to minimize the square of the difference between predictions and the targets"
      ],
      "metadata": {
        "id": "M_vFhFY0K_vv"
      }
    },
    {
      "cell_type": "code",
      "execution_count": 38,
      "metadata": {
        "id": "Fcf7RkL7_aJZ"
      },
      "outputs": [],
      "source": [
        "input_dim = 2 # input dim은 2d points\n",
        "output_dim = 1 # output dim은 single score (0 또는 1) \n",
        "W = tf.Variable(initial_value=tf.random.uniform(shape=(input_dim, output_dim)))\n",
        "b = tf.Variable(initial_value=tf.zeros(shape=(output_dim,)))"
      ]
    },
    {
      "cell_type": "markdown",
      "metadata": {
        "id": "23_wJJ1u_aJa"
      },
      "source": [
        "**The forward pass function**"
      ]
    },
    {
      "cell_type": "code",
      "execution_count": 39,
      "metadata": {
        "id": "5JfVB2I9_aJb"
      },
      "outputs": [],
      "source": [
        "def model(inputs):\n",
        "    return tf.matmul(inputs, W) + b"
      ]
    },
    {
      "cell_type": "markdown",
      "metadata": {
        "id": "b71UpcOu_aJc"
      },
      "source": [
        "**The mean squared error loss function**"
      ]
    },
    {
      "cell_type": "code",
      "execution_count": 40,
      "metadata": {
        "id": "Rm-dHrdu_aJd"
      },
      "outputs": [],
      "source": [
        "def square_loss(targets, predictions):\n",
        "    per_sample_losses = tf.square(targets - predictions)\n",
        "    return tf.reduce_mean(per_sample_losses)"
      ]
    },
    {
      "cell_type": "markdown",
      "metadata": {
        "id": "U_-oQIDc_aJd"
      },
      "source": [
        "**The training step function**"
      ]
    },
    {
      "cell_type": "code",
      "execution_count": 41,
      "metadata": {
        "id": "vCkfxHfW_aJe"
      },
      "outputs": [],
      "source": [
        "learning_rate = 0.1 # 학습률 :한 번 학습할 때 얼마만큼 학습해야 하는지, 한 번의 학습량으로 학습한 이후에 가중치 매개변수가 갱신된다.\n",
        "\n",
        "def training_step(inputs, targets):\n",
        "    with tf.GradientTape() as tape:\n",
        "        predictions = model(inputs)\n",
        "        loss = square_loss(targets, predictions)\n",
        "    grad_loss_wrt_W, grad_loss_wrt_b = tape.gradient(loss, [W, b])\n",
        "    W.assign_sub(grad_loss_wrt_W * learning_rate)\n",
        "    b.assign_sub(grad_loss_wrt_b * learning_rate)\n",
        "    return loss"
      ]
    },
    {
      "cell_type": "markdown",
      "metadata": {
        "id": "7yMX2aeV_aJf"
      },
      "source": [
        "**The batch training loop**"
      ]
    },
    {
      "cell_type": "code",
      "execution_count": 42,
      "metadata": {
        "id": "_Jy7zaQH_aJh",
        "outputId": "37978b5d-2557-4788-d00f-b8787d9e2f09",
        "colab": {
          "base_uri": "https://localhost:8080/"
        }
      },
      "outputs": [
        {
          "output_type": "stream",
          "name": "stdout",
          "text": [
            "Loss at step 0: 0.5024\n",
            "Loss at step 1: 0.1550\n",
            "Loss at step 2: 0.1015\n",
            "Loss at step 3: 0.0886\n",
            "Loss at step 4: 0.0823\n",
            "Loss at step 5: 0.0772\n",
            "Loss at step 6: 0.0728\n",
            "Loss at step 7: 0.0687\n",
            "Loss at step 8: 0.0650\n",
            "Loss at step 9: 0.0615\n",
            "Loss at step 10: 0.0584\n",
            "Loss at step 11: 0.0555\n",
            "Loss at step 12: 0.0529\n",
            "Loss at step 13: 0.0505\n",
            "Loss at step 14: 0.0483\n",
            "Loss at step 15: 0.0463\n",
            "Loss at step 16: 0.0445\n",
            "Loss at step 17: 0.0428\n",
            "Loss at step 18: 0.0412\n",
            "Loss at step 19: 0.0398\n",
            "Loss at step 20: 0.0385\n",
            "Loss at step 21: 0.0374\n",
            "Loss at step 22: 0.0363\n",
            "Loss at step 23: 0.0353\n",
            "Loss at step 24: 0.0344\n",
            "Loss at step 25: 0.0335\n",
            "Loss at step 26: 0.0328\n",
            "Loss at step 27: 0.0321\n",
            "Loss at step 28: 0.0314\n",
            "Loss at step 29: 0.0308\n",
            "Loss at step 30: 0.0303\n",
            "Loss at step 31: 0.0298\n",
            "Loss at step 32: 0.0294\n",
            "Loss at step 33: 0.0290\n",
            "Loss at step 34: 0.0286\n",
            "Loss at step 35: 0.0282\n",
            "Loss at step 36: 0.0279\n",
            "Loss at step 37: 0.0276\n",
            "Loss at step 38: 0.0274\n",
            "Loss at step 39: 0.0271\n"
          ]
        }
      ],
      "source": [
        "for step in range(40):\n",
        "    loss = training_step(inputs, targets)\n",
        "    print(f\"Loss at step {step}: {loss:.4f}\") # training loss는 0.025 정도 "
      ]
    },
    {
      "cell_type": "code",
      "execution_count": 43,
      "metadata": {
        "id": "_cAcLJa7_aJj",
        "outputId": "98a1a009-921f-40bb-e3b3-0d54400fe002",
        "colab": {
          "base_uri": "https://localhost:8080/",
          "height": 265
        }
      },
      "outputs": [
        {
          "output_type": "display_data",
          "data": {
            "text/plain": [
              "<Figure size 432x288 with 1 Axes>"
            ],
            "image/png": "[encoded data removed]"
          },
          "metadata": {
            "needs_background": "light"
          }
        }
      ],
      "source": [
        "predictions = model(inputs)\n",
        "plt.scatter(inputs[:, 0], inputs[:, 1], c=predictions[:, 0] > 0.5) # 0.5보다 작으면 0으로, 크면 1로 분류될 것 \n",
        "plt.show()"
      ]
    },
    {
      "cell_type": "code",
      "execution_count": 44,
      "metadata": {
        "id": "zEK2Z0ax_aJk",
        "outputId": "0e365bb0-9557-426e-cdbf-ba63290d4fc0",
        "colab": {
          "base_uri": "https://localhost:8080/",
          "height": 283
        }
      },
      "outputs": [
        {
          "output_type": "execute_result",
          "data": {
            "text/plain": [
              "<matplotlib.collections.PathCollection at 0x7fa45ebcc750>"
            ]
          },
          "metadata": {},
          "execution_count": 44
        },
        {
          "output_type": "display_data",
          "data": {
            "text/plain": [
              "<Figure size 432x288 with 1 Axes>"
            ],
            "image/png": "[encoded data removed]"
          },
          "metadata": {
            "needs_background": "light"
          }
        }
      ],
      "source": [
        "x = np.linspace(-1, 4, 100)\n",
        "y = - W[0] /  W[1] * x + (0.5 - b) / W[1]  # w1 * x + w2 * y + b = 0.5 \n",
        "plt.plot(x, y, \"-r\") # \"-r\" -> plot it as a red line\n",
        "plt.scatter(inputs[:, 0], inputs[:, 1], c=predictions[:, 0] > 0.5)"
      ]
    },
    {
      "cell_type": "markdown",
      "metadata": {
        "id": "zkv09VAj_aJl"
      },
      "source": [
        "## Anatomy of a neural network: Understanding core Keras APIs"
      ]
    },
    {
      "cell_type": "markdown",
      "metadata": {
        "id": "ZdOuqq6f_aJm"
      },
      "source": [
        "### Layers: The building blocks of deep learning"
      ]
    },
    {
      "cell_type": "markdown",
      "source": [
        "layer : fundamantal data structure in neural networks  \n",
        "different type of layer are appropriate for different tensor formats and different types of data proccessing  \n",
        "- rank-2 tensor (samples, features) : often processed by **densely connected layers**\n",
        "- rank-3 tensor (samples, timesteps, features) : often processed by **recurrent layers (such as LSTM) or 1D convollution layers**\n",
        "- rank-4 tensor (image  data) : often processed by **2D convollution layers**\n"
      ],
      "metadata": {
        "id": "3iLtU17dl2fX"
      }
    },
    {
      "cell_type": "markdown",
      "metadata": {
        "id": "4fB6QaHw_aJm"
      },
      "source": [
        "#### The base Layer class in Keras"
      ]
    },
    {
      "cell_type": "markdown",
      "source": [
        "weight : defined in a `build()`  \n",
        "computation : defined in `call()`  "
      ],
      "metadata": {
        "id": "eRSspKqGnnA-"
      }
    },
    {
      "cell_type": "markdown",
      "metadata": {
        "id": "3emH1RKz_aJn"
      },
      "source": [
        "**A `Dense` layer implemented as a `Layer` subclass**"
      ]
    },
    {
      "cell_type": "code",
      "execution_count": 45,
      "metadata": {
        "id": "BKq2PvWe_aJn"
      },
      "outputs": [],
      "source": [
        "from tensorflow import keras\n",
        "\n",
        "class SimpleDense(keras.layers.Layer): # all deras layers inherit from the base Layer calss \n",
        "\n",
        "    def __init__(self, units, activation=None):\n",
        "        super().__init__()\n",
        "        self.units = units\n",
        "        self.activation = activation\n",
        "\n",
        "    def build(self, input_shape):\n",
        "        input_dim = input_shape[-1]\n",
        "        self.W = self.add_weight(shape=(input_dim, self.units),\n",
        "                                 initializer=\"random_normal\")\n",
        "        self.b = self.add_weight(shape=(self.units,),\n",
        "                                 initializer=\"zeros\")\n",
        "\n",
        "    def call(self, inputs):\n",
        "        y = tf.matmul(inputs, self.W) + self.b\n",
        "        if self.activation is not None:\n",
        "            y = self.activation(y)\n",
        "        return y"
      ]
    },
    {
      "cell_type": "code",
      "execution_count": 46,
      "metadata": {
        "id": "IH0Uo4FF_aJp",
        "outputId": "1ecf02ca-5bcc-4959-b571-24abce7dd0a2",
        "colab": {
          "base_uri": "https://localhost:8080/"
        }
      },
      "outputs": [
        {
          "output_type": "stream",
          "name": "stdout",
          "text": [
            "(2, 32)\n"
          ]
        }
      ],
      "source": [
        "my_dense = SimpleDense(units=32, activation=tf.nn.relu)\n",
        "input_tensor = tf.ones(shape=(2, 784)) # create test input\n",
        "output_tensor = my_dense(input_tensor)\n",
        "print(output_tensor.shape)"
      ]
    },
    {
      "cell_type": "markdown",
      "metadata": {
        "id": "0OFPOPBY_aJp"
      },
      "source": [
        "#### Automatic shape inference: Building layers on the fly"
      ]
    },
    {
      "cell_type": "markdown",
      "source": [
        "layer compatibility -> every layer will only accept input tensors of a certail shape and will return output tensors of a certain shape.   \n",
        "Using Keras, layers you add to your models are dymanically built to match the shape of the incoming layer. "
      ],
      "metadata": {
        "id": "ueAD-RdLLavh"
      }
    },
    {
      "cell_type": "code",
      "execution_count": 47,
      "metadata": {
        "id": "k_fZxHQK_aJq"
      },
      "outputs": [],
      "source": [
        "from tensorflow.keras import layers\n",
        "layer = layers.Dense(32, activation=\"relu\") "
      ]
    },
    {
      "cell_type": "code",
      "execution_count": 48,
      "metadata": {
        "id": "1OYZcdSD_aJr"
      },
      "outputs": [],
      "source": [
        "from tensorflow.keras import models\n",
        "from tensorflow.keras import layers\n",
        "model = models.Sequential([\n",
        "    layers.Dense(32, activation=\"relu\"),\n",
        "    layers.Dense(32)\n",
        "])"
      ]
    },
    {
      "cell_type": "code",
      "execution_count": 49,
      "metadata": {
        "id": "KBIQh4l1_aJr"
      },
      "outputs": [],
      "source": [
        "model = keras.Sequential([\n",
        "    SimpleDense(32, activation=\"relu\"),\n",
        "    SimpleDense(64, activation=\"relu\"),\n",
        "    SimpleDense(32, activation=\"relu\"),\n",
        "    SimpleDense(10, activation=\"softmax\")\n",
        "])"
      ]
    },
    {
      "cell_type": "markdown",
      "metadata": {
        "id": "Y5h_aZ4d_aJs"
      },
      "source": [
        "### From layers to models"
      ]
    },
    {
      "cell_type": "markdown",
      "metadata": {
        "id": "3iN61mXZ_aJt"
      },
      "source": [
        "### The \"compile\" step: Configuring the learning process"
      ]
    },
    {
      "cell_type": "markdown",
      "source": [
        "model architecture가 정의된 후 다음 3가지를 선택해야 함  \n",
        "1. loss function : 최소화해야 함. 얼마나 모델이 성공적인지를 나타내는 척도\n",
        "2. optimizer : loss function을 기반으로 네트워크 업데이트 방법을 결정. SGD의 특정 변형을 구현\n",
        "3. metrics : the measures of success you want to monitor during traing and valitation. loss와 달리 트레이닝은 merics에 대해 optimize 하지 않는다."
      ],
      "metadata": {
        "id": "UKwIOinEQCX3"
      }
    },
    {
      "cell_type": "code",
      "execution_count": 50,
      "metadata": {
        "id": "aaFAdP7C_aJt"
      },
      "outputs": [],
      "source": [
        "model = keras.Sequential([keras.layers.Dense(1)]) # define a linear clssifier\n",
        "model.compile(optimizer=\"rmsprop\", \n",
        "              loss=\"mean_squared_error\",\n",
        "              metrics=[\"accuracy\"]) "
      ]
    },
    {
      "cell_type": "code",
      "execution_count": 51,
      "metadata": {
        "id": "3vDNfUrh_aJv"
      },
      "outputs": [],
      "source": [
        "# also possible to sqecify these arguments as object instance\n",
        "model.compile(optimizer=keras.optimizers.RMSprop(),\n",
        "              loss=keras.losses.MeanSquaredError(),\n",
        "              metrics=[keras.metrics.BinaryAccuracy()])"
      ]
    },
    {
      "cell_type": "markdown",
      "metadata": {
        "id": "6DRMRHhg_aJv"
      },
      "source": [
        "### Picking a loss function"
      ]
    },
    {
      "cell_type": "markdown",
      "metadata": {
        "id": "RVdFKWOp_aJw"
      },
      "source": [
        "### Understanding the fit() method"
      ]
    },
    {
      "cell_type": "markdown",
      "source": [
        "compile -> fit  \n",
        "traing loot  \n",
        "- data : 일반적으로 numpy array 혹은 tensorflow dataset 형태\n",
        "- number of epochs : training loop를 몇 번 반복할 것인지\n",
        "- batch size : "
      ],
      "metadata": {
        "id": "oNuiSdsLUIyp"
      }
    },
    {
      "cell_type": "markdown",
      "metadata": {
        "id": "bCVF5AdY_aJx"
      },
      "source": [
        "**Calling `fit()` with NumPy data**"
      ]
    },
    {
      "cell_type": "code",
      "execution_count": 52,
      "metadata": {
        "id": "cYhScmBO_aJy",
        "outputId": "88ff13b7-35db-415d-b7ca-aa5a78198b45",
        "colab": {
          "base_uri": "https://localhost:8080/"
        }
      },
      "outputs": [
        {
          "output_type": "stream",
          "name": "stdout",
          "text": [
            "Epoch 1/5\n",
            "16/16 [==============================] - 1s 2ms/step - loss: 0.7363 - binary_accuracy: 0.9970\n",
            "Epoch 2/5\n",
            "16/16 [==============================] - 0s 2ms/step - loss: 0.6401 - binary_accuracy: 0.9970\n",
            "Epoch 3/5\n",
            "16/16 [==============================] - 0s 2ms/step - loss: 0.5640 - binary_accuracy: 0.9965\n",
            "Epoch 4/5\n",
            "16/16 [==============================] - 0s 2ms/step - loss: 0.4952 - binary_accuracy: 0.9960\n",
            "Epoch 5/5\n",
            "16/16 [==============================] - 0s 2ms/step - loss: 0.4318 - binary_accuracy: 0.9955\n"
          ]
        }
      ],
      "source": [
        "history = model.fit(\n",
        "    inputs,\n",
        "    targets,\n",
        "    epochs=5,\n",
        "    batch_size=128\n",
        ")"
      ]
    },
    {
      "cell_type": "code",
      "execution_count": 53,
      "metadata": {
        "id": "iFRyN2bC_aJ0",
        "outputId": "99ea758f-c5ac-490c-93c9-a9c997d15bd5",
        "colab": {
          "base_uri": "https://localhost:8080/"
        }
      },
      "outputs": [
        {
          "output_type": "execute_result",
          "data": {
            "text/plain": [
              "{'binary_accuracy': [0.996999979019165,\n",
              "  0.996999979019165,\n",
              "  0.9965000152587891,\n",
              "  0.9959999918937683,\n",
              "  0.9955000281333923],\n",
              " 'loss': [0.7362502217292786,\n",
              "  0.6401471495628357,\n",
              "  0.5640371441841125,\n",
              "  0.49522730708122253,\n",
              "  0.4318046569824219]}"
            ]
          },
          "metadata": {},
          "execution_count": 53
        }
      ],
      "source": [
        "history.history"
      ]
    },
    {
      "cell_type": "markdown",
      "metadata": {
        "id": "em8Z1WH0_aJ1"
      },
      "source": [
        "### Monitoring loss and metrics on validation data"
      ]
    },
    {
      "cell_type": "markdown",
      "metadata": {
        "id": "q6e7pFga_aJ1"
      },
      "source": [
        "**Using the `validation_data` argument**"
      ]
    },
    {
      "cell_type": "code",
      "execution_count": 54,
      "metadata": {
        "id": "p7g9FWNA_aJ2",
        "outputId": "cfa64c22-3c62-4203-92c1-6c3698b12e48",
        "colab": {
          "base_uri": "https://localhost:8080/"
        }
      },
      "outputs": [
        {
          "output_type": "stream",
          "name": "stdout",
          "text": [
            "Epoch 1/5\n",
            "88/88 [==============================] - 1s 4ms/step - loss: 0.0976 - binary_accuracy: 0.9357 - val_loss: 0.0499 - val_binary_accuracy: 0.9933\n",
            "Epoch 2/5\n",
            "88/88 [==============================] - 0s 2ms/step - loss: 0.0679 - binary_accuracy: 0.9579 - val_loss: 0.0393 - val_binary_accuracy: 0.9883\n",
            "Epoch 3/5\n",
            "88/88 [==============================] - 0s 2ms/step - loss: 0.0730 - binary_accuracy: 0.9657 - val_loss: 0.1064 - val_binary_accuracy: 0.9067\n",
            "Epoch 4/5\n",
            "88/88 [==============================] - 0s 2ms/step - loss: 0.0742 - binary_accuracy: 0.9557 - val_loss: 0.0663 - val_binary_accuracy: 0.9817\n",
            "Epoch 5/5\n",
            "88/88 [==============================] - 0s 2ms/step - loss: 0.0745 - binary_accuracy: 0.9557 - val_loss: 0.0453 - val_binary_accuracy: 0.9917\n"
          ]
        },
        {
          "output_type": "execute_result",
          "data": {
            "text/plain": [
              "<keras.callbacks.History at 0x7fa45cbc5a10>"
            ]
          },
          "metadata": {},
          "execution_count": 54
        }
      ],
      "source": [
        "model = keras.Sequential([keras.layers.Dense(1)])\n",
        "model.compile(optimizer=keras.optimizers.RMSprop(learning_rate=0.1),\n",
        "              loss=keras.losses.MeanSquaredError(),\n",
        "              metrics=[keras.metrics.BinaryAccuracy()])\n",
        "\n",
        "# to avoid having samples from only one calss in validation data \n",
        "indices_permutation = np.random.permutation(len(inputs))\n",
        "shuffled_inputs = inputs[indices_permutation]\n",
        "shuffled_targets = targets[indices_permutation]\n",
        "\n",
        "# 30% training data for validation  \n",
        "num_validation_samples = int(0.3 * len(inputs))\n",
        "val_inputs = shuffled_inputs[:num_validation_samples]\n",
        "val_targets = shuffled_targets[:num_validation_samples]\n",
        "training_inputs = shuffled_inputs[num_validation_samples:]\n",
        "training_targets = shuffled_targets[num_validation_samples:]\n",
        "model.fit( # training loop \n",
        "    training_inputs,\n",
        "    training_targets,\n",
        "    epochs=5,\n",
        "    batch_size=16,\n",
        "    validation_data=(val_inputs, val_targets)\n",
        ")"
      ]
    },
    {
      "cell_type": "markdown",
      "metadata": {
        "id": "zA8tAMVx_aJ3"
      },
      "source": [
        "### Inference: Using a model after training"
      ]
    },
    {
      "cell_type": "code",
      "execution_count": 56,
      "metadata": {
        "id": "SQI_ZSvt_aJ4",
        "outputId": "7dd99109-95f3-4b12-93d5-d5c9525902ac",
        "colab": {
          "base_uri": "https://localhost:8080/"
        }
      },
      "outputs": [
        {
          "output_type": "stream",
          "name": "stdout",
          "text": [
            "[[0.1749362 ]\n",
            " [0.17719924]\n",
            " [0.78964204]\n",
            " [0.86111736]\n",
            " [0.01537555]\n",
            " [0.9657452 ]\n",
            " [1.0956361 ]\n",
            " [0.7019807 ]\n",
            " [0.95291877]\n",
            " [0.1628361 ]]\n"
          ]
        }
      ],
      "source": [
        "predictions = model.predict(val_inputs, batch_size=128)\n",
        "print(predictions[:10])"
      ]
    },
    {
      "cell_type": "markdown",
      "metadata": {
        "id": "pPKQsT_k_aJ4"
      },
      "source": [
        "## Summary"
      ]
    }
  ],
  "metadata": {
    "colab": {
      "collapsed_sections": [],
      "name": "chapter03_introduction-to-keras-and-tf.i",
      "provenance": [],
      "toc_visible": true
    },
    "kernelspec": {
      "display_name": "Python 3",
      "language": "python",
      "name": "python3"
    },
    "language_info": {
      "codemirror_mode": {
        "name": "ipython",
        "version": 3
      },
      "file_extension": ".py",
      "mimetype": "text/x-python",
      "name": "python",
      "nbconvert_exporter": "python",
      "pygments_lexer": "ipython3",
      "version": "3.7.0"
    }
  },
  "nbformat": 4,
  "nbformat_minor": 0
}