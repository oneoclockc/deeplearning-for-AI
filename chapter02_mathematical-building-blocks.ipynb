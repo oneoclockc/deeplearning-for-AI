{
  "cells": [
    {
      "cell_type": "markdown",
      "metadata": {
        "id": "osDIHCekx9RW"
      },
      "source": [
        "# The mathematical building blocks of neural networks"
      ]
    },
    {
      "cell_type": "markdown",
      "metadata": {
        "id": "3ST4e-knx9RX"
      },
      "source": [
        "## A first look at a neural network"
      ]
    },
    {
      "cell_type": "markdown",
      "metadata": {
        "id": "16_GYXn_x9RX"
      },
      "source": [
        "**Loading the MNIST dataset in Keras**"
      ]
    },
    {
      "cell_type": "code",
      "execution_count": 10,
      "metadata": {
        "id": "reCBoyf_x9RY",
        "outputId": "efdafcb7-3071-49ce-f4cd-ef68c8d7b5ac",
        "colab": {
          "base_uri": "https://localhost:8080/"
        }
      },
      "outputs": [
        {
          "output_type": "stream",
          "name": "stdout",
          "text": [
            "Downloading data from https://storage.googleapis.com/tensorflow/tf-keras-datasets/mnist.npz\n",
            "11493376/11490434 [==============================] - 0s 0us/step\n",
            "11501568/11490434 [==============================] - 0s 0us/step\n"
          ]
        }
      ],
      "source": [
        "from tensorflow.keras.datasets import mnist\n",
        "(train_images, train_labels), (test_images, test_labels) = mnist.load_data()"
      ]
    },
    {
      "cell_type": "code",
      "execution_count": 13,
      "metadata": {
        "id": "G9A34N3ex9RZ",
        "outputId": "326548cb-b8f6-490b-8cb2-05a93e5bdb19",
        "colab": {
          "base_uri": "https://localhost:8080/"
        }
      },
      "outputs": [
        {
          "output_type": "execute_result",
          "data": {
            "text/plain": [
              "(60000, 784)"
            ]
          },
          "metadata": {},
          "execution_count": 13
        }
      ],
      "source": [
        "train_images.shape"
      ]
    },
    {
      "cell_type": "code",
      "execution_count": 14,
      "metadata": {
        "id": "D9ZAyTNex9Ra",
        "outputId": "01daf729-bce6-4187-e6ed-73f5c9dd3f58",
        "colab": {
          "base_uri": "https://localhost:8080/"
        }
      },
      "outputs": [
        {
          "output_type": "execute_result",
          "data": {
            "text/plain": [
              "60000"
            ]
          },
          "metadata": {},
          "execution_count": 14
        }
      ],
      "source": [
        "len(train_labels)"
      ]
    },
    {
      "cell_type": "code",
      "execution_count": 15,
      "metadata": {
        "id": "DHk1QonNx9Ra",
        "outputId": "f198524b-201d-47b6-f21b-44c16aa6b9e9",
        "colab": {
          "base_uri": "https://localhost:8080/"
        }
      },
      "outputs": [
        {
          "output_type": "execute_result",
          "data": {
            "text/plain": [
              "array([5, 0, 4, ..., 5, 6, 8], dtype=uint8)"
            ]
          },
          "metadata": {},
          "execution_count": 15
        }
      ],
      "source": [
        "train_labels"
      ]
    },
    {
      "cell_type": "code",
      "execution_count": 16,
      "metadata": {
        "id": "Kya__938x9Rb",
        "outputId": "fc9253e1-ef47-4dc6-d249-5a09604c73f9",
        "colab": {
          "base_uri": "https://localhost:8080/"
        }
      },
      "outputs": [
        {
          "output_type": "execute_result",
          "data": {
            "text/plain": [
              "(10000, 784)"
            ]
          },
          "metadata": {},
          "execution_count": 16
        }
      ],
      "source": [
        "test_images.shape"
      ]
    },
    {
      "cell_type": "code",
      "execution_count": 17,
      "metadata": {
        "id": "LNP7YKIax9Rd",
        "outputId": "024c4be9-613e-4371-f30e-fe355035557d",
        "colab": {
          "base_uri": "https://localhost:8080/"
        }
      },
      "outputs": [
        {
          "output_type": "execute_result",
          "data": {
            "text/plain": [
              "10000"
            ]
          },
          "metadata": {},
          "execution_count": 17
        }
      ],
      "source": [
        "len(test_labels)"
      ]
    },
    {
      "cell_type": "code",
      "execution_count": 18,
      "metadata": {
        "id": "yvHe6u9Kx9Rh",
        "outputId": "c48e9453-e6bf-4d91-c147-d1f65b9e4be7",
        "colab": {
          "base_uri": "https://localhost:8080/"
        }
      },
      "outputs": [
        {
          "output_type": "execute_result",
          "data": {
            "text/plain": [
              "array([7, 2, 1, ..., 4, 5, 6], dtype=uint8)"
            ]
          },
          "metadata": {},
          "execution_count": 18
        }
      ],
      "source": [
        "test_labels"
      ]
    },
    {
      "cell_type": "markdown",
      "metadata": {
        "id": "cbNJUZqGx9Ri"
      },
      "source": [
        "**The network architecture**"
      ]
    },
    {
      "cell_type": "code",
      "execution_count": 19,
      "metadata": {
        "id": "Ht_yEthAx9Ri"
      },
      "outputs": [],
      "source": [
        "from tensorflow import keras\n",
        "from tensorflow.keras import layers\n",
        "model = keras.Sequential([\n",
        "    layers.Dense(512, activation=\"relu\"),\n",
        "    layers.Dense(10, activation=\"softmax\") # 두 번째 layer -> 10-way softmax classification layer(return 10 probability scores)\n",
        "])"
      ]
    },
    {
      "cell_type": "markdown",
      "metadata": {
        "id": "5Nbv2PQDx9Ri"
      },
      "source": [
        "**The compilation step**"
      ]
    },
    {
      "cell_type": "code",
      "execution_count": 9,
      "metadata": {
        "id": "Wy-sIjN9x9Rj"
      },
      "outputs": [],
      "source": [
        "model.compile(optimizer=\"rmsprop\",\n",
        "              loss=\"sparse_categorical_crossentropy\",\n",
        "              metrics=[\"accuracy\"])"
      ]
    },
    {
      "cell_type": "markdown",
      "metadata": {
        "id": "h7vSZm9fx9Rj"
      },
      "source": [
        "**Preparing the image data**"
      ]
    },
    {
      "cell_type": "code",
      "execution_count": 10,
      "metadata": {
        "id": "j3RP5pfkx9Rj"
      },
      "outputs": [],
      "source": [
        "train_images = train_images.reshape((60000, 28 * 28))\n",
        "train_images = train_images.astype(\"float32\") / 255\n",
        "test_images = test_images.reshape((10000, 28 * 28))\n",
        "test_images = test_images.astype(\"float32\") / 255"
      ]
    },
    {
      "cell_type": "markdown",
      "metadata": {
        "id": "9W7wgQV-x9Rk"
      },
      "source": [
        "**\"Fitting\" the model**"
      ]
    },
    {
      "cell_type": "code",
      "execution_count": 11,
      "metadata": {
        "id": "XcZloTRYx9Rk",
        "outputId": "1cd52104-99ce-4bd8-da9c-0fe03e0e8bce",
        "colab": {
          "base_uri": "https://localhost:8080/"
        }
      },
      "outputs": [
        {
          "output_type": "stream",
          "name": "stdout",
          "text": [
            "Epoch 1/5\n",
            "469/469 [==============================] - 5s 9ms/step - loss: 0.2547 - accuracy: 0.9249\n",
            "Epoch 2/5\n",
            "469/469 [==============================] - 4s 9ms/step - loss: 0.1036 - accuracy: 0.9693\n",
            "Epoch 3/5\n",
            "469/469 [==============================] - 4s 9ms/step - loss: 0.0690 - accuracy: 0.9792\n",
            "Epoch 4/5\n",
            "469/469 [==============================] - 4s 9ms/step - loss: 0.0487 - accuracy: 0.9855\n",
            "Epoch 5/5\n",
            "469/469 [==============================] - 5s 10ms/step - loss: 0.0375 - accuracy: 0.9887\n"
          ]
        },
        {
          "output_type": "execute_result",
          "data": {
            "text/plain": [
              "<keras.callbacks.History at 0x7f545cc90390>"
            ]
          },
          "metadata": {},
          "execution_count": 11
        }
      ],
      "source": [
        "model.fit(train_images, train_labels, epochs=5, batch_size=128)"
      ]
    },
    {
      "cell_type": "markdown",
      "metadata": {
        "id": "5876eCb3x9Rk"
      },
      "source": [
        "**Using the model to make predictions**"
      ]
    },
    {
      "cell_type": "code",
      "execution_count": 12,
      "metadata": {
        "id": "A8cnIvTdx9Rl",
        "outputId": "c22c0061-98f0-4a05-b3c8-344c49d86cbc",
        "colab": {
          "base_uri": "https://localhost:8080/"
        }
      },
      "outputs": [
        {
          "output_type": "execute_result",
          "data": {
            "text/plain": [
              "array([3.1383127e-10, 1.5299925e-11, 8.0304380e-07, 8.4166986e-06,\n",
              "       4.4621343e-14, 1.1900893e-08, 1.4670832e-15, 9.9999070e-01,\n",
              "       1.1913334e-09, 3.9285293e-08], dtype=float32)"
            ]
          },
          "metadata": {},
          "execution_count": 12
        }
      ],
      "source": [
        "test_digits = test_images[0:10]\n",
        "predictions = model.predict(test_digits)\n",
        "predictions[0] # highest probability at index 7"
      ]
    },
    {
      "cell_type": "code",
      "execution_count": 13,
      "metadata": {
        "id": "Qh3eoPoGx9Rl",
        "outputId": "9e7656ef-c5a7-4c53-e6a2-3215f17cee63",
        "colab": {
          "base_uri": "https://localhost:8080/"
        }
      },
      "outputs": [
        {
          "output_type": "execute_result",
          "data": {
            "text/plain": [
              "7"
            ]
          },
          "metadata": {},
          "execution_count": 13
        }
      ],
      "source": [
        "predictions[0].argmax()"
      ]
    },
    {
      "cell_type": "code",
      "execution_count": 14,
      "metadata": {
        "id": "igaqANUxx9Rl",
        "outputId": "7cdb1110-dc0c-4a3f-92bd-5a75b1113ca0",
        "colab": {
          "base_uri": "https://localhost:8080/"
        }
      },
      "outputs": [
        {
          "output_type": "execute_result",
          "data": {
            "text/plain": [
              "0.9999907"
            ]
          },
          "metadata": {},
          "execution_count": 14
        }
      ],
      "source": [
        "predictions[0][7]"
      ]
    },
    {
      "cell_type": "code",
      "execution_count": 15,
      "metadata": {
        "id": "GQMpYserx9Rl",
        "outputId": "071648da-5340-4daf-b6f5-b4a4d6058f10",
        "colab": {
          "base_uri": "https://localhost:8080/"
        }
      },
      "outputs": [
        {
          "output_type": "execute_result",
          "data": {
            "text/plain": [
              "7"
            ]
          },
          "metadata": {},
          "execution_count": 15
        }
      ],
      "source": [
        "test_labels[0]"
      ]
    },
    {
      "cell_type": "markdown",
      "metadata": {
        "id": "sjUp2MASx9Rm"
      },
      "source": [
        "**Evaluating the model on new data**"
      ]
    },
    {
      "cell_type": "code",
      "execution_count": 16,
      "metadata": {
        "id": "lfzhyhytx9Rm",
        "outputId": "8d178316-8c0c-4ee1-a1e5-cd41f0b8d51b",
        "colab": {
          "base_uri": "https://localhost:8080/"
        }
      },
      "outputs": [
        {
          "output_type": "stream",
          "name": "stdout",
          "text": [
            "313/313 [==============================] - 1s 2ms/step - loss: 0.0760 - accuracy: 0.9776\n",
            "test_acc: 0.9775999784469604\n"
          ]
        }
      ],
      "source": [
        "test_loss, test_acc = model.evaluate(test_images, test_labels)\n",
        "print(f\"test_acc: {test_acc}\") # test_acc < training_acc (overfitting)"
      ]
    },
    {
      "cell_type": "markdown",
      "metadata": {
        "id": "hjKoxwORx9Rm"
      },
      "source": [
        "## Data representations for neural networks"
      ]
    },
    {
      "cell_type": "markdown",
      "metadata": {
        "id": "JmHbbEejx9Rm"
      },
      "source": [
        "### Scalars (rank-0 tensors)"
      ]
    },
    {
      "cell_type": "code",
      "execution_count": 17,
      "metadata": {
        "id": "Apt3FXHgx9Rn",
        "outputId": "9fbc97ba-ab1f-4d15-8299-49f45d756e99",
        "colab": {
          "base_uri": "https://localhost:8080/"
        }
      },
      "outputs": [
        {
          "output_type": "execute_result",
          "data": {
            "text/plain": [
              "array(12)"
            ]
          },
          "metadata": {},
          "execution_count": 17
        }
      ],
      "source": [
        "import numpy as np\n",
        "x = np.array(12)\n",
        "x"
      ]
    },
    {
      "cell_type": "code",
      "execution_count": 18,
      "metadata": {
        "id": "lRl1-zJDx9Rn",
        "outputId": "478feb16-4362-459f-82b4-82a2b489e169",
        "colab": {
          "base_uri": "https://localhost:8080/"
        }
      },
      "outputs": [
        {
          "output_type": "execute_result",
          "data": {
            "text/plain": [
              "0"
            ]
          },
          "metadata": {},
          "execution_count": 18
        }
      ],
      "source": [
        "x.ndim # 차원"
      ]
    },
    {
      "cell_type": "markdown",
      "metadata": {
        "id": "aV9OYPiZx9Rn"
      },
      "source": [
        "### Vectors (rank-1 tensors)"
      ]
    },
    {
      "cell_type": "code",
      "execution_count": 19,
      "metadata": {
        "id": "q_VqBOAWx9Ro",
        "outputId": "861bf09d-7407-440d-bdd0-b339b3ab10ae",
        "colab": {
          "base_uri": "https://localhost:8080/"
        }
      },
      "outputs": [
        {
          "output_type": "execute_result",
          "data": {
            "text/plain": [
              "array([12,  3,  6, 14,  7])"
            ]
          },
          "metadata": {},
          "execution_count": 19
        }
      ],
      "source": [
        "x = np.array([12, 3, 6, 14, 7])\n",
        "x"
      ]
    },
    {
      "cell_type": "code",
      "execution_count": 20,
      "metadata": {
        "id": "OWhNIQINx9Ro",
        "outputId": "324b6bb7-00a5-4bc3-8f5e-e8950e7bf90c",
        "colab": {
          "base_uri": "https://localhost:8080/"
        }
      },
      "outputs": [
        {
          "output_type": "execute_result",
          "data": {
            "text/plain": [
              "1"
            ]
          },
          "metadata": {},
          "execution_count": 20
        }
      ],
      "source": [
        "x.ndim"
      ]
    },
    {
      "cell_type": "markdown",
      "metadata": {
        "id": "bg6v04hTx9Ro"
      },
      "source": [
        "### Matrices (rank-2 tensors)"
      ]
    },
    {
      "cell_type": "code",
      "execution_count": 21,
      "metadata": {
        "id": "96GlupgXx9Ro",
        "outputId": "106ad4ce-62c3-4eb8-8f0a-7ec3201741d7",
        "colab": {
          "base_uri": "https://localhost:8080/"
        }
      },
      "outputs": [
        {
          "output_type": "execute_result",
          "data": {
            "text/plain": [
              "2"
            ]
          },
          "metadata": {},
          "execution_count": 21
        }
      ],
      "source": [
        "x = np.array([[5, 78, 2, 34, 0],\n",
        "              [6, 79, 3, 35, 1],\n",
        "              [7, 80, 4, 36, 2]])\n",
        "x.ndim"
      ]
    },
    {
      "cell_type": "markdown",
      "metadata": {
        "id": "s7bpVom9x9Ro"
      },
      "source": [
        "### Rank-3 and higher-rank tensors"
      ]
    },
    {
      "cell_type": "code",
      "execution_count": 22,
      "metadata": {
        "id": "-qFIEv6Px9Rp",
        "outputId": "ae69c1b2-130e-4f4f-fec9-f83fcf003e58",
        "colab": {
          "base_uri": "https://localhost:8080/"
        }
      },
      "outputs": [
        {
          "output_type": "execute_result",
          "data": {
            "text/plain": [
              "3"
            ]
          },
          "metadata": {},
          "execution_count": 22
        }
      ],
      "source": [
        "x = np.array([[[5, 78, 2, 34, 0],\n",
        "               [6, 79, 3, 35, 1],\n",
        "               [7, 80, 4, 36, 2]],\n",
        "              [[5, 78, 2, 34, 0],\n",
        "               [6, 79, 3, 35, 1],\n",
        "               [7, 80, 4, 36, 2]],\n",
        "              [[5, 78, 2, 34, 0],\n",
        "               [6, 79, 3, 35, 1],\n",
        "               [7, 80, 4, 36, 2]]])\n",
        "x.ndim"
      ]
    },
    {
      "cell_type": "markdown",
      "metadata": {
        "id": "F-cg3ZVux9Rp"
      },
      "source": [
        "### Key attributes"
      ]
    },
    {
      "cell_type": "markdown",
      "source": [
        "- numpy in axes : 차원 \n",
        "- Shape :  matrix의 경우 (3,5), 3차원 텐서의 경우(3,3,5), vector의 경우 (5,)\n",
        "- Data type\n"
      ],
      "metadata": {
        "id": "FJbX_xTK6b5q"
      }
    },
    {
      "cell_type": "code",
      "execution_count": 23,
      "metadata": {
        "id": "66A1FMhDx9Rp"
      },
      "outputs": [],
      "source": [
        "from tensorflow.keras.datasets import mnist\n",
        "(train_images, train_labels), (test_images, test_labels) = mnist.load_data()"
      ]
    },
    {
      "cell_type": "code",
      "execution_count": 24,
      "metadata": {
        "id": "IYiz3WrCx9Rp",
        "outputId": "3d4dec18-6279-4f4f-973f-ce5166398e9f",
        "colab": {
          "base_uri": "https://localhost:8080/"
        }
      },
      "outputs": [
        {
          "output_type": "execute_result",
          "data": {
            "text/plain": [
              "3"
            ]
          },
          "metadata": {},
          "execution_count": 24
        }
      ],
      "source": [
        "train_images.ndim"
      ]
    },
    {
      "cell_type": "code",
      "execution_count": 29,
      "metadata": {
        "id": "9LIsOTrYx9Rq",
        "outputId": "e98de72f-acab-4258-fb01-da6b07ab2173",
        "colab": {
          "base_uri": "https://localhost:8080/"
        }
      },
      "outputs": [
        {
          "output_type": "execute_result",
          "data": {
            "text/plain": [
              "(60000, 28, 28)"
            ]
          },
          "metadata": {},
          "execution_count": 29
        }
      ],
      "source": [
        "train_images.shape # 60000 matrices of 28*28 integers"
      ]
    },
    {
      "cell_type": "code",
      "execution_count": 30,
      "metadata": {
        "id": "8aWFrpOCx9Rq",
        "outputId": "42834277-d0a5-4f75-b537-adb828676491",
        "colab": {
          "base_uri": "https://localhost:8080/"
        }
      },
      "outputs": [
        {
          "output_type": "execute_result",
          "data": {
            "text/plain": [
              "dtype('uint8')"
            ]
          },
          "metadata": {},
          "execution_count": 30
        }
      ],
      "source": [
        "train_images.dtype # 8bit integer"
      ]
    },
    {
      "cell_type": "markdown",
      "metadata": {
        "id": "c3f8MkLpx9Rq"
      },
      "source": [
        "**Displaying the fourth digit**"
      ]
    },
    {
      "cell_type": "code",
      "execution_count": 27,
      "metadata": {
        "id": "R1W3Y393x9Rq",
        "outputId": "67dcd3e5-c07d-4238-cce4-a2632dfcf2da",
        "colab": {
          "base_uri": "https://localhost:8080/",
          "height": 265
        }
      },
      "outputs": [
        {
          "output_type": "display_data",
          "data": {
            "text/plain": [
              "<Figure size 432x288 with 1 Axes>"
            ],
            "image/png": "[encoded data removed]"
          },
          "metadata": {
            "needs_background": "light"
          }
        }
      ],
      "source": [
        "import matplotlib.pyplot as plt\n",
        "digit = train_images[4]\n",
        "plt.imshow(digit, cmap=plt.cm.binary)\n",
        "plt.show()"
      ]
    },
    {
      "cell_type": "code",
      "execution_count": 28,
      "metadata": {
        "id": "kG9c2rSfx9Rr",
        "outputId": "2967ce5f-392a-4da1-b2b8-9cc22e200734",
        "colab": {
          "base_uri": "https://localhost:8080/"
        }
      },
      "outputs": [
        {
          "output_type": "execute_result",
          "data": {
            "text/plain": [
              "9"
            ]
          },
          "metadata": {},
          "execution_count": 28
        }
      ],
      "source": [
        "train_labels[4]"
      ]
    },
    {
      "cell_type": "markdown",
      "metadata": {
        "id": "LUH8ThF3x9Rr"
      },
      "source": [
        "### Manipulating tensors in NumPy"
      ]
    },
    {
      "cell_type": "code",
      "execution_count": 31,
      "metadata": {
        "id": "UklxaTLxx9Rr",
        "outputId": "fee6190c-189d-430a-f1c4-fe854effc21f",
        "colab": {
          "base_uri": "https://localhost:8080/"
        }
      },
      "outputs": [
        {
          "output_type": "execute_result",
          "data": {
            "text/plain": [
              "(90, 28, 28)"
            ]
          },
          "metadata": {},
          "execution_count": 31
        }
      ],
      "source": [
        "my_slice = train_images[10:100] # 텐서의 특정 요소 선택 : 텐서 슬라이싱 \n",
        "my_slice.shape "
      ]
    },
    {
      "cell_type": "code",
      "execution_count": 32,
      "metadata": {
        "id": "JRpIE6gUx9Rr",
        "outputId": "a37f29e5-1369-40f6-cad0-44570386396e",
        "colab": {
          "base_uri": "https://localhost:8080/"
        }
      },
      "outputs": [
        {
          "output_type": "execute_result",
          "data": {
            "text/plain": [
              "(90, 28, 28)"
            ]
          },
          "metadata": {},
          "execution_count": 32
        }
      ],
      "source": [
        "my_slice = train_images[10:100, :, :] # : 는 전체 축 선택 \n",
        "my_slice.shape"
      ]
    },
    {
      "cell_type": "code",
      "execution_count": 33,
      "metadata": {
        "id": "LlvJAeTEx9Rr",
        "outputId": "7e715bf5-2003-4883-aae2-9863868556e5",
        "colab": {
          "base_uri": "https://localhost:8080/"
        }
      },
      "outputs": [
        {
          "output_type": "execute_result",
          "data": {
            "text/plain": [
              "(90, 28, 28)"
            ]
          },
          "metadata": {},
          "execution_count": 33
        }
      ],
      "source": [
        "my_slice = train_images[10:100, 0:28, 0:28]\n",
        "my_slice.shape"
      ]
    },
    {
      "cell_type": "code",
      "execution_count": 34,
      "metadata": {
        "id": "VqKr0lUvx9Rr"
      },
      "outputs": [],
      "source": [
        "my_slice = train_images[:, 14:, 14:] # bottom - right pixel "
      ]
    },
    {
      "cell_type": "code",
      "execution_count": 35,
      "metadata": {
        "id": "_MLgYr3rx9Rr"
      },
      "outputs": [],
      "source": [
        "my_slice = train_images[:, 7:-7, 7:-7] # same "
      ]
    },
    {
      "cell_type": "markdown",
      "metadata": {
        "id": "tAAzglI-x9Rs"
      },
      "source": [
        "### The notion of data batches"
      ]
    },
    {
      "cell_type": "code",
      "execution_count": 36,
      "metadata": {
        "id": "3IyuaOqlx9Rs"
      },
      "outputs": [],
      "source": [
        "batch = train_images[:128]"
      ]
    },
    {
      "cell_type": "code",
      "execution_count": 37,
      "metadata": {
        "id": "0iPgktKlx9Rs"
      },
      "outputs": [],
      "source": [
        "batch = train_images[128:256]"
      ]
    },
    {
      "cell_type": "code",
      "execution_count": 39,
      "metadata": {
        "id": "KSkXdySPx9Rt"
      },
      "outputs": [],
      "source": [
        "n = 3\n",
        "batch = train_images[128 * n:128 * (n + 1)] # nth batch"
      ]
    },
    {
      "cell_type": "markdown",
      "source": [
        "in batch tensor , the first axis  = batch axis / batch dimension"
      ],
      "metadata": {
        "id": "bj3Z13sK-Rse"
      }
    },
    {
      "cell_type": "markdown",
      "metadata": {
        "id": "HTAk1UBux9Rt"
      },
      "source": [
        "### Real-world examples of data tensors"
      ]
    },
    {
      "cell_type": "markdown",
      "source": [
        "- vector data\n",
        "- timeserises data or sequence data\n",
        "- lmages\n",
        "- video"
      ],
      "metadata": {
        "id": "UDLxYkPE-x9b"
      }
    },
    {
      "cell_type": "markdown",
      "metadata": {
        "id": "KC6086y_x9Ru"
      },
      "source": [
        "### Vector data"
      ]
    },
    {
      "cell_type": "markdown",
      "source": [
        "- 가장 흔한 형태\n",
        "- rank-2 tensors of shape(samples,features)\n",
        "\n",
        "> ex) age, gender, imcome을 고려하는 100,000 people -> (100000,3)\n",
        "\n"
      ],
      "metadata": {
        "id": "GF434W9HAUZD"
      }
    },
    {
      "cell_type": "markdown",
      "metadata": {
        "id": "YlctQ4Qpx9Rv"
      },
      "source": [
        "### Timeseries data or sequence data"
      ]
    },
    {
      "cell_type": "markdown",
      "source": [
        "- rank-3 tensors of shape(samples, timesteps, features)\n",
        "- 시간 축은 관례상 두번째 축 (axis of index 1)\n",
        "\n",
        "\n",
        "\n",
        "> 매분의 주가, 과거 1분간 최고가/최저가를 기록하는 데이터. 거래일 중 390분, 250일분의 데이터 기록 -> ( 250,390,3 )\n",
        "\n",
        "\n",
        "\n"
      ],
      "metadata": {
        "id": "y8fvzhrFB28Z"
      }
    },
    {
      "cell_type": "markdown",
      "metadata": {
        "id": "WYCo1Sb7x9Rv"
      },
      "source": [
        "### Image data"
      ]
    },
    {
      "cell_type": "markdown",
      "source": [
        "- rank-4 tensors of shape(samples, height, width, channels)\n",
        "- MNIST의 이미지들은 단일 색상 채널만 있어 rank-3 tensor에 저장 가능하나 일반적으로 이미지들은 rank-4 tensor에 저장한다"
      ],
      "metadata": {
        "id": "vkmzccxBHrNT"
      }
    },
    {
      "cell_type": "markdown",
      "metadata": {
        "id": "sFDH1_Q_x9Rw"
      },
      "source": [
        "### Video data"
      ]
    },
    {
      "cell_type": "markdown",
      "source": [
        "- rank-5 tensors of shape(samples, frames, height, width, channels) \n",
        "\n",
        "\n",
        "> 60,second, 144*256 youtube video clip sampled at 4 frames per second would have 240 frames, 4 such videoes -> (4, 240, 144,256, 3)\n",
        "\n"
      ],
      "metadata": {
        "id": "beLgF-ArIbwC"
      }
    },
    {
      "cell_type": "markdown",
      "metadata": {
        "id": "hzKySS_8x9Rw"
      },
      "source": [
        "## The gears of neural networks: tensor operations"
      ]
    },
    {
      "cell_type": "markdown",
      "metadata": {
        "id": "pmGqel7qx9Rw"
      },
      "source": [
        "### Element-wise operations"
      ]
    },
    {
      "cell_type": "markdown",
      "source": [
        "relu 함수 -> 양수면 그대로 출력, 음수면 0을 출력"
      ],
      "metadata": {
        "id": "oJ93hcy7L4Ip"
      }
    },
    {
      "cell_type": "code",
      "execution_count": 45,
      "metadata": {
        "id": "mQAdbp4Hx9Rw"
      },
      "outputs": [],
      "source": [
        "def naive_relu(x):\n",
        "    assert len(x.shape) == 2 # assert는 이 조건이 참일때 코드는 내가 보장한다. 이 조건은 올바르다! 하지만 이 조건이 거짓이라는 것은 내가 보증하지 않은 동작이다. 그러니 AssertionError를 발생해라.\n",
        "    x = x.copy()\n",
        "    for i in range(x.shape[0]):\n",
        "        for j in range(x.shape[1]):\n",
        "            x[i, j] = max(x[i, j], 0)\n",
        "    return x"
      ]
    },
    {
      "cell_type": "markdown",
      "source": [
        "같은 원리로 덧셈도 가능 "
      ],
      "metadata": {
        "id": "LBmUoutqL8fP"
      }
    },
    {
      "cell_type": "code",
      "execution_count": 44,
      "metadata": {
        "id": "LY3TiEvzx9Rx"
      },
      "outputs": [],
      "source": [
        "def naive_add(x, y):\n",
        "    assert len(x.shape) == 2\n",
        "    assert x.shape == y.shape\n",
        "    x = x.copy()\n",
        "    for i in range(x.shape[0]):\n",
        "        for j in range(x.shape[1]):\n",
        "            x[i, j] += y[i, j]\n",
        "    return x"
      ]
    },
    {
      "cell_type": "markdown",
      "source": [
        "numpy를 사용하면 매우 빠르게 처리됨\n",
        "  \n"
      ],
      "metadata": {
        "id": "3DpqbBq7MN2a"
      }
    },
    {
      "cell_type": "code",
      "execution_count": 46,
      "metadata": {
        "id": "3au2K3c5x9Rx",
        "outputId": "2af8d28e-c029-4755-8707-ccd695ddc1df",
        "colab": {
          "base_uri": "https://localhost:8080/"
        }
      },
      "outputs": [
        {
          "output_type": "stream",
          "name": "stdout",
          "text": [
            "Took: 0.01 s\n"
          ]
        }
      ],
      "source": [
        "import time\n",
        "\n",
        "x = np.random.random((20, 100))\n",
        "y = np.random.random((20, 100))\n",
        "\n",
        "t0 = time.time()\n",
        "for _ in range(1000):\n",
        "    z = x + y\n",
        "    z = np.maximum(z, 0.)\n",
        "print(\"Took: {0:.2f} s\".format(time.time() - t0))"
      ]
    },
    {
      "cell_type": "code",
      "execution_count": 47,
      "metadata": {
        "id": "OSd1nYIdx9Ry",
        "outputId": "1d3a7138-c1ce-4473-83ba-d9e19f8ea540",
        "colab": {
          "base_uri": "https://localhost:8080/"
        }
      },
      "outputs": [
        {
          "output_type": "stream",
          "name": "stdout",
          "text": [
            "Took: 2.19 s\n"
          ]
        }
      ],
      "source": [
        "t0 = time.time()\n",
        "for _ in range(1000):\n",
        "    z = naive_add(x, y)\n",
        "    z = naive_relu(z)\n",
        "print(\"Took: {0:.2f} s\".format(time.time() - t0))"
      ]
    },
    {
      "cell_type": "markdown",
      "metadata": {
        "id": "Vtx3cttZx9Ry"
      },
      "source": [
        "### Broadcasting"
      ]
    },
    {
      "cell_type": "markdown",
      "source": [
        "shapes of two tensors가 다를 때 -> smaller tensor가 broadcast됨  \n",
        "1. 큰 tensor와 ndim이 일치하도록 작은 tensor에 broadcast axes 추가\n",
        "2. 작은 tensor은 새로운 축과 함께 반복됨 "
      ],
      "metadata": {
        "id": "QoXE6t9iOi4E"
      }
    },
    {
      "cell_type": "code",
      "execution_count": 51,
      "metadata": {
        "id": "-IRTgMrqx9Rz"
      },
      "outputs": [],
      "source": [
        "import numpy as np\n",
        "X = np.random.random((32, 10))\n",
        "y = np.random.random((10,))"
      ]
    },
    {
      "cell_type": "code",
      "execution_count": 52,
      "metadata": {
        "id": "0kmzmjc6x9R0"
      },
      "outputs": [],
      "source": [
        "y = np.expand_dims(y, axis=0) # shape of y : (1,10)"
      ]
    },
    {
      "cell_type": "code",
      "execution_count": 53,
      "metadata": {
        "id": "Ok5QEgSCx9R1"
      },
      "outputs": [],
      "source": [
        "Y = np.concatenate([y] * 32, axis=0) # repeat y 32 times along axis 0"
      ]
    },
    {
      "cell_type": "code",
      "execution_count": 54,
      "metadata": {
        "id": "fC9PnzXGx9R1"
      },
      "outputs": [],
      "source": [
        "def naive_add_matrix_and_vector(x, y):\n",
        "    assert len(x.shape) == 2\n",
        "    assert len(y.shape) == 1\n",
        "    assert x.shape[1] == y.shape[0]\n",
        "    x = x.copy()\n",
        "    for i in range(x.shape[0]):\n",
        "        for j in range(x.shape[1]):\n",
        "            x[i, j] += y[j]\n",
        "    return x"
      ]
    },
    {
      "cell_type": "code",
      "execution_count": 56,
      "metadata": {
        "id": "ty-qZTXPx9R1"
      },
      "outputs": [],
      "source": [
        "import numpy as np\n",
        "x = np.random.random((64, 3, 32, 10))\n",
        "y = np.random.random((32, 10))\n",
        "z = np.maximum(x, y)"
      ]
    },
    {
      "cell_type": "markdown",
      "metadata": {
        "id": "hlDAvw_cx9R1"
      },
      "source": [
        "### Tensor product"
      ]
    },
    {
      "cell_type": "code",
      "execution_count": 57,
      "metadata": {
        "id": "Np4LxIKCx9R1"
      },
      "outputs": [],
      "source": [
        "x = np.random.random((32,))\n",
        "y = np.random.random((32,))\n",
        "z = np.dot(x, y)"
      ]
    },
    {
      "cell_type": "code",
      "execution_count": 59,
      "metadata": {
        "id": "002SZUzDx9R2"
      },
      "outputs": [],
      "source": [
        "# vector * vector\n",
        "def naive_vector_dot(x, y):\n",
        "    assert len(x.shape) == 1\n",
        "    assert len(y.shape) == 1\n",
        "    assert x.shape[0] == y.shape[0]\n",
        "    z = 0.\n",
        "    for i in range(x.shape[0]):\n",
        "        z += x[i] * y[i]\n",
        "    return z"
      ]
    },
    {
      "cell_type": "code",
      "source": [
        "naive_vector_dot(x, y) # dot product between two vectors is a scalar"
      ],
      "metadata": {
        "id": "TJcfJOGpQ483",
        "outputId": "5100844c-5bb1-4559-d0bc-eaab7d3afd18",
        "colab": {
          "base_uri": "https://localhost:8080/"
        }
      },
      "execution_count": 60,
      "outputs": [
        {
          "output_type": "execute_result",
          "data": {
            "text/plain": [
              "6.779808858112942"
            ]
          },
          "metadata": {},
          "execution_count": 60
        }
      ]
    },
    {
      "cell_type": "code",
      "execution_count": 61,
      "metadata": {
        "id": "kkx29d3Fx9R2"
      },
      "outputs": [],
      "source": [
        "# matrix * vector\n",
        "def naive_matrix_vector_dot(x, y):\n",
        "    assert len(x.shape) == 2\n",
        "    assert len(y.shape) == 1\n",
        "    assert x.shape[1] == y.shape[0] # first dimension of x = 0th dimension of y\n",
        "    z = np.zeros(x.shape[0])\n",
        "    for i in range(x.shape[0]):\n",
        "        for j in range(x.shape[1]):\n",
        "            z[i] += x[i, j] * y[j]\n",
        "    return z"
      ]
    },
    {
      "cell_type": "code",
      "execution_count": 62,
      "metadata": {
        "id": "sxiotoDLx9R2"
      },
      "outputs": [],
      "source": [
        "def naive_matrix_vector_dot(x, y):\n",
        "    z = np.zeros(x.shape[0])\n",
        "    for i in range(x.shape[0]):\n",
        "        z[i] = naive_vector_dot(x[i, :], y)\n",
        "    return z"
      ]
    },
    {
      "cell_type": "code",
      "execution_count": 63,
      "metadata": {
        "id": "PU6KRqu9x9R2"
      },
      "outputs": [],
      "source": [
        "# matrix * matrix\n",
        "def naive_matrix_dot(x, y):\n",
        "    assert len(x.shape) == 2\n",
        "    assert len(y.shape) == 2\n",
        "    assert x.shape[1] == y.shape[0]\n",
        "    z = np.zeros((x.shape[0], y.shape[1]))\n",
        "    for i in range(x.shape[0]):\n",
        "        for j in range(y.shape[1]):\n",
        "            row_x = x[i, :]\n",
        "            column_y = y[:, j]\n",
        "            z[i, j] = naive_vector_dot(row_x, column_y)\n",
        "    return z"
      ]
    },
    {
      "cell_type": "markdown",
      "metadata": {
        "id": "_w_5o53mx9R3"
      },
      "source": [
        "### Tensor reshaping"
      ]
    },
    {
      "cell_type": "code",
      "execution_count": 64,
      "metadata": {
        "id": "m5PzSmb3x9R3"
      },
      "outputs": [],
      "source": [
        "train_images = train_images.reshape((60000, 28 * 28))"
      ]
    },
    {
      "cell_type": "code",
      "execution_count": 65,
      "metadata": {
        "id": "rLwW2gzMx9R3",
        "outputId": "7940fec8-46f9-4adf-8853-3059e5f4e5cc",
        "colab": {
          "base_uri": "https://localhost:8080/"
        }
      },
      "outputs": [
        {
          "output_type": "execute_result",
          "data": {
            "text/plain": [
              "(3, 2)"
            ]
          },
          "metadata": {},
          "execution_count": 65
        }
      ],
      "source": [
        "x = np.array([[0., 1.],\n",
        "             [2., 3.],\n",
        "             [4., 5.]])\n",
        "x.shape"
      ]
    },
    {
      "cell_type": "code",
      "execution_count": 66,
      "metadata": {
        "id": "21238l0gx9R4",
        "outputId": "50c3ed28-56be-412e-eee3-aad9d759a07a",
        "colab": {
          "base_uri": "https://localhost:8080/"
        }
      },
      "outputs": [
        {
          "output_type": "execute_result",
          "data": {
            "text/plain": [
              "array([[0.],\n",
              "       [1.],\n",
              "       [2.],\n",
              "       [3.],\n",
              "       [4.],\n",
              "       [5.]])"
            ]
          },
          "metadata": {},
          "execution_count": 66
        }
      ],
      "source": [
        "x = x.reshape((6, 1))\n",
        "x"
      ]
    },
    {
      "cell_type": "code",
      "execution_count": 67,
      "metadata": {
        "id": "-3fRXrsKx9R4",
        "outputId": "d541d88d-280a-463c-975a-a8e6ee9d8357",
        "colab": {
          "base_uri": "https://localhost:8080/"
        }
      },
      "outputs": [
        {
          "output_type": "execute_result",
          "data": {
            "text/plain": [
              "(20, 300)"
            ]
          },
          "metadata": {},
          "execution_count": 67
        }
      ],
      "source": [
        "x = np.zeros((300, 20))\n",
        "x = np.transpose(x)\n",
        "x.shape"
      ]
    },
    {
      "cell_type": "markdown",
      "metadata": {
        "id": "gof0FZLNx9R4"
      },
      "source": [
        "### Geometric interpretation of tensor operations"
      ]
    },
    {
      "cell_type": "markdown",
      "source": [
        "- 모든 tensor은 기하학적 의미로 해석될 수 있다. \n",
        "- geometric operation(translation, rotation, scaling, skewing 등)은 tensor operation으로 표현할 수 있다. "
      ],
      "metadata": {
        "id": "royihkeAU7fW"
      }
    },
    {
      "cell_type": "markdown",
      "metadata": {
        "id": "2U8sinXlx9R4"
      },
      "source": [
        "### A geometric interpretation of deep learning"
      ]
    },
    {
      "cell_type": "markdown",
      "source": [
        "- neural networks는 tensor operations의 chains들을 포함하며, 이러한 tensor operation은 단순히 input data에 대한 geometric transformation에 불과하다.\n",
        "- 3D에서, 다른 색의 색종이 2장이 있는데 이 두개를 함게 구겼다가 분류하는 문제와 같다.   \n",
        " -> 함께 구긴 2장의 색종이 ( input )  \n",
        " -> 두 장을 분류하기 위해 종이를 이동시키는 과정 ( neural network )\n",
        "  "
      ],
      "metadata": {
        "id": "c5qCtEplWDOk"
      }
    },
    {
      "cell_type": "markdown",
      "metadata": {
        "id": "kKf29nIOx9R4"
      },
      "source": [
        "## The engine of neural networks: gradient-based optimization"
      ]
    },
    {
      "cell_type": "markdown",
      "source": [
        "\n",
        "\n",
        "> output = relu(dot(input,w)+w)\n",
        "\n",
        "w & b -> tensor that are attributes of the layer.  \n",
        "w : weights(가중치), kernel  \n",
        "b : trainable parameters, bias\n",
        "\n",
        "  \n",
        "가중치 행렬은 처음에 random으로 채워지나, traning을 반복하며 점진적으로 조정된다."
      ],
      "metadata": {
        "id": "LCPQH5eWXgPI"
      }
    },
    {
      "cell_type": "markdown",
      "source": [
        "*Traing Loop*\n",
        "1. traing sample의 x와 대응하는 y_true\n",
        "2. x에서 모델을 돌린다(forward pass) -> y_pred 얻는다\n",
        "3. model의 loss를 계산한다. (y_true와 y_pred의 불일치 척도)\n",
        "4. 가중치를 업그레이드한다."
      ],
      "metadata": {
        "id": "mn6s5BpyZkG2"
      }
    },
    {
      "cell_type": "markdown",
      "source": [
        "Step 4 -> how?\n",
        "\n",
        "방법1) considered one scalar coefficient제외 나머지 값 동결하고 다른 coefficient를 넣어보는 방법 -> 모든 coefficient에 대해 반복   \n",
        "  -> 비효율적  \n",
        "방법2) gradient decent  \n"
      ],
      "metadata": {
        "id": "tHzsbQXPa--E"
      }
    },
    {
      "cell_type": "markdown",
      "metadata": {
        "id": "vVXzLwHNx9R5"
      },
      "source": [
        "### What's a derivative?"
      ]
    },
    {
      "cell_type": "markdown",
      "source": [
        "미분, 도함수, 기울기 ... "
      ],
      "metadata": {
        "id": "wBFpuJN9cySY"
      }
    },
    {
      "cell_type": "markdown",
      "metadata": {
        "id": "qGv1VC7Gx9R5"
      },
      "source": [
        "### Derivative of a tensor operation: the gradient"
      ]
    },
    {
      "cell_type": "markdown",
      "source": [
        "- derivative -> shape가 1 감소  \n",
        "- derivative 조건 : 함수가 연속적이고 매끄러운 경우 적용가능\n",
        "- derivative tensor operation = **gradient**\n",
        "- "
      ],
      "metadata": {
        "id": "d29_zWfF9-fC"
      }
    },
    {
      "cell_type": "markdown",
      "metadata": {
        "id": "C1A9Tf28x9R5"
      },
      "source": [
        "### Stochastic gradient descent"
      ]
    },
    {
      "cell_type": "markdown",
      "metadata": {
        "id": "LtzS7nLtx9R5"
      },
      "source": [
        "### Chaining derivatives: The Backpropagation algorithm"
      ]
    },
    {
      "cell_type": "markdown",
      "metadata": {
        "id": "gyEcE2vlx9R5"
      },
      "source": [
        "#### The chain rule"
      ]
    },
    {
      "cell_type": "markdown",
      "source": [
        "\n",
        "```\n",
        "def fhgj(x):\n",
        "  x1 = j(x)\n",
        "  x2 = h(x1)\n",
        "  x3 = g(x2)\n",
        "  y = f(x3)\n",
        "  return y \n",
        "```\n",
        "grad(y,x) == grad(y,x3) * grad(x3,x2) * grad(x2,x1) * grad(x1,x)  \n",
        "\n",
        "applying chain rule to the computation of gradient values of a neural network -> backpropagation\n",
        "\n"
      ],
      "metadata": {
        "id": "CtjR4R5rIFq9"
      }
    },
    {
      "cell_type": "markdown",
      "metadata": {
        "id": "Uj_nkbQBx9R5"
      },
      "source": [
        "#### Automatic differentiation with computation graphs"
      ]
    },
    {
      "cell_type": "markdown",
      "metadata": {
        "id": "uKWU6dS7x9R5"
      },
      "source": [
        "#### The gradient tape in TensorFlow"
      ]
    },
    {
      "cell_type": "markdown",
      "source": [
        "gradient tape -> python API, record the tensor operation "
      ],
      "metadata": {
        "id": "6xD2coMlK8GR"
      }
    },
    {
      "cell_type": "code",
      "execution_count": 1,
      "metadata": {
        "id": "r6KQuJK4x9R6"
      },
      "outputs": [],
      "source": [
        "import tensorflow as tf\n",
        "x = tf.Variable(0.) # 초기 인스턴스 생성 \n",
        "with tf.GradientTape() as tape: # open gradient tape \n",
        "    y = 2 * x + 3 \n",
        "grad_of_y_wrt_x = tape.gradient(y, x) # ues the tape to retrieve the gradient of output y"
      ]
    },
    {
      "cell_type": "code",
      "execution_count": 6,
      "metadata": {
        "id": "KW1dIvrpx9R6"
      },
      "outputs": [],
      "source": [
        "x = tf.Variable(tf.random.uniform((2, 2))) # uniform((2,2))의 값은 모두 0\n",
        "with tf.GradientTape() as tape:\n",
        "    y = 2 * x + 3\n",
        "grad_of_y_wrt_x = tape.gradient(y, x)"
      ]
    },
    {
      "cell_type": "code",
      "execution_count": 8,
      "metadata": {
        "id": "mqJj8BjNx9R6"
      },
      "outputs": [],
      "source": [
        "W = tf.Variable(tf.random.uniform((2, 2)))\n",
        "b = tf.Variable(tf.zeros((2,)))\n",
        "x = tf.random.uniform((2, 2))\n",
        "with tf.GradientTape() as tape:\n",
        "    y = tf.matmul(x, W) + b # matmul = dot product in tensorflow \n",
        "grad_of_y_wrt_W_and_b = tape.gradient(y, [W, b]) # list of two tensors with the same shapes as W and b, respectively "
      ]
    },
    {
      "cell_type": "markdown",
      "metadata": {
        "id": "T9uV2fYYx9R6"
      },
      "source": [
        "## Looking back at our first example"
      ]
    },
    {
      "cell_type": "code",
      "execution_count": 11,
      "metadata": {
        "id": "C3Dq939ix9R6"
      },
      "outputs": [],
      "source": [
        "(train_images, train_labels), (test_images, test_labels) = mnist.load_data()\n",
        "train_images = train_images.reshape((60000, 28 * 28))\n",
        "train_images = train_images.astype(\"float32\") / 255\n",
        "test_images = test_images.reshape((10000, 28 * 28))\n",
        "test_images = test_images.astype(\"float32\") / 255"
      ]
    },
    {
      "cell_type": "code",
      "execution_count": 20,
      "metadata": {
        "id": "ZR6GPieUx9R6"
      },
      "outputs": [],
      "source": [
        "model = keras.Sequential([\n",
        "    layers.Dense(512, activation=\"relu\"),\n",
        "    layers.Dense(10, activation=\"softmax\")\n",
        "])"
      ]
    },
    {
      "cell_type": "code",
      "execution_count": 21,
      "metadata": {
        "id": "q5hSjBRnx9R7"
      },
      "outputs": [],
      "source": [
        "model.compile(optimizer=\"rmsprop\",\n",
        "              loss=\"sparse_categorical_crossentropy\",\n",
        "              metrics=[\"accuracy\"])"
      ]
    },
    {
      "cell_type": "code",
      "execution_count": 22,
      "metadata": {
        "id": "9Kr-6GfDx9R7",
        "outputId": "1259e346-581b-46b7-89a1-e3b4a180c7c2",
        "colab": {
          "base_uri": "https://localhost:8080/"
        }
      },
      "outputs": [
        {
          "output_type": "stream",
          "name": "stdout",
          "text": [
            "Epoch 1/5\n",
            "469/469 [==============================] - 5s 10ms/step - loss: 0.2528 - accuracy: 0.9261\n",
            "Epoch 2/5\n",
            "469/469 [==============================] - 5s 10ms/step - loss: 0.1022 - accuracy: 0.9692\n",
            "Epoch 3/5\n",
            "469/469 [==============================] - 4s 9ms/step - loss: 0.0670 - accuracy: 0.9798\n",
            "Epoch 4/5\n",
            "469/469 [==============================] - 4s 9ms/step - loss: 0.0487 - accuracy: 0.9851\n",
            "Epoch 5/5\n",
            "469/469 [==============================] - 5s 10ms/step - loss: 0.0360 - accuracy: 0.9893\n"
          ]
        },
        {
          "output_type": "execute_result",
          "data": {
            "text/plain": [
              "<keras.callbacks.History at 0x7f45dcc89a10>"
            ]
          },
          "metadata": {},
          "execution_count": 22
        }
      ],
      "source": [
        "model.fit(train_images, train_labels, epochs=5, batch_size=128)"
      ]
    },
    {
      "cell_type": "markdown",
      "metadata": {
        "id": "EDI5ZFv2x9R7"
      },
      "source": [
        "### Reimplementing our first example from scratch in TensorFlow"
      ]
    },
    {
      "cell_type": "markdown",
      "metadata": {
        "id": "aFCTFjpvx9R7"
      },
      "source": [
        "#### A simple Dense class"
      ]
    },
    {
      "cell_type": "code",
      "execution_count": 24,
      "metadata": {
        "id": "e1Wvrpq5x9R7"
      },
      "outputs": [],
      "source": [
        "import tensorflow as tf\n",
        "\n",
        "class NaiveDense:\n",
        "    def __init__(self, input_size, output_size, activation):\n",
        "        self.activation = activation\n",
        "\n",
        "        w_shape = (input_size, output_size) # create matrix W, shaped (input_size, output_size), initialized with random values\n",
        "        w_initial_value = tf.random.uniform(w_shape, minval=0, maxval=1e-1)\n",
        "        self.W = tf.Variable(w_initial_value)  # tensor 저장 \n",
        "\n",
        "        b_shape = (output_size,) # create vector b, shaped(output_size), initialized with 0 \n",
        "        b_initial_value = tf.zeros(b_shape) \n",
        "        self.b = tf.Variable(b_initial_value) # tensor 저장 \n",
        "\n",
        "    def __call__(self, inputs): # apply the forward pass \n",
        "        return self.activation(tf. matmul(inputs, self.W) + self.b)\n",
        "\n",
        "    @property\n",
        "    def weights(self): \n",
        "        return [self.W, self.b]"
      ]
    },
    {
      "cell_type": "markdown",
      "metadata": {
        "id": "-MPoY7Ppx9R7"
      },
      "source": [
        "#### A simple Sequential class"
      ]
    },
    {
      "cell_type": "code",
      "execution_count": null,
      "metadata": {
        "id": "aBqNV0yYx9R8"
      },
      "outputs": [],
      "source": [
        "class NaiveSequential:\n",
        "    def __init__(self, layers):\n",
        "        self.layers = layers\n",
        "\n",
        "    def __call__(self, inputs):\n",
        "        x = inputs\n",
        "        for layer in self.layers:\n",
        "           x = layer(x)\n",
        "        return x\n",
        "\n",
        "    @property\n",
        "    def weights(self):\n",
        "       weights = []\n",
        "       for layer in self.layers:\n",
        "           weights += layer.weights\n",
        "       return weights"
      ]
    },
    {
      "cell_type": "code",
      "execution_count": null,
      "metadata": {
        "id": "sXIaTFjgx9R8"
      },
      "outputs": [],
      "source": [
        "model = NaiveSequential([\n",
        "    NaiveDense(input_size=28 * 28, output_size=512, activation=tf.nn.relu),\n",
        "    NaiveDense(input_size=512, output_size=10, activation=tf.nn.softmax)\n",
        "])\n",
        "assert len(model.weights) == 4"
      ]
    },
    {
      "cell_type": "markdown",
      "metadata": {
        "id": "ErEu0lDax9R8"
      },
      "source": [
        "#### A batch generator"
      ]
    },
    {
      "cell_type": "code",
      "execution_count": null,
      "metadata": {
        "id": "_pdKaKERx9R8"
      },
      "outputs": [],
      "source": [
        "import math\n",
        "\n",
        "class BatchGenerator:\n",
        "    def __init__(self, images, labels, batch_size=128):\n",
        "        assert len(images) == len(labels)\n",
        "        self.index = 0\n",
        "        self.images = images\n",
        "        self.labels = labels\n",
        "        self.batch_size = batch_size\n",
        "        self.num_batches = math.ceil(len(images) / batch_size)\n",
        "\n",
        "    def next(self):\n",
        "        images = self.images[self.index : self.index + self.batch_size]\n",
        "        labels = self.labels[self.index : self.index + self.batch_size]\n",
        "        self.index += self.batch_size\n",
        "        return images, labels"
      ]
    },
    {
      "cell_type": "markdown",
      "metadata": {
        "id": "OQujDdwjx9R8"
      },
      "source": [
        "### Running one training step"
      ]
    },
    {
      "cell_type": "code",
      "execution_count": null,
      "metadata": {
        "id": "QyWuq45Zx9R8"
      },
      "outputs": [],
      "source": [
        "def one_training_step(model, images_batch, labels_batch):\n",
        "    with tf.GradientTape() as tape:\n",
        "        predictions = model(images_batch)\n",
        "        per_sample_losses = tf.keras.losses.sparse_categorical_crossentropy(\n",
        "            labels_batch, predictions)\n",
        "        average_loss = tf.reduce_mean(per_sample_losses)\n",
        "    gradients = tape.gradient(average_loss, model.weights)\n",
        "    update_weights(gradients, model.weights)\n",
        "    return average_loss"
      ]
    },
    {
      "cell_type": "code",
      "execution_count": null,
      "metadata": {
        "id": "eHtTI3lrx9R9"
      },
      "outputs": [],
      "source": [
        "learning_rate = 1e-3\n",
        "\n",
        "def update_weights(gradients, weights):\n",
        "    for g, w in zip(gradients, weights):\n",
        "        w.assign_sub(g * learning_rate)"
      ]
    },
    {
      "cell_type": "code",
      "execution_count": null,
      "metadata": {
        "id": "tRMdafWix9R9"
      },
      "outputs": [],
      "source": [
        "from tensorflow.keras import optimizers\n",
        "\n",
        "optimizer = optimizers.SGD(learning_rate=1e-3)\n",
        "\n",
        "def update_weights(gradients, weights):\n",
        "    optimizer.apply_gradients(zip(gradients, weights))"
      ]
    },
    {
      "cell_type": "markdown",
      "metadata": {
        "id": "IGxM8Ildx9R-"
      },
      "source": [
        "### The full training loop"
      ]
    },
    {
      "cell_type": "code",
      "execution_count": null,
      "metadata": {
        "id": "9tIlg_2Tx9R_"
      },
      "outputs": [],
      "source": [
        "def fit(model, images, labels, epochs, batch_size=128):\n",
        "    for epoch_counter in range(epochs):\n",
        "        print(f\"Epoch {epoch_counter}\")\n",
        "        batch_generator = BatchGenerator(images, labels)\n",
        "        for batch_counter in range(batch_generator.num_batches):\n",
        "            images_batch, labels_batch = batch_generator.next()\n",
        "            loss = one_training_step(model, images_batch, labels_batch)\n",
        "            if batch_counter % 100 == 0:\n",
        "                print(f\"loss at batch {batch_counter}: {loss:.2f}\")"
      ]
    },
    {
      "cell_type": "code",
      "execution_count": null,
      "metadata": {
        "id": "YZLpdAsAx9R_"
      },
      "outputs": [],
      "source": [
        "from tensorflow.keras.datasets import mnist\n",
        "(train_images, train_labels), (test_images, test_labels) = mnist.load_data()\n",
        "\n",
        "train_images = train_images.reshape((60000, 28 * 28))\n",
        "train_images = train_images.astype(\"float32\") / 255\n",
        "test_images = test_images.reshape((10000, 28 * 28))\n",
        "test_images = test_images.astype(\"float32\") / 255\n",
        "\n",
        "fit(model, train_images, train_labels, epochs=10, batch_size=128)"
      ]
    },
    {
      "cell_type": "markdown",
      "metadata": {
        "id": "_w3DYTBex9SA"
      },
      "source": [
        "### Evaluating the model"
      ]
    },
    {
      "cell_type": "code",
      "execution_count": null,
      "metadata": {
        "id": "Aa9WlqFHx9SA"
      },
      "outputs": [],
      "source": [
        "predictions = model(test_images)\n",
        "predictions = predictions.numpy()\n",
        "predicted_labels = np.argmax(predictions, axis=1)\n",
        "matches = predicted_labels == test_labels\n",
        "print(f\"accuracy: {matches.mean():.2f}\")"
      ]
    },
    {
      "cell_type": "markdown",
      "metadata": {
        "id": "YpUL7luux9SB"
      },
      "source": [
        "## Summary"
      ]
    }
  ],
  "metadata": {
    "colab": {
      "collapsed_sections": [],
      "name": "chapter02_mathematical-building-blocks.i",
      "provenance": [],
      "toc_visible": true
    },
    "kernelspec": {
      "display_name": "Python 3",
      "language": "python",
      "name": "python3"
    },
    "language_info": {
      "codemirror_mode": {
        "name": "ipython",
        "version": 3
      },
      "file_extension": ".py",
      "mimetype": "text/x-python",
      "name": "python",
      "nbconvert_exporter": "python",
      "pygments_lexer": "ipython3",
      "version": "3.7.0"
    }
  },
  "nbformat": 4,
  "nbformat_minor": 0
}