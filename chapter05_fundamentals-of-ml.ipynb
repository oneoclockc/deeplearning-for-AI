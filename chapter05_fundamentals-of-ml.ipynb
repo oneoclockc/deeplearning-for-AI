{
  "cells": [
    {
      "cell_type": "markdown",
      "metadata": {
        "id": "6IJ9hM-RVORh"
      },
      "source": [
        "# Fundamentals of machine learning"
      ]
    },
    {
      "cell_type": "markdown",
      "metadata": {
        "id": "Huq2jDqjVORi"
      },
      "source": [
        "## Generalization: The goal of machine learning"
      ]
    },
    {
      "cell_type": "markdown",
      "source": [
        "- optimization : trainign set 에서 model을 조정하는 과정 (머신러닝의 학습)\n",
        "- generalizaion : 이전에 본 적 없는 data에서 model이 얼마나 잘 수행되는지  "
      ],
      "metadata": {
        "id": "KDbydVSiQqjj"
      }
    },
    {
      "cell_type": "markdown",
      "metadata": {
        "id": "Oeir4Af1VORi"
      },
      "source": [
        "### Underfitting and overfitting"
      ]
    },
    {
      "cell_type": "markdown",
      "source": [
        "- underfitting : loss of training data가 낮아질수록 loss of test data도 낮아짐  \n",
        "  -> training datta에 있는 관련 특성을 모두 학습하지 못함 -> 개선될 여지 有\n",
        "- overfitting : training data로 반복학습을 거치면 일반화 성능이 더이상 높아지지 않음  \n",
        "  -> sol1) more training data  \n",
        "  -> sol2) regulazaiton"
      ],
      "metadata": {
        "id": "zpeZrxy4Pcoz"
      }
    },
    {
      "cell_type": "markdown",
      "metadata": {
        "id": "SForidrBVORj"
      },
      "source": [
        "#### Noisy training data"
      ]
    },
    {
      "cell_type": "markdown",
      "source": [
        "overfitting is particularly likely to occur when your data in noisy  \n",
        "In real world datasets, fairly common for some inputs to be invalid"
      ],
      "metadata": {
        "id": "UErIuiTXSkQS"
      }
    },
    {
      "cell_type": "markdown",
      "metadata": {
        "id": "0eRIIFfMVORj"
      },
      "source": [
        "#### Ambiguous features"
      ]
    },
    {
      "cell_type": "markdown",
      "source": [
        "ex) Model that takes an image of a banana and predicts whether the banana is unripe, ripe or rotten. -> have no objective boundary  \n",
        "\n",
        "MORE ROBUST FIT -> would ignore individual data points and look at the bigger picture"
      ],
      "metadata": {
        "id": "p_8bOwbjTRjj"
      }
    },
    {
      "cell_type": "markdown",
      "metadata": {
        "id": "sqy4_mwAVORk"
      },
      "source": [
        "#### Rare features and spurious correlations"
      ]
    },
    {
      "cell_type": "markdown",
      "source": [
        "rare feature values가 포함된 dataset으로 훈련된 overffiting 되기 쉽다.\n"
      ],
      "metadata": {
        "id": "Wfgp56EfUmMp"
      }
    },
    {
      "cell_type": "markdown",
      "metadata": {
        "id": "jkYYN2PIVORl"
      },
      "source": [
        "**Adding white-noise channels or all-zeros channels to MNIST**"
      ]
    },
    {
      "cell_type": "code",
      "execution_count": null,
      "metadata": {
        "id": "T0uS0PN7VORm"
      },
      "outputs": [],
      "source": [
        "from tensorflow.keras.datasets import mnist\n",
        "import numpy as np\n",
        "\n",
        "(train_images, train_labels), _ = mnist.load_data()\n",
        "train_images = train_images.reshape((60000, 28 * 28)) \n",
        "train_images = train_images.astype(\"float32\") / 255\n",
        "\n",
        "train_images_with_noise_channels = np.concatenate(\n",
        "    [train_images, np.random.random((len(train_images), 784))], axis=1) # random으로 noise만들기 \n",
        "\n",
        "train_images_with_zeros_channels = np.concatenate(\n",
        "    [train_images, np.zeros((len(train_images), 784))], axis=1) # all zero 만들기 (왜?????)"
      ]
    },
    {
      "cell_type": "markdown",
      "metadata": {
        "id": "yMzD38E6VORo"
      },
      "source": [
        "**Training the same model on MNIST data with noise channels or all-zero channels**"
      ]
    },
    {
      "cell_type": "code",
      "execution_count": null,
      "metadata": {
        "id": "rd3wQqU-VORo",
        "outputId": "9272fd5d-9135-42d3-c40a-1bf5f9fd5397",
        "colab": {
          "base_uri": "https://localhost:8080/"
        }
      },
      "outputs": [
        {
          "output_type": "stream",
          "name": "stdout",
          "text": [
            "Epoch 1/10\n",
            "375/375 [==============================] - 7s 18ms/step - loss: 0.6232 - accuracy: 0.8098 - val_loss: 0.2871 - val_accuracy: 0.9134\n",
            "Epoch 2/10\n",
            "375/375 [==============================] - 7s 18ms/step - loss: 0.2491 - accuracy: 0.9225 - val_loss: 0.2022 - val_accuracy: 0.9399\n",
            "Epoch 3/10\n",
            "375/375 [==============================] - 7s 17ms/step - loss: 0.1600 - accuracy: 0.9509 - val_loss: 0.1909 - val_accuracy: 0.9366\n",
            "Epoch 4/10\n",
            "375/375 [==============================] - 7s 17ms/step - loss: 0.1135 - accuracy: 0.9645 - val_loss: 0.1449 - val_accuracy: 0.9563\n",
            "Epoch 5/10\n",
            "375/375 [==============================] - 7s 17ms/step - loss: 0.0813 - accuracy: 0.9745 - val_loss: 0.1233 - val_accuracy: 0.9652\n",
            "Epoch 6/10\n",
            "375/375 [==============================] - 7s 18ms/step - loss: 0.0616 - accuracy: 0.9806 - val_loss: 0.1362 - val_accuracy: 0.9614\n",
            "Epoch 7/10\n",
            "375/375 [==============================] - 9s 24ms/step - loss: 0.0450 - accuracy: 0.9855 - val_loss: 0.1526 - val_accuracy: 0.9604\n",
            "Epoch 8/10\n",
            "375/375 [==============================] - 9s 23ms/step - loss: 0.0334 - accuracy: 0.9894 - val_loss: 0.1318 - val_accuracy: 0.9681\n",
            "Epoch 9/10\n",
            "375/375 [==============================] - 7s 17ms/step - loss: 0.0258 - accuracy: 0.9918 - val_loss: 0.1333 - val_accuracy: 0.9683\n",
            "Epoch 10/10\n",
            "375/375 [==============================] - 7s 18ms/step - loss: 0.0192 - accuracy: 0.9935 - val_loss: 0.1286 - val_accuracy: 0.9696\n",
            "Epoch 1/10\n",
            "375/375 [==============================] - 7s 18ms/step - loss: 0.2871 - accuracy: 0.9162 - val_loss: 0.1501 - val_accuracy: 0.9603\n",
            "Epoch 2/10\n",
            "375/375 [==============================] - 7s 17ms/step - loss: 0.1186 - accuracy: 0.9650 - val_loss: 0.1032 - val_accuracy: 0.9685\n",
            "Epoch 3/10\n",
            "375/375 [==============================] - 7s 18ms/step - loss: 0.0778 - accuracy: 0.9766 - val_loss: 0.0999 - val_accuracy: 0.9683\n",
            "Epoch 4/10\n",
            "375/375 [==============================] - 7s 17ms/step - loss: 0.0566 - accuracy: 0.9827 - val_loss: 0.0876 - val_accuracy: 0.9741\n",
            "Epoch 5/10\n",
            "375/375 [==============================] - 7s 17ms/step - loss: 0.0427 - accuracy: 0.9873 - val_loss: 0.0777 - val_accuracy: 0.9778\n",
            "Epoch 6/10\n",
            "375/375 [==============================] - 7s 18ms/step - loss: 0.0324 - accuracy: 0.9906 - val_loss: 0.0843 - val_accuracy: 0.9772\n",
            "Epoch 7/10\n",
            "375/375 [==============================] - 7s 18ms/step - loss: 0.0247 - accuracy: 0.9926 - val_loss: 0.0823 - val_accuracy: 0.9772\n",
            "Epoch 8/10\n",
            "375/375 [==============================] - 7s 17ms/step - loss: 0.0191 - accuracy: 0.9945 - val_loss: 0.0778 - val_accuracy: 0.9787\n",
            "Epoch 9/10\n",
            "375/375 [==============================] - 7s 18ms/step - loss: 0.0143 - accuracy: 0.9960 - val_loss: 0.0806 - val_accuracy: 0.9797\n",
            "Epoch 10/10\n",
            "375/375 [==============================] - 7s 17ms/step - loss: 0.0109 - accuracy: 0.9969 - val_loss: 0.0888 - val_accuracy: 0.9780\n"
          ]
        }
      ],
      "source": [
        "from tensorflow import keras\n",
        "from tensorflow.keras import layers\n",
        "\n",
        "def get_model():\n",
        "    model = keras.Sequential([\n",
        "        layers.Dense(512, activation=\"relu\"),\n",
        "        layers.Dense(10, activation=\"softmax\")\n",
        "    ])\n",
        "    model.compile(optimizer=\"rmsprop\",\n",
        "                  loss=\"sparse_categorical_crossentropy\",\n",
        "                  metrics=[\"accuracy\"])\n",
        "    return model\n",
        "\n",
        "model = get_model()\n",
        "history_noise = model.fit(\n",
        "    train_images_with_noise_channels, train_labels, # noise channel에 대한 label은???????\n",
        "    epochs=10,\n",
        "    batch_size=128,\n",
        "    validation_split=0.2)\n",
        "\n",
        "model = get_model()\n",
        "history_zeros = model.fit(\n",
        "    train_images_with_zeros_channels, train_labels,\n",
        "    epochs=10,\n",
        "    batch_size=128,\n",
        "    validation_split=0.2)"
      ]
    },
    {
      "cell_type": "markdown",
      "metadata": {
        "id": "JBtwMZ4BVORq"
      },
      "source": [
        "**Plotting a validation accuracy comparison**"
      ]
    },
    {
      "cell_type": "code",
      "execution_count": null,
      "metadata": {
        "id": "f6-UngpjVORq",
        "outputId": "6cc5b10c-4375-486f-a970-4101ec52b7b2",
        "colab": {
          "base_uri": "https://localhost:8080/",
          "height": 313
        }
      },
      "outputs": [
        {
          "output_type": "execute_result",
          "data": {
            "text/plain": [
              "<matplotlib.legend.Legend at 0x7f87b1bb0250>"
            ]
          },
          "metadata": {},
          "execution_count": 7
        },
        {
          "output_type": "display_data",
          "data": {
            "text/plain": [
              "<Figure size 432x288 with 1 Axes>"
            ],
            "image/png": "[encoded data removed]"
          },
          "metadata": {
            "needs_background": "light"
          }
        }
      ],
      "source": [
        "import matplotlib.pyplot as plt\n",
        "val_acc_noise = history_noise.history[\"val_accuracy\"]\n",
        "val_acc_zeros = history_zeros.history[\"val_accuracy\"]\n",
        "epochs = range(1, 11)\n",
        "plt.plot(epochs, val_acc_noise, \"b-\",\n",
        "         label=\"Validation accuracy with noise channels\")\n",
        "plt.plot(epochs, val_acc_zeros, \"b--\",\n",
        "         label=\"Validation accuracy with zeros channels\")\n",
        "plt.title(\"Effect of noise channels on validation accuracy\")\n",
        "plt.xlabel(\"Epochs\")\n",
        "plt.ylabel(\"Accuracy\")\n",
        "plt.legend()"
      ]
    },
    {
      "cell_type": "markdown",
      "source": [
        "noise를 추가한 모델은 accuracy 가 떨어짐 (overfitting의 가능성이 커짐)  \n",
        "만약 어떤 feature이 imformative 한지 distracting 한지 모른다면 feature selection 을 한다.  "
      ],
      "metadata": {
        "id": "qpmOjakBZyZb"
      }
    },
    {
      "cell_type": "markdown",
      "metadata": {
        "id": "Kuwzy7-oVORs"
      },
      "source": [
        "### The nature of generalization in deep learning"
      ]
    },
    {
      "cell_type": "markdown",
      "metadata": {
        "id": "UqQUURhOVORt"
      },
      "source": [
        "**Fitting a MNIST model with randomly shuffled labels**"
      ]
    },
    {
      "cell_type": "markdown",
      "source": [
        "machine learning model 에서 어떤것이든 적합하도록 훈련할 수 있다.  \n",
        "-> MNIST set의 labels를 섞어서 훈련해도 적합이 가능 (물론 generalization은 불가!) "
      ],
      "metadata": {
        "id": "pKuujSqZdmb2"
      }
    },
    {
      "cell_type": "code",
      "execution_count": null,
      "metadata": {
        "id": "YFPcUlrDVORu"
      },
      "outputs": [],
      "source": [
        "(train_images, train_labels), _ = mnist.load_data()\n",
        "train_images = train_images.reshape((60000, 28 * 28))\n",
        "train_images = train_images.astype(\"float32\") / 255\n",
        "\n",
        "random_train_labels = train_labels[:]\n",
        "np.random.shuffle(random_train_labels)\n",
        "\n",
        "model = keras.Sequential([\n",
        "    layers.Dense(512, activation=\"relu\"),\n",
        "    layers.Dense(10, activation=\"softmax\")\n",
        "])\n",
        "model.compile(optimizer=\"rmsprop\",\n",
        "              loss=\"sparse_categorical_crossentropy\",\n",
        "              metrics=[\"accuracy\"])\n",
        "model.fit(train_images, random_train_labels,\n",
        "          epochs=100,\n",
        "          batch_size=128,\n",
        "          validation_split=0.2)"
      ]
    },
    {
      "cell_type": "code",
      "source": [
        "(train_images, train_labels), _ = mnist.load_data()\n",
        "train_images = train_images.reshape((60000, 28 * 28))\n",
        "train_images = train_images.astype(\"float32\") / 255\n",
        "\n",
        "random_train_labels = train_labels[:]\n",
        "np.random.shuffle(random_train_labels)"
      ],
      "metadata": {
        "id": "IcYWa2Mwbl6Y"
      },
      "execution_count": null,
      "outputs": []
    },
    {
      "cell_type": "markdown",
      "metadata": {
        "id": "dwX1HTbZVORv"
      },
      "source": [
        "#### The manifold hypothesis"
      ]
    },
    {
      "cell_type": "markdown",
      "source": [
        "- 고차원 데이터라 할지라도, 실질적으로 해당 데이터를 나타내주는 저차원 공간인 manifold가 존재한다.   \n",
        "근데 약간 어려움 뭔말인지잘모르겠다 "
      ],
      "metadata": {
        "id": "L7yJRaOLf9zu"
      }
    },
    {
      "cell_type": "markdown",
      "metadata": {
        "id": "TVK7RU3LVORv"
      },
      "source": [
        "#### Interpolation as a source of generalization"
      ]
    },
    {
      "cell_type": "markdown",
      "metadata": {
        "id": "Ls9jamjzVORw"
      },
      "source": [
        "#### Why deep learning works"
      ]
    },
    {
      "cell_type": "markdown",
      "metadata": {
        "id": "YYNMh4drVORw"
      },
      "source": [
        "#### Training data is paramount"
      ]
    },
    {
      "cell_type": "markdown",
      "metadata": {
        "id": "ago1495VVORx"
      },
      "source": [
        "## Evaluating machine-learning models"
      ]
    },
    {
      "cell_type": "markdown",
      "metadata": {
        "id": "Opftk5gqVORy"
      },
      "source": [
        "### Training, validation, and test sets"
      ]
    },
    {
      "cell_type": "markdown",
      "source": [
        "왜 validation set이 필요할까?  \n",
        "-> layor 수, layor 유닛 등 hyperparameter를 tuning 하기 위함"
      ],
      "metadata": {
        "id": "hUuHebORiD1c"
      }
    },
    {
      "cell_type": "markdown",
      "metadata": {
        "id": "CURNz36OVORy"
      },
      "source": [
        "#### Simple hold-out validation"
      ]
    },
    {
      "cell_type": "markdown",
      "source": [
        "단순히 training set 과 validation set 을 나누는 것  \n",
        "훈련 세트로 모델 훈련, 검증 세트로 평가 -> 튜닝 -> 훈련 -> 평가 -> ... 반복  \n",
        "hyperparameter 튜닝이 끝나면 test데이터 제외한 data로 최종 모델 훈련 "
      ],
      "metadata": {
        "id": "5wdgSWmHj52i"
      }
    },
    {
      "cell_type": "markdown",
      "metadata": {
        "id": "2fWlwRobVORz"
      },
      "source": [
        "#### K-fold validation"
      ]
    },
    {
      "cell_type": "markdown",
      "source": [
        "data를 k개의 fold로 나누고 각 분할 i에 대해 남은 k-1개로 training, 1개로 test  \n",
        "-> k번 반복 -> k개 fold 의 평균 검증 점수  \n",
        "hyperparameter 튜닝이 끝나면 test데이터 제외한 data로 최종 모델 훈련 "
      ],
      "metadata": {
        "id": "DCvdR9lTjhgv"
      }
    },
    {
      "cell_type": "markdown",
      "metadata": {
        "id": "qxZkDcBBVOR0"
      },
      "source": [
        "#### Iterated K-fold validation with shuffling"
      ]
    },
    {
      "cell_type": "markdown",
      "source": [
        "가용 데이터가 적고 정확히 평가하고자 할 때 사용  \n",
        "K-fold cv를 여러번 적용하되 K개의 분할로 나누기 전 매번 데이터를 무작위로 섞음"
      ],
      "metadata": {
        "id": "GD8NLJRajGoF"
      }
    },
    {
      "cell_type": "markdown",
      "metadata": {
        "id": "_imHpLNgVOR0"
      },
      "source": [
        "### Beating a common-sense baseline"
      ]
    },
    {
      "cell_type": "markdown",
      "metadata": {
        "id": "cQ_TnvqpVOR0"
      },
      "source": [
        "### Things to keep in mind about model evaluation"
      ]
    },
    {
      "cell_type": "markdown",
      "source": [
        "- 대표성 있는 데이터\n",
        "- 시간의 방향\n",
        "- 데이터 중복"
      ],
      "metadata": {
        "id": "AJInN7kJkTwY"
      }
    },
    {
      "cell_type": "markdown",
      "metadata": {
        "id": "Q9ssEdD5VOR1"
      },
      "source": [
        "## Improving model fit"
      ]
    },
    {
      "cell_type": "markdown",
      "metadata": {
        "id": "NNUZq-TMVOR2"
      },
      "source": [
        "### Tuning key gradient descent parameters"
      ]
    },
    {
      "cell_type": "markdown",
      "source": [
        "when training doesn't get started or stalls too early (loss stuck)  "
      ],
      "metadata": {
        "id": "mah1-xAul58M"
      }
    },
    {
      "cell_type": "markdown",
      "metadata": {
        "id": "ETUTi6OSVOR2"
      },
      "source": [
        "**Training a MNIST model with an incorrectly high learning rate**"
      ]
    },
    {
      "cell_type": "code",
      "execution_count": null,
      "metadata": {
        "id": "1gatORRnVOR2",
        "outputId": "cb8af81b-a841-4432-e508-6a50d56d9ab9",
        "colab": {
          "base_uri": "https://localhost:8080/"
        }
      },
      "outputs": [
        {
          "output_type": "stream",
          "name": "stdout",
          "text": [
            "Epoch 1/10\n",
            "375/375 [==============================] - 5s 11ms/step - loss: 865.9658 - accuracy: 0.3365 - val_loss: 2.4330 - val_accuracy: 0.2841\n",
            "Epoch 2/10\n",
            "375/375 [==============================] - 4s 11ms/step - loss: 4.7674 - accuracy: 0.2365 - val_loss: 2.3195 - val_accuracy: 0.2459\n",
            "Epoch 3/10\n",
            "375/375 [==============================] - 7s 18ms/step - loss: 2.8924 - accuracy: 0.2351 - val_loss: 3.3490 - val_accuracy: 0.2449\n",
            "Epoch 4/10\n",
            "375/375 [==============================] - 6s 17ms/step - loss: 2.5750 - accuracy: 0.2297 - val_loss: 2.6816 - val_accuracy: 0.2053\n",
            "Epoch 5/10\n",
            "375/375 [==============================] - 6s 16ms/step - loss: 2.7110 - accuracy: 0.2528 - val_loss: 2.4032 - val_accuracy: 0.2803\n",
            "Epoch 6/10\n",
            "375/375 [==============================] - 6s 15ms/step - loss: 2.6458 - accuracy: 0.2524 - val_loss: 2.2213 - val_accuracy: 0.2567\n",
            "Epoch 7/10\n",
            "375/375 [==============================] - 5s 15ms/step - loss: 2.7842 - accuracy: 0.2665 - val_loss: 2.1184 - val_accuracy: 0.2682\n",
            "Epoch 8/10\n",
            "375/375 [==============================] - 4s 11ms/step - loss: 2.3993 - accuracy: 0.2590 - val_loss: 3.1710 - val_accuracy: 0.3118\n",
            "Epoch 9/10\n",
            "375/375 [==============================] - 4s 10ms/step - loss: 2.5386 - accuracy: 0.2886 - val_loss: 2.3337 - val_accuracy: 0.3064\n",
            "Epoch 10/10\n",
            "375/375 [==============================] - 4s 11ms/step - loss: 2.3947 - accuracy: 0.2952 - val_loss: 2.1052 - val_accuracy: 0.2336\n"
          ]
        },
        {
          "output_type": "execute_result",
          "data": {
            "text/plain": [
              "<keras.callbacks.History at 0x7f87adaf3e50>"
            ]
          },
          "metadata": {},
          "execution_count": 33
        }
      ],
      "source": [
        "(train_images, train_labels), _ = mnist.load_data()\n",
        "train_images = train_images.reshape((60000, 28 * 28))\n",
        "train_images = train_images.astype(\"float32\") / 255\n",
        "\n",
        "model = keras.Sequential([\n",
        "    layers.Dense(512, activation=\"relu\"),\n",
        "    layers.Dense(10, activation=\"softmax\")\n",
        "])\n",
        "model.compile(optimizer=keras.optimizers.RMSprop(1.), # 학습률 1 (high)\n",
        "              loss=\"sparse_categorical_crossentropy\",\n",
        "              metrics=[\"accuracy\"])\n",
        "model.fit(train_images, train_labels,\n",
        "          epochs=10,\n",
        "          batch_size=128,\n",
        "          validation_split=0.2)"
      ]
    },
    {
      "cell_type": "markdown",
      "metadata": {
        "id": "pLryyx3TVOR3"
      },
      "source": [
        "**The same model with a more appropriate learning rate**"
      ]
    },
    {
      "cell_type": "code",
      "execution_count": null,
      "metadata": {
        "id": "TXQF7cnRVOR3",
        "outputId": "e249b7d7-5460-49ad-ed87-d3889d3178c3",
        "colab": {
          "base_uri": "https://localhost:8080/"
        }
      },
      "outputs": [
        {
          "output_type": "stream",
          "name": "stdout",
          "text": [
            "Epoch 1/10\n",
            "375/375 [==============================] - 5s 13ms/step - loss: 0.3846 - accuracy: 0.9104 - val_loss: 0.1419 - val_accuracy: 0.9607\n",
            "Epoch 2/10\n",
            "375/375 [==============================] - 4s 10ms/step - loss: 0.1380 - accuracy: 0.9651 - val_loss: 0.1859 - val_accuracy: 0.9585\n",
            "Epoch 3/10\n",
            "375/375 [==============================] - 4s 11ms/step - loss: 0.1099 - accuracy: 0.9732 - val_loss: 0.1613 - val_accuracy: 0.9692\n",
            "Epoch 4/10\n",
            "375/375 [==============================] - 4s 11ms/step - loss: 0.0980 - accuracy: 0.9779 - val_loss: 0.2019 - val_accuracy: 0.9680\n",
            "Epoch 5/10\n",
            "375/375 [==============================] - 4s 10ms/step - loss: 0.0880 - accuracy: 0.9811 - val_loss: 0.1978 - val_accuracy: 0.9703\n",
            "Epoch 6/10\n",
            "375/375 [==============================] - 4s 10ms/step - loss: 0.0757 - accuracy: 0.9839 - val_loss: 0.2777 - val_accuracy: 0.9702\n",
            "Epoch 7/10\n",
            "375/375 [==============================] - 4s 11ms/step - loss: 0.0707 - accuracy: 0.9863 - val_loss: 0.2389 - val_accuracy: 0.9717\n",
            "Epoch 8/10\n",
            "375/375 [==============================] - 4s 11ms/step - loss: 0.0625 - accuracy: 0.9878 - val_loss: 0.2627 - val_accuracy: 0.9726\n",
            "Epoch 9/10\n",
            "375/375 [==============================] - 4s 11ms/step - loss: 0.0581 - accuracy: 0.9889 - val_loss: 0.2651 - val_accuracy: 0.9751\n",
            "Epoch 10/10\n",
            "375/375 [==============================] - 4s 11ms/step - loss: 0.0473 - accuracy: 0.9905 - val_loss: 0.3131 - val_accuracy: 0.9747\n"
          ]
        },
        {
          "output_type": "execute_result",
          "data": {
            "text/plain": [
              "<keras.callbacks.History at 0x7f87ad809f10>"
            ]
          },
          "metadata": {},
          "execution_count": 35
        }
      ],
      "source": [
        "model = keras.Sequential([\n",
        "    layers.Dense(512, activation=\"relu\"),\n",
        "    layers.Dense(10, activation=\"softmax\")\n",
        "])\n",
        "model.compile(optimizer=keras.optimizers.RMSprop(1e-2), # 학습률 1e-2 (appropriate)\n",
        "              loss=\"sparse_categorical_crossentropy\",\n",
        "              metrics=[\"accuracy\"])\n",
        "model.fit(train_images, train_labels,\n",
        "          epochs=10,\n",
        "          batch_size=128,\n",
        "          validation_split=0.2)"
      ]
    },
    {
      "cell_type": "markdown",
      "source": [
        "try  \n",
        "- learning rate 조절\n",
        "- batch size 높이기"
      ],
      "metadata": {
        "id": "Ltb3uxNQmUhn"
      }
    },
    {
      "cell_type": "markdown",
      "metadata": {
        "id": "lNsoqi8aVOR4"
      },
      "source": [
        "### Leveraging better architecture priors"
      ]
    },
    {
      "cell_type": "markdown",
      "metadata": {
        "id": "uPh_fgp-VOR4"
      },
      "source": [
        "### Increasing model capacity"
      ]
    },
    {
      "cell_type": "markdown",
      "metadata": {
        "id": "_0ZqDGIiVOR5"
      },
      "source": [
        "**A simple logistic regression on MNIST**"
      ]
    },
    {
      "cell_type": "code",
      "execution_count": null,
      "metadata": {
        "id": "0Z2zmYKEVOR5",
        "outputId": "96f92af7-e911-404b-e497-97930650641a",
        "colab": {
          "base_uri": "https://localhost:8080/"
        }
      },
      "outputs": [
        {
          "output_type": "stream",
          "name": "stdout",
          "text": [
            "Epoch 1/20\n",
            "375/375 [==============================] - 1s 3ms/step - loss: 0.6779 - accuracy: 0.8319 - val_loss: 0.3631 - val_accuracy: 0.8998\n",
            "Epoch 2/20\n",
            "375/375 [==============================] - 1s 3ms/step - loss: 0.3520 - accuracy: 0.9033 - val_loss: 0.3075 - val_accuracy: 0.9152\n",
            "Epoch 3/20\n",
            "375/375 [==============================] - 1s 3ms/step - loss: 0.3158 - accuracy: 0.9118 - val_loss: 0.2897 - val_accuracy: 0.9194\n",
            "Epoch 4/20\n",
            "375/375 [==============================] - 1s 3ms/step - loss: 0.2997 - accuracy: 0.9163 - val_loss: 0.2815 - val_accuracy: 0.9205\n",
            "Epoch 5/20\n",
            "375/375 [==============================] - 1s 3ms/step - loss: 0.2896 - accuracy: 0.9191 - val_loss: 0.2764 - val_accuracy: 0.9231\n",
            "Epoch 6/20\n",
            "375/375 [==============================] - 1s 3ms/step - loss: 0.2830 - accuracy: 0.9211 - val_loss: 0.2712 - val_accuracy: 0.9250\n",
            "Epoch 7/20\n",
            "375/375 [==============================] - 1s 3ms/step - loss: 0.2781 - accuracy: 0.9222 - val_loss: 0.2698 - val_accuracy: 0.9268\n",
            "Epoch 8/20\n",
            "375/375 [==============================] - 1s 3ms/step - loss: 0.2742 - accuracy: 0.9232 - val_loss: 0.2669 - val_accuracy: 0.9263\n",
            "Epoch 9/20\n",
            "375/375 [==============================] - 1s 3ms/step - loss: 0.2715 - accuracy: 0.9246 - val_loss: 0.2656 - val_accuracy: 0.9268\n",
            "Epoch 10/20\n",
            "375/375 [==============================] - 1s 3ms/step - loss: 0.2686 - accuracy: 0.9257 - val_loss: 0.2645 - val_accuracy: 0.9291\n",
            "Epoch 11/20\n",
            "375/375 [==============================] - 1s 3ms/step - loss: 0.2665 - accuracy: 0.9261 - val_loss: 0.2639 - val_accuracy: 0.9292\n",
            "Epoch 12/20\n",
            "375/375 [==============================] - 1s 3ms/step - loss: 0.2646 - accuracy: 0.9266 - val_loss: 0.2648 - val_accuracy: 0.9282\n",
            "Epoch 13/20\n",
            "375/375 [==============================] - 1s 3ms/step - loss: 0.2631 - accuracy: 0.9274 - val_loss: 0.2630 - val_accuracy: 0.9286\n",
            "Epoch 14/20\n",
            "375/375 [==============================] - 1s 3ms/step - loss: 0.2617 - accuracy: 0.9276 - val_loss: 0.2640 - val_accuracy: 0.9285\n",
            "Epoch 15/20\n",
            "375/375 [==============================] - 1s 3ms/step - loss: 0.2604 - accuracy: 0.9285 - val_loss: 0.2614 - val_accuracy: 0.9293\n",
            "Epoch 16/20\n",
            "375/375 [==============================] - 1s 3ms/step - loss: 0.2594 - accuracy: 0.9291 - val_loss: 0.2633 - val_accuracy: 0.9311\n",
            "Epoch 17/20\n",
            "375/375 [==============================] - 1s 3ms/step - loss: 0.2585 - accuracy: 0.9288 - val_loss: 0.2611 - val_accuracy: 0.9302\n",
            "Epoch 18/20\n",
            "375/375 [==============================] - 1s 3ms/step - loss: 0.2573 - accuracy: 0.9300 - val_loss: 0.2630 - val_accuracy: 0.9300\n",
            "Epoch 19/20\n",
            "375/375 [==============================] - 1s 3ms/step - loss: 0.2563 - accuracy: 0.9298 - val_loss: 0.2607 - val_accuracy: 0.9313\n",
            "Epoch 20/20\n",
            "375/375 [==============================] - 1s 3ms/step - loss: 0.2555 - accuracy: 0.9298 - val_loss: 0.2624 - val_accuracy: 0.9307\n"
          ]
        }
      ],
      "source": [
        "model = keras.Sequential([layers.Dense(10, activation=\"softmax\")])\n",
        "model.compile(optimizer=\"rmsprop\",\n",
        "              loss=\"sparse_categorical_crossentropy\",\n",
        "              metrics=[\"accuracy\"])\n",
        "history_small_model = model.fit(\n",
        "    train_images, train_labels,\n",
        "    epochs=20,\n",
        "    batch_size=128,\n",
        "    validation_split=0.2)"
      ]
    },
    {
      "cell_type": "code",
      "execution_count": null,
      "metadata": {
        "id": "X63bRkM1VOR6",
        "outputId": "5f2c9e01-c5a3-44aa-ce36-20357598734c",
        "colab": {
          "base_uri": "https://localhost:8080/",
          "height": 313
        }
      },
      "outputs": [
        {
          "output_type": "execute_result",
          "data": {
            "text/plain": [
              "<matplotlib.legend.Legend at 0x7f87abbad690>"
            ]
          },
          "metadata": {},
          "execution_count": 37
        },
        {
          "output_type": "display_data",
          "data": {
            "text/plain": [
              "<Figure size 432x288 with 1 Axes>"
            ],
            "image/png": "[encoded data removed]"
          },
          "metadata": {
            "needs_background": "light"
          }
        }
      ],
      "source": [
        "import matplotlib.pyplot as plt\n",
        "val_loss = history_small_model.history[\"val_loss\"]\n",
        "epochs = range(1, 21)\n",
        "plt.plot(epochs, val_loss, \"b--\",\n",
        "         label=\"Validation loss\")\n",
        "plt.title(\"Effect of insufficient model capacity on validation loss\")\n",
        "plt.xlabel(\"Epochs\")\n",
        "plt.ylabel(\"Loss\")\n",
        "plt.legend()"
      ]
    },
    {
      "cell_type": "markdown",
      "source": [
        "-> layer을 늘리거나 more parameters가 있는 layer를 사용"
      ],
      "metadata": {
        "id": "cdWNiAvppQzJ"
      }
    },
    {
      "cell_type": "code",
      "execution_count": null,
      "metadata": {
        "id": "6JjoixmgVOR6",
        "outputId": "8c186a31-0a29-4306-fb2b-49470aabe1c1",
        "colab": {
          "base_uri": "https://localhost:8080/"
        }
      },
      "outputs": [
        {
          "output_type": "stream",
          "name": "stdout",
          "text": [
            "Epoch 1/20\n",
            "375/375 [==============================] - 3s 6ms/step - loss: 0.3527 - accuracy: 0.9002 - val_loss: 0.1890 - val_accuracy: 0.9463\n",
            "Epoch 2/20\n",
            "375/375 [==============================] - 3s 7ms/step - loss: 0.1552 - accuracy: 0.9537 - val_loss: 0.1271 - val_accuracy: 0.9615\n",
            "Epoch 3/20\n",
            "375/375 [==============================] - 3s 9ms/step - loss: 0.1091 - accuracy: 0.9664 - val_loss: 0.1099 - val_accuracy: 0.9674\n",
            "Epoch 4/20\n",
            "375/375 [==============================] - 2s 5ms/step - loss: 0.0827 - accuracy: 0.9755 - val_loss: 0.1027 - val_accuracy: 0.9687\n",
            "Epoch 5/20\n",
            "375/375 [==============================] - 2s 5ms/step - loss: 0.0658 - accuracy: 0.9798 - val_loss: 0.0944 - val_accuracy: 0.9712\n",
            "Epoch 6/20\n",
            "375/375 [==============================] - 2s 5ms/step - loss: 0.0535 - accuracy: 0.9844 - val_loss: 0.0935 - val_accuracy: 0.9735\n",
            "Epoch 7/20\n",
            "375/375 [==============================] - 2s 5ms/step - loss: 0.0451 - accuracy: 0.9863 - val_loss: 0.0901 - val_accuracy: 0.9752\n",
            "Epoch 8/20\n",
            "375/375 [==============================] - 2s 5ms/step - loss: 0.0378 - accuracy: 0.9882 - val_loss: 0.0950 - val_accuracy: 0.9727\n",
            "Epoch 9/20\n",
            "375/375 [==============================] - 2s 5ms/step - loss: 0.0305 - accuracy: 0.9907 - val_loss: 0.0966 - val_accuracy: 0.9761\n",
            "Epoch 10/20\n",
            "375/375 [==============================] - 2s 5ms/step - loss: 0.0261 - accuracy: 0.9916 - val_loss: 0.1008 - val_accuracy: 0.9752\n",
            "Epoch 11/20\n",
            "375/375 [==============================] - 2s 5ms/step - loss: 0.0220 - accuracy: 0.9934 - val_loss: 0.1013 - val_accuracy: 0.9758\n",
            "Epoch 12/20\n",
            "375/375 [==============================] - 2s 5ms/step - loss: 0.0180 - accuracy: 0.9945 - val_loss: 0.0999 - val_accuracy: 0.9766\n",
            "Epoch 13/20\n",
            "375/375 [==============================] - 2s 5ms/step - loss: 0.0160 - accuracy: 0.9949 - val_loss: 0.1098 - val_accuracy: 0.9768\n",
            "Epoch 14/20\n",
            "375/375 [==============================] - 2s 5ms/step - loss: 0.0129 - accuracy: 0.9959 - val_loss: 0.1085 - val_accuracy: 0.9766\n",
            "Epoch 15/20\n",
            "375/375 [==============================] - 2s 5ms/step - loss: 0.0110 - accuracy: 0.9967 - val_loss: 0.1126 - val_accuracy: 0.9766\n",
            "Epoch 16/20\n",
            "375/375 [==============================] - 2s 5ms/step - loss: 0.0090 - accuracy: 0.9971 - val_loss: 0.1175 - val_accuracy: 0.9775\n",
            "Epoch 17/20\n",
            "375/375 [==============================] - 2s 5ms/step - loss: 0.0086 - accuracy: 0.9972 - val_loss: 0.1200 - val_accuracy: 0.9785\n",
            "Epoch 18/20\n",
            "375/375 [==============================] - 2s 5ms/step - loss: 0.0064 - accuracy: 0.9980 - val_loss: 0.1283 - val_accuracy: 0.9761\n",
            "Epoch 19/20\n",
            "375/375 [==============================] - 2s 5ms/step - loss: 0.0063 - accuracy: 0.9981 - val_loss: 0.1420 - val_accuracy: 0.9752\n",
            "Epoch 20/20\n",
            "375/375 [==============================] - 2s 5ms/step - loss: 0.0053 - accuracy: 0.9984 - val_loss: 0.1427 - val_accuracy: 0.9764\n"
          ]
        }
      ],
      "source": [
        "model = keras.Sequential([\n",
        "    layers.Dense(96, activation=\"relu\"),\n",
        "    layers.Dense(96, activation=\"relu\"),\n",
        "    layers.Dense(10, activation=\"softmax\"),\n",
        "])\n",
        "model.compile(optimizer=\"rmsprop\",\n",
        "              loss=\"sparse_categorical_crossentropy\",\n",
        "              metrics=[\"accuracy\"])\n",
        "history_large_model = model.fit(\n",
        "    train_images, train_labels,\n",
        "    epochs=20,\n",
        "    batch_size=128,\n",
        "    validation_split=0.2)"
      ]
    },
    {
      "cell_type": "code",
      "source": [
        "import matplotlib.pyplot as plt\n",
        "val_loss = history_large_model.history[\"val_loss\"]\n",
        "epochs = range(1, 21)\n",
        "plt.plot(epochs, val_loss, \"b--\",\n",
        "         label=\"Validation loss\")\n",
        "plt.title(\"Effect of insufficient model capacity on validation loss\")\n",
        "plt.xlabel(\"Epochs\")\n",
        "plt.ylabel(\"Loss\")\n",
        "plt.legend()"
      ],
      "metadata": {
        "id": "LrpW7mIupneE",
        "outputId": "cc460366-cf5a-445d-c9b0-64139ee18f9a",
        "colab": {
          "base_uri": "https://localhost:8080/",
          "height": 313
        }
      },
      "execution_count": null,
      "outputs": [
        {
          "output_type": "execute_result",
          "data": {
            "text/plain": [
              "<matplotlib.legend.Legend at 0x7f87ab9fd8d0>"
            ]
          },
          "metadata": {},
          "execution_count": 40
        },
        {
          "output_type": "display_data",
          "data": {
            "text/plain": [
              "<Figure size 432x288 with 1 Axes>"
            ],
            "image/png": "[encoded data removed]"
          },
          "metadata": {
            "needs_background": "light"
          }
        }
      ]
    },
    {
      "cell_type": "markdown",
      "source": [
        "-> 8 ephocs 이후 overfitting 발생"
      ],
      "metadata": {
        "id": "d0UtAXsIp7Oo"
      }
    },
    {
      "cell_type": "markdown",
      "metadata": {
        "id": "hv8bw94hVOR7"
      },
      "source": [
        "## Improving generalization"
      ]
    },
    {
      "cell_type": "markdown",
      "metadata": {
        "id": "6KKYnl0qVOR8"
      },
      "source": [
        "### Dataset curation"
      ]
    },
    {
      "cell_type": "markdown",
      "source": [
        "- enough data\n",
        "- minimize labeling errors\n",
        "- clean your data and deal with missing values\n",
        "- many feature -> feature selection"
      ],
      "metadata": {
        "id": "EUIa8-_6rAh-"
      }
    },
    {
      "cell_type": "markdown",
      "metadata": {
        "id": "FOLd5vRnVOR9"
      },
      "source": [
        "### Feature engineering"
      ]
    },
    {
      "cell_type": "markdown",
      "source": [
        "특성을 더 간단한 방식으로 표현  \n",
        " ex) 2차원 픽셀 데이터(시계_원본) -> 시계바늘의 좌표 -> 시계 바늘의 각도\n",
        "\n",
        " - good features allow you to solve problems using fewer resources\n",
        " - good features let you slve a problem with far less data"
      ],
      "metadata": {
        "id": "MjDfKArPriPc"
      }
    },
    {
      "cell_type": "markdown",
      "metadata": {
        "id": "BR_ujAzSVOR-"
      },
      "source": [
        "### Using early stopping"
      ]
    },
    {
      "cell_type": "markdown",
      "source": [
        "모델이 minimum possible training loss 에 도달하기 전에 training을 중단 ---> 왜......???"
      ],
      "metadata": {
        "id": "VqxOYNz3tRiG"
      }
    },
    {
      "cell_type": "markdown",
      "metadata": {
        "id": "4v9d7jduVOR_"
      },
      "source": [
        "### Regularizing your model"
      ]
    },
    {
      "cell_type": "markdown",
      "metadata": {
        "id": "YBSDt1ugVOR_"
      },
      "source": [
        "#### Reducing the network's size"
      ]
    },
    {
      "cell_type": "markdown",
      "metadata": {
        "id": "S3bjEdH2VOSA"
      },
      "source": [
        "**Original model**"
      ]
    },
    {
      "cell_type": "code",
      "execution_count": null,
      "metadata": {
        "id": "dM2SucK2VOSs",
        "outputId": "2caa574c-ad2f-44cf-a0b4-ae341dfd0bd3",
        "colab": {
          "base_uri": "https://localhost:8080/"
        }
      },
      "outputs": [
        {
          "output_type": "stream",
          "name": "stdout",
          "text": [
            "Downloading data from https://storage.googleapis.com/tensorflow/tf-keras-datasets/imdb.npz\n",
            "17465344/17464789 [==============================] - 0s 0us/step\n",
            "17473536/17464789 [==============================] - 0s 0us/step\n",
            "Epoch 1/20\n",
            "30/30 [==============================] - 2s 48ms/step - loss: 0.5142 - accuracy: 0.7929 - val_loss: 0.4015 - val_accuracy: 0.8511\n",
            "Epoch 2/20\n",
            "30/30 [==============================] - 1s 35ms/step - loss: 0.3114 - accuracy: 0.9027 - val_loss: 0.3077 - val_accuracy: 0.8841\n",
            "Epoch 3/20\n",
            "30/30 [==============================] - 1s 35ms/step - loss: 0.2304 - accuracy: 0.9253 - val_loss: 0.3096 - val_accuracy: 0.8767\n",
            "Epoch 4/20\n",
            "30/30 [==============================] - 1s 37ms/step - loss: 0.1799 - accuracy: 0.9419 - val_loss: 0.2733 - val_accuracy: 0.8911\n",
            "Epoch 5/20\n",
            "30/30 [==============================] - 1s 36ms/step - loss: 0.1449 - accuracy: 0.9534 - val_loss: 0.2837 - val_accuracy: 0.8892\n",
            "Epoch 6/20\n",
            "30/30 [==============================] - 1s 35ms/step - loss: 0.1210 - accuracy: 0.9629 - val_loss: 0.2902 - val_accuracy: 0.8884\n",
            "Epoch 7/20\n",
            "30/30 [==============================] - 1s 36ms/step - loss: 0.1006 - accuracy: 0.9693 - val_loss: 0.3247 - val_accuracy: 0.8803\n",
            "Epoch 8/20\n",
            "30/30 [==============================] - 1s 35ms/step - loss: 0.0834 - accuracy: 0.9756 - val_loss: 0.3321 - val_accuracy: 0.8830\n",
            "Epoch 9/20\n",
            "30/30 [==============================] - 1s 35ms/step - loss: 0.0679 - accuracy: 0.9821 - val_loss: 0.3567 - val_accuracy: 0.8794\n",
            "Epoch 10/20\n",
            "30/30 [==============================] - 1s 35ms/step - loss: 0.0564 - accuracy: 0.9859 - val_loss: 0.3887 - val_accuracy: 0.8773\n",
            "Epoch 11/20\n",
            "30/30 [==============================] - 1s 36ms/step - loss: 0.0455 - accuracy: 0.9882 - val_loss: 0.4135 - val_accuracy: 0.8751\n",
            "Epoch 12/20\n",
            "30/30 [==============================] - 1s 36ms/step - loss: 0.0387 - accuracy: 0.9915 - val_loss: 0.4469 - val_accuracy: 0.8747\n",
            "Epoch 13/20\n",
            "30/30 [==============================] - 1s 36ms/step - loss: 0.0310 - accuracy: 0.9927 - val_loss: 0.4757 - val_accuracy: 0.8719\n",
            "Epoch 14/20\n",
            "30/30 [==============================] - 1s 37ms/step - loss: 0.0224 - accuracy: 0.9958 - val_loss: 0.5298 - val_accuracy: 0.8667\n",
            "Epoch 15/20\n",
            "30/30 [==============================] - 1s 36ms/step - loss: 0.0203 - accuracy: 0.9965 - val_loss: 0.5494 - val_accuracy: 0.8719\n",
            "Epoch 16/20\n",
            "30/30 [==============================] - 1s 35ms/step - loss: 0.0149 - accuracy: 0.9974 - val_loss: 0.5806 - val_accuracy: 0.8701\n",
            "Epoch 17/20\n",
            "30/30 [==============================] - 1s 35ms/step - loss: 0.0111 - accuracy: 0.9989 - val_loss: 0.6516 - val_accuracy: 0.8658\n",
            "Epoch 18/20\n",
            "30/30 [==============================] - 1s 35ms/step - loss: 0.0105 - accuracy: 0.9983 - val_loss: 0.6700 - val_accuracy: 0.8638\n",
            "Epoch 19/20\n",
            "30/30 [==============================] - 1s 35ms/step - loss: 0.0055 - accuracy: 0.9997 - val_loss: 0.6891 - val_accuracy: 0.8671\n",
            "Epoch 20/20\n",
            "30/30 [==============================] - 1s 34ms/step - loss: 0.0077 - accuracy: 0.9983 - val_loss: 0.7228 - val_accuracy: 0.8665\n"
          ]
        }
      ],
      "source": [
        "from tensorflow.keras.datasets import imdb\n",
        "(train_data, train_labels), _ = imdb.load_data(num_words=10000)\n",
        "\n",
        "def vectorize_sequences(sequences, dimension=10000):\n",
        "    results = np.zeros((len(sequences), dimension))\n",
        "    for i, sequence in enumerate(sequences):\n",
        "        results[i, sequence] = 1.\n",
        "    return results\n",
        "train_data = vectorize_sequences(train_data)\n",
        "\n",
        "model = keras.Sequential([\n",
        "    layers.Dense(16, activation=\"relu\"),\n",
        "    layers.Dense(16, activation=\"relu\"),\n",
        "    layers.Dense(1, activation=\"sigmoid\")\n",
        "])\n",
        "model.compile(optimizer=\"rmsprop\",\n",
        "              loss=\"binary_crossentropy\",\n",
        "              metrics=[\"accuracy\"])\n",
        "history_original = model.fit(train_data, train_labels,\n",
        "                             epochs=20, batch_size=512, validation_split=0.4)"
      ]
    },
    {
      "cell_type": "markdown",
      "metadata": {
        "id": "sPwgz-ebVOSt"
      },
      "source": [
        "**Version of the model with lower capacity**"
      ]
    },
    {
      "cell_type": "code",
      "execution_count": null,
      "metadata": {
        "id": "tRKdDbZfVOSu",
        "outputId": "0123f44d-5121-41c2-befc-b784d916a80a",
        "colab": {
          "base_uri": "https://localhost:8080/"
        }
      },
      "outputs": [
        {
          "output_type": "stream",
          "name": "stdout",
          "text": [
            "Epoch 1/20\n",
            "30/30 [==============================] - 2s 48ms/step - loss: 0.6221 - accuracy: 0.6719 - val_loss: 0.5568 - val_accuracy: 0.8101\n",
            "Epoch 2/20\n",
            "30/30 [==============================] - 1s 33ms/step - loss: 0.4971 - accuracy: 0.8549 - val_loss: 0.4648 - val_accuracy: 0.8586\n",
            "Epoch 3/20\n",
            "30/30 [==============================] - 1s 33ms/step - loss: 0.4040 - accuracy: 0.8978 - val_loss: 0.3979 - val_accuracy: 0.8776\n",
            "Epoch 4/20\n",
            "30/30 [==============================] - 1s 32ms/step - loss: 0.3345 - accuracy: 0.9123 - val_loss: 0.3506 - val_accuracy: 0.8835\n",
            "Epoch 5/20\n",
            "30/30 [==============================] - 1s 33ms/step - loss: 0.2827 - accuracy: 0.9233 - val_loss: 0.3318 - val_accuracy: 0.8796\n",
            "Epoch 6/20\n",
            "30/30 [==============================] - 1s 33ms/step - loss: 0.2455 - accuracy: 0.9316 - val_loss: 0.2996 - val_accuracy: 0.8901\n",
            "Epoch 7/20\n",
            "30/30 [==============================] - 1s 32ms/step - loss: 0.2163 - accuracy: 0.9385 - val_loss: 0.2876 - val_accuracy: 0.8900\n",
            "Epoch 8/20\n",
            "30/30 [==============================] - 1s 33ms/step - loss: 0.1925 - accuracy: 0.9456 - val_loss: 0.2808 - val_accuracy: 0.8889\n",
            "Epoch 9/20\n",
            "30/30 [==============================] - 1s 34ms/step - loss: 0.1732 - accuracy: 0.9505 - val_loss: 0.2752 - val_accuracy: 0.8898\n",
            "Epoch 10/20\n",
            "30/30 [==============================] - 1s 33ms/step - loss: 0.1563 - accuracy: 0.9559 - val_loss: 0.2767 - val_accuracy: 0.8903\n",
            "Epoch 11/20\n",
            "30/30 [==============================] - 1s 34ms/step - loss: 0.1420 - accuracy: 0.9607 - val_loss: 0.2751 - val_accuracy: 0.8908\n",
            "Epoch 12/20\n",
            "30/30 [==============================] - 1s 33ms/step - loss: 0.1295 - accuracy: 0.9649 - val_loss: 0.2805 - val_accuracy: 0.8876\n",
            "Epoch 13/20\n",
            "30/30 [==============================] - 1s 33ms/step - loss: 0.1185 - accuracy: 0.9681 - val_loss: 0.2869 - val_accuracy: 0.8868\n",
            "Epoch 14/20\n",
            "30/30 [==============================] - 1s 33ms/step - loss: 0.1090 - accuracy: 0.9697 - val_loss: 0.2890 - val_accuracy: 0.8873\n",
            "Epoch 15/20\n",
            "30/30 [==============================] - 1s 34ms/step - loss: 0.1003 - accuracy: 0.9738 - val_loss: 0.3018 - val_accuracy: 0.8847\n",
            "Epoch 16/20\n",
            "30/30 [==============================] - 1s 34ms/step - loss: 0.0921 - accuracy: 0.9771 - val_loss: 0.3033 - val_accuracy: 0.8860\n",
            "Epoch 17/20\n",
            "30/30 [==============================] - 1s 34ms/step - loss: 0.0845 - accuracy: 0.9785 - val_loss: 0.3145 - val_accuracy: 0.8832\n",
            "Epoch 18/20\n",
            "30/30 [==============================] - 1s 33ms/step - loss: 0.0772 - accuracy: 0.9813 - val_loss: 0.3232 - val_accuracy: 0.8841\n",
            "Epoch 19/20\n",
            "30/30 [==============================] - 1s 33ms/step - loss: 0.0713 - accuracy: 0.9829 - val_loss: 0.3330 - val_accuracy: 0.8831\n",
            "Epoch 20/20\n",
            "30/30 [==============================] - 1s 34ms/step - loss: 0.0650 - accuracy: 0.9860 - val_loss: 0.3446 - val_accuracy: 0.8806\n"
          ]
        }
      ],
      "source": [
        "model = keras.Sequential([\n",
        "    layers.Dense(4, activation=\"relu\"),\n",
        "    layers.Dense(4, activation=\"relu\"),\n",
        "    layers.Dense(1, activation=\"sigmoid\")\n",
        "])\n",
        "model.compile(optimizer=\"rmsprop\",\n",
        "              loss=\"binary_crossentropy\",\n",
        "              metrics=[\"accuracy\"])\n",
        "history_smaller_model = model.fit(\n",
        "    train_data, train_labels,\n",
        "    epochs=20, batch_size=512, validation_split=0.4)"
      ]
    },
    {
      "cell_type": "markdown",
      "metadata": {
        "id": "SQ1_USDvVOSu"
      },
      "source": [
        "**Version of the model with higher capacity**"
      ]
    },
    {
      "cell_type": "code",
      "execution_count": null,
      "metadata": {
        "id": "DLHKDJvyVOSv",
        "outputId": "27938881-a08e-4305-aa26-d321cc0ecc28",
        "colab": {
          "base_uri": "https://localhost:8080/"
        }
      },
      "outputs": [
        {
          "output_type": "stream",
          "name": "stdout",
          "text": [
            "Epoch 1/20\n",
            "30/30 [==============================] - 12s 392ms/step - loss: 0.5435 - accuracy: 0.7607 - val_loss: 0.3344 - val_accuracy: 0.8651\n",
            "Epoch 2/20\n",
            "30/30 [==============================] - 13s 446ms/step - loss: 0.2674 - accuracy: 0.8931 - val_loss: 0.2835 - val_accuracy: 0.8923\n",
            "Epoch 3/20\n",
            "30/30 [==============================] - 9s 291ms/step - loss: 0.1493 - accuracy: 0.9482 - val_loss: 0.3133 - val_accuracy: 0.8851\n",
            "Epoch 4/20\n",
            "30/30 [==============================] - 9s 291ms/step - loss: 0.0843 - accuracy: 0.9740 - val_loss: 0.3790 - val_accuracy: 0.8836\n",
            "Epoch 5/20\n",
            "30/30 [==============================] - 9s 291ms/step - loss: 0.0814 - accuracy: 0.9773 - val_loss: 0.3580 - val_accuracy: 0.8884\n",
            "Epoch 6/20\n",
            "30/30 [==============================] - 13s 437ms/step - loss: 0.0047 - accuracy: 0.9994 - val_loss: 0.5198 - val_accuracy: 0.8873\n",
            "Epoch 7/20\n",
            "30/30 [==============================] - 14s 479ms/step - loss: 0.0010 - accuracy: 0.9998 - val_loss: 0.6264 - val_accuracy: 0.8881\n",
            "Epoch 8/20\n",
            "30/30 [==============================] - 9s 291ms/step - loss: 1.4238e-04 - accuracy: 0.9999 - val_loss: 1.0470 - val_accuracy: 0.8571\n",
            "Epoch 9/20\n",
            "30/30 [==============================] - 9s 294ms/step - loss: 0.3285 - accuracy: 0.9742 - val_loss: 0.6243 - val_accuracy: 0.8818\n",
            "Epoch 10/20\n",
            "30/30 [==============================] - 9s 293ms/step - loss: 1.4063e-04 - accuracy: 1.0000 - val_loss: 0.6347 - val_accuracy: 0.8867\n",
            "Epoch 11/20\n",
            "30/30 [==============================] - 9s 289ms/step - loss: 5.7246e-05 - accuracy: 1.0000 - val_loss: 0.6991 - val_accuracy: 0.8861\n",
            "Epoch 12/20\n",
            "30/30 [==============================] - 10s 323ms/step - loss: 2.1075e-05 - accuracy: 1.0000 - val_loss: 0.7554 - val_accuracy: 0.8865\n",
            "Epoch 13/20\n",
            "30/30 [==============================] - 14s 457ms/step - loss: 7.3227e-06 - accuracy: 1.0000 - val_loss: 0.8349 - val_accuracy: 0.8865\n",
            "Epoch 14/20\n",
            "30/30 [==============================] - 10s 337ms/step - loss: 2.3707e-06 - accuracy: 1.0000 - val_loss: 0.9129 - val_accuracy: 0.8873\n",
            "Epoch 15/20\n",
            "30/30 [==============================] - 13s 424ms/step - loss: 7.7962e-07 - accuracy: 1.0000 - val_loss: 1.0032 - val_accuracy: 0.8860\n",
            "Epoch 16/20\n",
            "30/30 [==============================] - 10s 327ms/step - loss: 2.8238e-07 - accuracy: 1.0000 - val_loss: 1.0641 - val_accuracy: 0.8861\n",
            "Epoch 17/20\n",
            "30/30 [==============================] - 9s 308ms/step - loss: 1.1169e-07 - accuracy: 1.0000 - val_loss: 1.1290 - val_accuracy: 0.8863\n",
            "Epoch 18/20\n",
            "30/30 [==============================] - 10s 322ms/step - loss: 4.8709e-08 - accuracy: 1.0000 - val_loss: 1.1771 - val_accuracy: 0.8861\n",
            "Epoch 19/20\n",
            "30/30 [==============================] - 9s 291ms/step - loss: 2.7179e-08 - accuracy: 1.0000 - val_loss: 1.2106 - val_accuracy: 0.8865\n",
            "Epoch 20/20\n",
            "30/30 [==============================] - 9s 292ms/step - loss: 1.8223e-08 - accuracy: 1.0000 - val_loss: 1.2326 - val_accuracy: 0.8863\n"
          ]
        }
      ],
      "source": [
        "model = keras.Sequential([\n",
        "    layers.Dense(512, activation=\"relu\"),\n",
        "    layers.Dense(512, activation=\"relu\"),\n",
        "    layers.Dense(1, activation=\"sigmoid\")\n",
        "])\n",
        "model.compile(optimizer=\"rmsprop\",\n",
        "              loss=\"binary_crossentropy\",\n",
        "              metrics=[\"accuracy\"])\n",
        "history_larger_model = model.fit(\n",
        "    train_data, train_labels,\n",
        "    epochs=20, batch_size=512, validation_split=0.4)"
      ]
    },
    {
      "cell_type": "markdown",
      "source": [
        "### graph"
      ],
      "metadata": {
        "id": "zYgE2nctxa1a"
      }
    },
    {
      "cell_type": "code",
      "source": [
        "import matplotlib.pyplot as plt\n",
        "val_loss = history_original.history[\"val_loss\"]\n",
        "val_loss2 = history_smaller_model.history[\"val_loss\"]\n",
        "\n",
        "epochs = range(1, 21)\n",
        "plt.plot(epochs, val_loss, \"b--\",\n",
        "         label=\"origianl\")\n",
        "plt.plot(epochs, val_loss2, \"b-\",\n",
        "         label=\"smaller_model\")\n",
        "plt.title(\"Effect of insufficient model capacity on validation loss\")\n",
        "plt.xlabel(\"Epochs\")\n",
        "plt.ylabel(\"Loss\")\n",
        "plt.legend()\n",
        "\n",
        "# 작은 네트워크가 original 네트워크보다 나중에 overfitting됨"
      ],
      "metadata": {
        "id": "WNFjBdDUwJnl",
        "outputId": "84844c8d-51fd-409d-e7aa-a6e03e525555",
        "colab": {
          "base_uri": "https://localhost:8080/",
          "height": 313
        }
      },
      "execution_count": null,
      "outputs": [
        {
          "output_type": "execute_result",
          "data": {
            "text/plain": [
              "<matplotlib.legend.Legend at 0x7f879dbe9290>"
            ]
          },
          "metadata": {},
          "execution_count": 46
        },
        {
          "output_type": "display_data",
          "data": {
            "text/plain": [
              "<Figure size 432x288 with 1 Axes>"
            ],
            "image/png": "[encoded data removed]"
          },
          "metadata": {
            "needs_background": "light"
          }
        }
      ]
    },
    {
      "cell_type": "markdown",
      "metadata": {
        "id": "CjFPbGeNVOSv"
      },
      "source": [
        "#### Adding weight regularization"
      ]
    },
    {
      "cell_type": "markdown",
      "source": [
        "simple model -> parameter values less entropy   \n",
        "- L1 norm : weight의 절댓값에 비례하는 비용 추가\n",
        "- L2 norm : weight의 제곱에 비례하는 비용 추가 "
      ],
      "metadata": {
        "id": "sENrVTxLxjqC"
      }
    },
    {
      "cell_type": "markdown",
      "metadata": {
        "id": "y81MYEDlVOSw"
      },
      "source": [
        "**Adding L2 weight regularization to the model**"
      ]
    },
    {
      "cell_type": "code",
      "execution_count": null,
      "metadata": {
        "id": "d0Cn5XvcVOSw",
        "outputId": "542f5083-b6ae-4721-c60e-d0de139a9fdc",
        "colab": {
          "base_uri": "https://localhost:8080/"
        }
      },
      "outputs": [
        {
          "output_type": "stream",
          "name": "stdout",
          "text": [
            "Epoch 1/20\n",
            "30/30 [==============================] - 2s 50ms/step - loss: 0.5873 - accuracy: 0.7808 - val_loss: 0.4614 - val_accuracy: 0.8629\n",
            "Epoch 2/20\n",
            "30/30 [==============================] - 1s 37ms/step - loss: 0.3962 - accuracy: 0.8941 - val_loss: 0.3860 - val_accuracy: 0.8837\n",
            "Epoch 3/20\n",
            "30/30 [==============================] - 1s 37ms/step - loss: 0.3329 - accuracy: 0.9127 - val_loss: 0.3609 - val_accuracy: 0.8904\n",
            "Epoch 4/20\n",
            "30/30 [==============================] - 1s 37ms/step - loss: 0.3001 - accuracy: 0.9231 - val_loss: 0.3544 - val_accuracy: 0.8880\n",
            "Epoch 5/20\n",
            "30/30 [==============================] - 1s 37ms/step - loss: 0.2766 - accuracy: 0.9317 - val_loss: 0.3677 - val_accuracy: 0.8801\n",
            "Epoch 6/20\n",
            "30/30 [==============================] - 1s 37ms/step - loss: 0.2643 - accuracy: 0.9369 - val_loss: 0.3642 - val_accuracy: 0.8820\n",
            "Epoch 7/20\n",
            "30/30 [==============================] - 1s 37ms/step - loss: 0.2566 - accuracy: 0.9385 - val_loss: 0.3566 - val_accuracy: 0.8855\n",
            "Epoch 8/20\n",
            "30/30 [==============================] - 1s 38ms/step - loss: 0.2438 - accuracy: 0.9466 - val_loss: 0.3581 - val_accuracy: 0.8831\n",
            "Epoch 9/20\n",
            "30/30 [==============================] - 1s 36ms/step - loss: 0.2373 - accuracy: 0.9465 - val_loss: 0.4094 - val_accuracy: 0.8645\n",
            "Epoch 10/20\n",
            "30/30 [==============================] - 1s 36ms/step - loss: 0.2319 - accuracy: 0.9465 - val_loss: 0.3728 - val_accuracy: 0.8796\n",
            "Epoch 11/20\n",
            "30/30 [==============================] - 1s 36ms/step - loss: 0.2248 - accuracy: 0.9515 - val_loss: 0.4164 - val_accuracy: 0.8685\n",
            "Epoch 12/20\n",
            "30/30 [==============================] - 1s 38ms/step - loss: 0.2240 - accuracy: 0.9501 - val_loss: 0.3829 - val_accuracy: 0.8779\n",
            "Epoch 13/20\n",
            "30/30 [==============================] - 1s 37ms/step - loss: 0.2183 - accuracy: 0.9531 - val_loss: 0.3994 - val_accuracy: 0.8743\n",
            "Epoch 14/20\n",
            "30/30 [==============================] - 1s 37ms/step - loss: 0.2180 - accuracy: 0.9518 - val_loss: 0.3991 - val_accuracy: 0.8756\n",
            "Epoch 15/20\n",
            "30/30 [==============================] - 1s 36ms/step - loss: 0.2095 - accuracy: 0.9566 - val_loss: 0.3916 - val_accuracy: 0.8781\n",
            "Epoch 16/20\n",
            "30/30 [==============================] - 1s 37ms/step - loss: 0.2073 - accuracy: 0.9571 - val_loss: 0.3930 - val_accuracy: 0.8777\n",
            "Epoch 17/20\n",
            "30/30 [==============================] - 1s 38ms/step - loss: 0.2085 - accuracy: 0.9552 - val_loss: 0.4177 - val_accuracy: 0.8726\n",
            "Epoch 18/20\n",
            "30/30 [==============================] - 1s 37ms/step - loss: 0.2035 - accuracy: 0.9587 - val_loss: 0.4463 - val_accuracy: 0.8648\n",
            "Epoch 19/20\n",
            "30/30 [==============================] - 1s 37ms/step - loss: 0.2020 - accuracy: 0.9587 - val_loss: 0.4010 - val_accuracy: 0.8774\n",
            "Epoch 20/20\n",
            "30/30 [==============================] - 1s 36ms/step - loss: 0.1995 - accuracy: 0.9590 - val_loss: 0.4042 - val_accuracy: 0.8771\n"
          ]
        }
      ],
      "source": [
        "from tensorflow.keras import regularizers\n",
        "model = keras.Sequential([\n",
        "    layers.Dense(16,\n",
        "                 kernel_regularizer=regularizers.l2(0.002),\n",
        "                 activation=\"relu\"),\n",
        "    layers.Dense(16,\n",
        "                 kernel_regularizer=regularizers.l2(0.002),\n",
        "                 activation=\"relu\"),\n",
        "    layers.Dense(1, activation=\"sigmoid\")\n",
        "])\n",
        "model.compile(optimizer=\"rmsprop\",\n",
        "              loss=\"binary_crossentropy\",\n",
        "              metrics=[\"accuracy\"])\n",
        "history_l2_reg = model.fit(\n",
        "    train_data, train_labels,\n",
        "    epochs=20, batch_size=512, validation_split=0.4)"
      ]
    },
    {
      "cell_type": "code",
      "source": [
        "import matplotlib.pyplot as plt\n",
        "val_loss = history_original.history[\"val_loss\"]\n",
        "val_loss2 = history_l2_reg.history[\"val_loss\"]\n",
        "\n",
        "epochs = range(1, 21)\n",
        "plt.plot(epochs, val_loss, \"b--\",\n",
        "         label=\"origianl\")\n",
        "plt.plot(epochs, val_loss2, \"b-\",\n",
        "         label=\"l2-regularizied\")\n",
        "plt.title(\"Effect of insufficient model capacity on validation loss\")\n",
        "plt.xlabel(\"Epochs\")\n",
        "plt.ylabel(\"Loss\")\n",
        "plt.legend()\n",
        "\n",
        "# l2규제를 사용한 model이 기본 모델보다 overfitting에 잘 버팀 "
      ],
      "metadata": {
        "id": "ZraMuJQQy7nZ",
        "outputId": "b0aa35b9-da6e-4b13-d6b5-a8421ab71087",
        "colab": {
          "base_uri": "https://localhost:8080/",
          "height": 313
        }
      },
      "execution_count": null,
      "outputs": [
        {
          "output_type": "execute_result",
          "data": {
            "text/plain": [
              "<matplotlib.legend.Legend at 0x7f87a4e498d0>"
            ]
          },
          "metadata": {},
          "execution_count": 49
        },
        {
          "output_type": "display_data",
          "data": {
            "text/plain": [
              "<Figure size 432x288 with 1 Axes>"
            ],
            "image/png": "[encoded data removed]"
          },
          "metadata": {
            "needs_background": "light"
          }
        }
      ]
    },
    {
      "cell_type": "markdown",
      "metadata": {
        "id": "2Nq-r756VOSx"
      },
      "source": [
        "**Different weight regularizers available in Keras**"
      ]
    },
    {
      "cell_type": "code",
      "execution_count": null,
      "metadata": {
        "id": "yKamhE0LVOSx",
        "outputId": "0b9ea5de-2088-40de-dab9-559ccbd526ae",
        "colab": {
          "base_uri": "https://localhost:8080/"
        }
      },
      "outputs": [
        {
          "output_type": "execute_result",
          "data": {
            "text/plain": [
              "<keras.regularizers.L1L2 at 0x7f87a4e19990>"
            ]
          },
          "metadata": {},
          "execution_count": 50
        }
      ],
      "source": [
        "from tensorflow.keras import regularizers\n",
        "regularizers.l1(0.001)\n",
        "regularizers.l1_l2(l1=0.001, l2=0.001)"
      ]
    },
    {
      "cell_type": "markdown",
      "metadata": {
        "id": "sY8s81KCVOSx"
      },
      "source": [
        "#### Adding dropout"
      ]
    },
    {
      "cell_type": "markdown",
      "source": [
        "- 무작위로 일부 출력 특성 제외  \n",
        "ex) [0.2,0.5,1.2,0.8,1.1] -> [0,0.5,1.2,0,1.1]\n",
        "- text 단계에서는 어떤 unit도 dropout되지 않음\n",
        "- test 단계에서는 dropout 비율에 비례해 출력을 줄여 주어야 함\n",
        "\n",
        "\n",
        "```\n",
        "layor_output *= 0.5 #(at test)\n",
        "```\n",
        "\n",
        "```\n",
        "layor_output *= random.randint(0,high=2,size=layer_output.shape)\n",
        "layer_output /=0.5 #(in training)\n",
        "```\n",
        "\n"
      ],
      "metadata": {
        "id": "e6000B491qoD"
      }
    },
    {
      "cell_type": "markdown",
      "metadata": {
        "id": "8HwHV_YPVOSy"
      },
      "source": [
        "**Adding dropout to the IMDB model**"
      ]
    },
    {
      "cell_type": "code",
      "execution_count": null,
      "metadata": {
        "id": "H7EW7OE0VOSz",
        "outputId": "eb46b058-bc04-4bcc-e9c4-224f6010d61b",
        "colab": {
          "base_uri": "https://localhost:8080/"
        }
      },
      "outputs": [
        {
          "output_type": "stream",
          "name": "stdout",
          "text": [
            "Epoch 1/20\n",
            "30/30 [==============================] - 2s 49ms/step - loss: 0.6497 - accuracy: 0.6053 - val_loss: 0.5773 - val_accuracy: 0.6931\n",
            "Epoch 2/20\n",
            "30/30 [==============================] - 1s 37ms/step - loss: 0.5581 - accuracy: 0.7647 - val_loss: 0.5132 - val_accuracy: 0.8478\n",
            "Epoch 3/20\n",
            "30/30 [==============================] - 1s 37ms/step - loss: 0.5014 - accuracy: 0.8461 - val_loss: 0.4747 - val_accuracy: 0.8371\n",
            "Epoch 4/20\n",
            "30/30 [==============================] - 1s 36ms/step - loss: 0.4522 - accuracy: 0.8827 - val_loss: 0.4560 - val_accuracy: 0.8568\n",
            "Epoch 5/20\n",
            "30/30 [==============================] - 1s 36ms/step - loss: 0.4199 - accuracy: 0.9017 - val_loss: 0.4358 - val_accuracy: 0.8763\n",
            "Epoch 6/20\n",
            "30/30 [==============================] - 1s 39ms/step - loss: 0.3886 - accuracy: 0.9151 - val_loss: 0.4287 - val_accuracy: 0.8812\n",
            "Epoch 7/20\n",
            "30/30 [==============================] - 1s 38ms/step - loss: 0.3607 - accuracy: 0.9249 - val_loss: 0.4276 - val_accuracy: 0.8807\n",
            "Epoch 8/20\n",
            "30/30 [==============================] - 1s 37ms/step - loss: 0.3342 - accuracy: 0.9314 - val_loss: 0.4162 - val_accuracy: 0.8826\n",
            "Epoch 9/20\n",
            "30/30 [==============================] - 1s 36ms/step - loss: 0.3126 - accuracy: 0.9406 - val_loss: 0.4329 - val_accuracy: 0.8806\n",
            "Epoch 10/20\n",
            "30/30 [==============================] - 1s 35ms/step - loss: 0.2913 - accuracy: 0.9443 - val_loss: 0.4340 - val_accuracy: 0.8798\n",
            "Epoch 11/20\n",
            "30/30 [==============================] - 1s 36ms/step - loss: 0.2738 - accuracy: 0.9499 - val_loss: 0.4664 - val_accuracy: 0.8746\n",
            "Epoch 12/20\n",
            "30/30 [==============================] - 1s 36ms/step - loss: 0.2529 - accuracy: 0.9563 - val_loss: 0.4537 - val_accuracy: 0.8774\n",
            "Epoch 13/20\n",
            "30/30 [==============================] - 1s 37ms/step - loss: 0.2430 - accuracy: 0.9567 - val_loss: 0.4784 - val_accuracy: 0.8762\n",
            "Epoch 14/20\n",
            "30/30 [==============================] - 1s 36ms/step - loss: 0.2265 - accuracy: 0.9632 - val_loss: 0.5113 - val_accuracy: 0.8730\n",
            "Epoch 15/20\n",
            "30/30 [==============================] - 1s 37ms/step - loss: 0.2109 - accuracy: 0.9659 - val_loss: 0.4844 - val_accuracy: 0.8716\n",
            "Epoch 16/20\n",
            "30/30 [==============================] - 1s 37ms/step - loss: 0.2053 - accuracy: 0.9665 - val_loss: 0.5462 - val_accuracy: 0.8706\n",
            "Epoch 17/20\n",
            "30/30 [==============================] - 1s 41ms/step - loss: 0.1927 - accuracy: 0.9688 - val_loss: 0.5526 - val_accuracy: 0.8719\n",
            "Epoch 18/20\n",
            "30/30 [==============================] - 1s 37ms/step - loss: 0.1823 - accuracy: 0.9714 - val_loss: 0.5954 - val_accuracy: 0.8690\n",
            "Epoch 19/20\n",
            "30/30 [==============================] - 1s 40ms/step - loss: 0.1702 - accuracy: 0.9743 - val_loss: 0.6354 - val_accuracy: 0.8675\n",
            "Epoch 20/20\n",
            "30/30 [==============================] - 1s 37ms/step - loss: 0.1650 - accuracy: 0.9748 - val_loss: 0.5843 - val_accuracy: 0.8679\n"
          ]
        }
      ],
      "source": [
        "model = keras.Sequential([\n",
        "    layers.Dense(16, activation=\"relu\"),\n",
        "    layers.Dropout(0.5),\n",
        "    layers.Dense(16, activation=\"relu\"),\n",
        "    layers.Dropout(0.5),\n",
        "    layers.Dense(1, activation=\"sigmoid\")\n",
        "])\n",
        "model.compile(optimizer=\"rmsprop\",\n",
        "              loss=\"binary_crossentropy\",\n",
        "              metrics=[\"accuracy\"])\n",
        "history_dropout = model.fit(\n",
        "    train_data, train_labels,\n",
        "    epochs=20, batch_size=512, validation_split=0.4)"
      ]
    },
    {
      "cell_type": "markdown",
      "source": [
        "### Summary"
      ],
      "metadata": {
        "id": "xYQpds1U3OTV"
      }
    },
    {
      "cell_type": "markdown",
      "source": [
        "overfitting을 줄이기 위한 방법  \n",
        "- 훈련 데이터를 더 모은다.\n",
        "- network 용량을 감소시킨다.\n",
        "- 가중치 규제를 추가한다.\n",
        "- dropout을 추가한다."
      ],
      "metadata": {
        "id": "nX4b9F4e3Qc9"
      }
    }
  ],
  "metadata": {
    "colab": {
      "collapsed_sections": [],
      "name": "chapter05_fundamentals-of-ml.i",
      "provenance": [],
      "toc_visible": true
    },
    "kernelspec": {
      "display_name": "Python 3",
      "language": "python",
      "name": "python3"
    },
    "language_info": {
      "codemirror_mode": {
        "name": "ipython",
        "version": 3
      },
      "file_extension": ".py",
      "mimetype": "text/x-python",
      "name": "python",
      "nbconvert_exporter": "python",
      "pygments_lexer": "ipython3",
      "version": "3.7.0"
    }
  },
  "nbformat": 4,
  "nbformat_minor": 0
}