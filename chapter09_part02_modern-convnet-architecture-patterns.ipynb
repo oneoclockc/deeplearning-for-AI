{
  "cells": [
    {
      "cell_type": "markdown",
      "metadata": {
        "id": "oll80wLNGdKM"
      },
      "source": [
        "## Modern convnet architecture patterns"
      ]
    },
    {
      "cell_type": "markdown",
      "metadata": {
        "id": "ygAqZHJ8GdKN"
      },
      "source": [
        "### Modularity, hierarchy, and reuse"
      ]
    },
    {
      "cell_type": "markdown",
      "metadata": {
        "id": "pCXLZtCUGdKO"
      },
      "source": [
        "### Residual connections"
      ]
    },
    {
      "cell_type": "markdown",
      "metadata": {
        "id": "Gkl_VkI-GdKP"
      },
      "source": [
        "**Residual block where the number of filters changes**"
      ]
    },
    {
      "cell_type": "code",
      "execution_count": 1,
      "metadata": {
        "id": "LZiPcH-NGdKP"
      },
      "outputs": [],
      "source": [
        "from tensorflow import keras\n",
        "from tensorflow.keras import layers\n",
        "\n",
        "inputs = keras.Input(shape=(32, 32, 3))\n",
        "x = layers.Conv2D(32, 3, activation=\"relu\")(inputs)\n",
        "residual = x # 잔차 설정\n",
        "x = layers.Conv2D(64, 3, activation=\"relu\", padding=\"same\")(x) \n",
        "# 출력 파일의 수를 32개에서 64개로 늘림\n",
        "# padding=\"same\" : 패딩으로 인한 다운샘플링 방지 위함\n",
        "residual = layers.Conv2D(64, 1)(residual) # 잔차의 필터를 64개로 만들어줌 \n",
        "x = layers.add([x, residual]) # 이제 add할 수 있다. "
      ]
    },
    {
      "cell_type": "markdown",
      "metadata": {
        "id": "Tnf_PHwnGdKS"
      },
      "source": [
        "**Case where target block includes a max pooling layer**"
      ]
    },
    {
      "cell_type": "code",
      "execution_count": 2,
      "metadata": {
        "id": "aZYNgk9WGdKT"
      },
      "outputs": [],
      "source": [
        "inputs = keras.Input(shape=(32, 32, 3))\n",
        "x = layers.Conv2D(32, 3, activation=\"relu\")(inputs)\n",
        "residual = x\n",
        "x = layers.Conv2D(64, 3, activation=\"relu\", padding=\"same\")(x)\n",
        "x = layers.MaxPooling2D(2, padding=\"same\")(x)\n",
        "residual = layers.Conv2D(64, 1, strides=2)(residual) # strides=2 -> maxpooling 과 downsampling 일치 위함\n",
        "x = layers.add([x, residual])"
      ]
    },
    {
      "cell_type": "code",
      "execution_count": 3,
      "metadata": {
        "id": "E_rLVzHXGdKU",
        "outputId": "51f0db0e-e5a1-4a44-b64c-b6e8f86c3de0",
        "colab": {
          "base_uri": "https://localhost:8080/"
        }
      },
      "outputs": [
        {
          "output_type": "stream",
          "name": "stdout",
          "text": [
            "Model: \"model\"\n",
            "__________________________________________________________________________________________________\n",
            " Layer (type)                   Output Shape         Param #     Connected to                     \n",
            "==================================================================================================\n",
            " input_3 (InputLayer)           [(None, 32, 32, 3)]  0           []                               \n",
            "                                                                                                  \n",
            " rescaling (Rescaling)          (None, 32, 32, 3)    0           ['input_3[0][0]']                \n",
            "                                                                                                  \n",
            " conv2d_6 (Conv2D)              (None, 32, 32, 32)   896         ['rescaling[0][0]']              \n",
            "                                                                                                  \n",
            " conv2d_7 (Conv2D)              (None, 32, 32, 32)   9248        ['conv2d_6[0][0]']               \n",
            "                                                                                                  \n",
            " max_pooling2d_1 (MaxPooling2D)  (None, 16, 16, 32)  0           ['conv2d_7[0][0]']               \n",
            "                                                                                                  \n",
            " conv2d_8 (Conv2D)              (None, 16, 16, 32)   128         ['rescaling[0][0]']              \n",
            "                                                                                                  \n",
            " add_2 (Add)                    (None, 16, 16, 32)   0           ['max_pooling2d_1[0][0]',        \n",
            "                                                                  'conv2d_8[0][0]']               \n",
            "                                                                                                  \n",
            " conv2d_9 (Conv2D)              (None, 16, 16, 64)   18496       ['add_2[0][0]']                  \n",
            "                                                                                                  \n",
            " conv2d_10 (Conv2D)             (None, 16, 16, 64)   36928       ['conv2d_9[0][0]']               \n",
            "                                                                                                  \n",
            " max_pooling2d_2 (MaxPooling2D)  (None, 8, 8, 64)    0           ['conv2d_10[0][0]']              \n",
            "                                                                                                  \n",
            " conv2d_11 (Conv2D)             (None, 8, 8, 64)     2112        ['add_2[0][0]']                  \n",
            "                                                                                                  \n",
            " add_3 (Add)                    (None, 8, 8, 64)     0           ['max_pooling2d_2[0][0]',        \n",
            "                                                                  'conv2d_11[0][0]']              \n",
            "                                                                                                  \n",
            " conv2d_12 (Conv2D)             (None, 8, 8, 128)    73856       ['add_3[0][0]']                  \n",
            "                                                                                                  \n",
            " conv2d_13 (Conv2D)             (None, 8, 8, 128)    147584      ['conv2d_12[0][0]']              \n",
            "                                                                                                  \n",
            " conv2d_14 (Conv2D)             (None, 8, 8, 128)    8320        ['add_3[0][0]']                  \n",
            "                                                                                                  \n",
            " add_4 (Add)                    (None, 8, 8, 128)    0           ['conv2d_13[0][0]',              \n",
            "                                                                  'conv2d_14[0][0]']              \n",
            "                                                                                                  \n",
            " global_average_pooling2d (Glob  (None, 128)         0           ['add_4[0][0]']                  \n",
            " alAveragePooling2D)                                                                              \n",
            "                                                                                                  \n",
            " dense (Dense)                  (None, 1)            129         ['global_average_pooling2d[0][0]'\n",
            "                                                                 ]                                \n",
            "                                                                                                  \n",
            "==================================================================================================\n",
            "Total params: 297,697\n",
            "Trainable params: 297,697\n",
            "Non-trainable params: 0\n",
            "__________________________________________________________________________________________________\n"
          ]
        }
      ],
      "source": [
        "inputs = keras.Input(shape=(32, 32, 3))\n",
        "x = layers.Rescaling(1./255)(inputs)\n",
        "\n",
        "def residual_block(x, filters, pooling=False):\n",
        "    residual = x\n",
        "    x = layers.Conv2D(filters, 3, activation=\"relu\", padding=\"same\")(x)\n",
        "    x = layers.Conv2D(filters, 3, activation=\"relu\", padding=\"same\")(x)\n",
        "    if pooling:\n",
        "        x = layers.MaxPooling2D(2, padding=\"same\")(x)\n",
        "        residual = layers.Conv2D(filters, 1, strides=2)(residual)\n",
        "    elif filters != residual.shape[-1]:\n",
        "        residual = layers.Conv2D(filters, 1)(residual)\n",
        "    x = layers.add([x, residual])\n",
        "    return x\n",
        "\n",
        "x = residual_block(x, filters=32, pooling=True)\n",
        "x = residual_block(x, filters=64, pooling=True)\n",
        "x = residual_block(x, filters=128, pooling=False) # global average pooling을 사용하므로 false\n",
        "\n",
        "x = layers.GlobalAveragePooling2D()(x)\n",
        "outputs = layers.Dense(1, activation=\"sigmoid\")(x)\n",
        "model = keras.Model(inputs=inputs, outputs=outputs)\n",
        "model.summary()"
      ]
    },
    {
      "cell_type": "markdown",
      "metadata": {
        "id": "RNNwyj34GdKV"
      },
      "source": [
        "### Batch normalization"
      ]
    },
    {
      "cell_type": "code",
      "source": [
        "x = layers.Conv2D(32,3,use_bias=False)(x)\n",
        "x = layers.BatchNormalization()(x) # 먼저 배치 정규화 후\n",
        "x = layers,Activation(\"relu\")[x] # activation 실행해야"
      ],
      "metadata": {
        "id": "wB8-JZ9-VRaA"
      },
      "execution_count": null,
      "outputs": []
    },
    {
      "cell_type": "markdown",
      "source": [
        "배치 정규화 fine tuning시  \n",
        "-> 정규화 layer는 untrainable로(내부 분산 및 평균이 계속 업데이트되어 튜닝에 방해가 될 수 있다) "
      ],
      "metadata": {
        "id": "-10Jdqb3V1ZA"
      }
    },
    {
      "cell_type": "markdown",
      "metadata": {
        "id": "2CHaUgQCGdKW"
      },
      "source": [
        "### Depthwise separable convolutions"
      ]
    },
    {
      "cell_type": "markdown",
      "metadata": {
        "id": "Y-dXA8JyGdKW"
      },
      "source": [
        "### Putting it together: A mini Xception-like model"
      ]
    },
    {
      "cell_type": "code",
      "execution_count": 4,
      "metadata": {
        "id": "9VZ3pEGRGdKX",
        "outputId": "c95fd16d-0e97-4565-b53d-8c185eb3a805",
        "colab": {
          "resources": {
            "http://localhost:8080/nbextensions/google.colab/files.js": {
              "data": "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",
              "ok": true,
              "headers": [
                [
                  "content-type",
                  "application/javascript"
                ]
              ],
              "status": 200,
              "status_text": ""
            }
          },
          "base_uri": "https://localhost:8080/",
          "height": 96
        }
      },
      "outputs": [
        {
          "output_type": "display_data",
          "data": {
            "text/plain": [
              "<IPython.core.display.HTML object>"
            ],
            "text/html": [
              "\n",
              "     <input type=\"file\" id=\"files-b16b91c1-3086-426b-b014-dce38a6d1b37\" name=\"files[]\" multiple disabled\n",
              "        style=\"border:none\" />\n",
              "     <output id=\"result-b16b91c1-3086-426b-b014-dce38a6d1b37\">\n",
              "      Upload widget is only available when the cell has been executed in the\n",
              "      current browser session. Please rerun this cell to enable.\n",
              "      </output>\n",
              "      <script src=\"/nbextensions/google.colab/files.js\"></script> "
            ]
          },
          "metadata": {}
        },
        {
          "output_type": "stream",
          "name": "stdout",
          "text": [
            "Saving kaggle.json to kaggle.json\n"
          ]
        },
        {
          "output_type": "execute_result",
          "data": {
            "text/plain": [
              "{'kaggle.json': b'{\"username\":\"yoonhanse\",\"key\":\"3f017a293173dc2509f8acb74aa02bac\"}'}"
            ]
          },
          "metadata": {},
          "execution_count": 4
        }
      ],
      "source": [
        "from google.colab import files\n",
        "files.upload()"
      ]
    },
    {
      "cell_type": "code",
      "execution_count": 5,
      "metadata": {
        "id": "yI6lfYBWGdKY",
        "outputId": "34c81078-e537-406c-9d5a-faee5ea5fab9",
        "colab": {
          "base_uri": "https://localhost:8080/"
        }
      },
      "outputs": [
        {
          "output_type": "stream",
          "name": "stdout",
          "text": [
            "Downloading dogs-vs-cats.zip to /content\n",
            " 99% 800M/812M [00:04<00:00, 203MB/s]\n",
            "100% 812M/812M [00:04<00:00, 203MB/s]\n",
            "unzip:  cannot find or open train.zip, train.zip.zip or train.zip.ZIP.\n"
          ]
        }
      ],
      "source": [
        "!mkdir ~/.kaggle\n",
        "!cp kaggle.json ~/.kaggle/\n",
        "!chmod 600 ~/.kaggle/kaggle.json\n",
        "!kaggle competitions download -c dogs-vs-cats\n",
        "!unzip -qq train.zip"
      ]
    },
    {
      "cell_type": "code",
      "source": [
        "!unzip -qq dogs-vs-cats.zip"
      ],
      "metadata": {
        "id": "4Z-KPwpyYYTP"
      },
      "execution_count": 6,
      "outputs": []
    },
    {
      "cell_type": "code",
      "source": [
        "!unzip -qq train.zip"
      ],
      "metadata": {
        "id": "qELTQmTUYbac"
      },
      "execution_count": 7,
      "outputs": []
    },
    {
      "cell_type": "markdown",
      "source": [
        "- 모델은 보통 여러 convolution layers와 max pooling layer로 구성된 반복된 레이어블록으로 구성된다.\n",
        "- 공간 피쳐맵의 크기가 줄어들면 레이어의 필터 수가 증가해야 한다.\n",
        "- 넓고 얕은 것보다 좁고 깊은 것이 낫다.\n",
        "- residual connection을 도입하면 더 깊은 네트워크를 훈련하는데 도움이 된다.\n",
        "- convolution layer 뒤에 batch normalizaion 레이어를 도입하는 것이 유용하다.\n",
        "- conv2d보다 separable conv2d layer가 더 유리할 수 있다. "
      ],
      "metadata": {
        "id": "3gdeuRDGXd96"
      }
    },
    {
      "cell_type": "code",
      "execution_count": 8,
      "metadata": {
        "id": "MYWPdMLqGdKY",
        "outputId": "a611f5da-f71c-441c-885e-e4aee168c867",
        "colab": {
          "base_uri": "https://localhost:8080/"
        }
      },
      "outputs": [
        {
          "output_type": "stream",
          "name": "stdout",
          "text": [
            "Found 2000 files belonging to 2 classes.\n",
            "Found 1000 files belonging to 2 classes.\n",
            "Found 2000 files belonging to 2 classes.\n"
          ]
        }
      ],
      "source": [
        "import os, shutil, pathlib\n",
        "from tensorflow.keras.utils import image_dataset_from_directory\n",
        "\n",
        "original_dir = pathlib.Path(\"train\")\n",
        "new_base_dir = pathlib.Path(\"cats_vs_dogs_small\")\n",
        "\n",
        "def make_subset(subset_name, start_index, end_index):\n",
        "    for category in (\"cat\", \"dog\"):\n",
        "        dir = new_base_dir / subset_name / category\n",
        "        os.makedirs(dir)\n",
        "        fnames = [f\"{category}.{i}.jpg\" for i in range(start_index, end_index)]\n",
        "        for fname in fnames:\n",
        "            shutil.copyfile(src=original_dir / fname,\n",
        "                            dst=dir / fname)\n",
        "\n",
        "make_subset(\"train\", start_index=0, end_index=1000)\n",
        "make_subset(\"validation\", start_index=1000, end_index=1500)\n",
        "make_subset(\"test\", start_index=1500, end_index=2500)\n",
        "\n",
        "train_dataset = image_dataset_from_directory(\n",
        "    new_base_dir / \"train\",\n",
        "    image_size=(180, 180),\n",
        "    batch_size=32)\n",
        "validation_dataset = image_dataset_from_directory(\n",
        "    new_base_dir / \"validation\",\n",
        "    image_size=(180, 180),\n",
        "    batch_size=32)\n",
        "test_dataset = image_dataset_from_directory(\n",
        "    new_base_dir / \"test\",\n",
        "    image_size=(180, 180),\n",
        "    batch_size=32)"
      ]
    },
    {
      "cell_type": "code",
      "execution_count": 9,
      "metadata": {
        "id": "CLCxbpzZGdKZ"
      },
      "outputs": [],
      "source": [
        "data_augmentation = keras.Sequential(\n",
        "    [\n",
        "        layers.RandomFlip(\"horizontal\"),\n",
        "        layers.RandomRotation(0.1),\n",
        "        layers.RandomZoom(0.2),\n",
        "    ]\n",
        ") # data augmentation "
      ]
    },
    {
      "cell_type": "code",
      "execution_count": 10,
      "metadata": {
        "id": "xOrPa0pEGdKa"
      },
      "outputs": [],
      "source": [
        "inputs = keras.Input(shape=(180, 180, 3))\n",
        "x = data_augmentation(inputs) # data augmentation \n",
        "\n",
        "x = layers.Rescaling(1./255)(x) # scaling\n",
        "x = layers.Conv2D(filters=32, kernel_size=5, use_bias=False)(x) # conv2d \n",
        "\n",
        "for size in [32, 64, 128, 256, 512]: # residual connection 적용 \n",
        "    residual = x\n",
        "\n",
        "    x = layers.BatchNormalization()(x)\n",
        "    x = layers.Activation(\"relu\")(x)\n",
        "    x = layers.SeparableConv2D(size, 3, padding=\"same\", use_bias=False)(x)\n",
        "\n",
        "    x = layers.BatchNormalization()(x)\n",
        "    x = layers.Activation(\"relu\")(x)\n",
        "    x = layers.SeparableConv2D(size, 3, padding=\"same\", use_bias=False)(x)\n",
        "\n",
        "    x = layers.MaxPooling2D(3, strides=2, padding=\"same\")(x)\n",
        "\n",
        "    residual = layers.Conv2D(\n",
        "        size, 1, strides=2, padding=\"same\", use_bias=False)(residual)\n",
        "    x = layers.add([x, residual])\n",
        "\n",
        "x = layers.GlobalAveragePooling2D()(x) # gloval average pooling 적용 -> feature을 1차원으로 만듦\n",
        "x = layers.Dropout(0.5)(x) # 드롭아웃 적용 \n",
        "outputs = layers.Dense(1, activation=\"sigmoid\")(x)\n",
        "model = keras.Model(inputs=inputs, outputs=outputs)"
      ]
    },
    {
      "cell_type": "code",
      "execution_count": null,
      "metadata": {
        "id": "QnZ90Q0VGdKb",
        "outputId": "c7c29296-5643-483d-ce14-2753f1fd75e1",
        "colab": {
          "base_uri": "https://localhost:8080/"
        }
      },
      "outputs": [
        {
          "output_type": "stream",
          "name": "stdout",
          "text": [
            "Epoch 1/100\n",
            "63/63 [==============================] - 44s 441ms/step - loss: 0.6952 - accuracy: 0.5605 - val_loss: 0.6928 - val_accuracy: 0.5050\n",
            "Epoch 2/100\n",
            "63/63 [==============================] - 27s 418ms/step - loss: 0.6553 - accuracy: 0.6175 - val_loss: 0.6933 - val_accuracy: 0.5000\n",
            "Epoch 3/100\n",
            "63/63 [==============================] - 27s 421ms/step - loss: 0.6418 - accuracy: 0.6345 - val_loss: 0.6976 - val_accuracy: 0.5000\n",
            "Epoch 4/100\n",
            "63/63 [==============================] - 27s 421ms/step - loss: 0.6166 - accuracy: 0.6565 - val_loss: 0.7166 - val_accuracy: 0.5000\n",
            "Epoch 5/100\n",
            "63/63 [==============================] - 27s 415ms/step - loss: 0.6049 - accuracy: 0.6740 - val_loss: 0.8161 - val_accuracy: 0.5000\n",
            "Epoch 6/100\n",
            "63/63 [==============================] - 27s 424ms/step - loss: 0.5905 - accuracy: 0.6820 - val_loss: 0.7908 - val_accuracy: 0.5000\n",
            "Epoch 7/100\n",
            "63/63 [==============================] - 27s 424ms/step - loss: 0.5608 - accuracy: 0.7025 - val_loss: 0.8714 - val_accuracy: 0.5210\n",
            "Epoch 8/100\n",
            "63/63 [==============================] - 27s 429ms/step - loss: 0.5552 - accuracy: 0.7275 - val_loss: 0.7763 - val_accuracy: 0.5490\n",
            "Epoch 9/100\n",
            "63/63 [==============================] - 27s 424ms/step - loss: 0.5324 - accuracy: 0.7330 - val_loss: 0.7459 - val_accuracy: 0.5700\n",
            "Epoch 10/100\n",
            "63/63 [==============================] - 27s 429ms/step - loss: 0.5098 - accuracy: 0.7475 - val_loss: 0.8296 - val_accuracy: 0.5880\n",
            "Epoch 11/100\n",
            "63/63 [==============================] - 27s 421ms/step - loss: 0.5017 - accuracy: 0.7585 - val_loss: 0.9147 - val_accuracy: 0.5750\n",
            "Epoch 12/100\n",
            "63/63 [==============================] - 27s 424ms/step - loss: 0.4799 - accuracy: 0.7800 - val_loss: 0.7238 - val_accuracy: 0.5940\n",
            "Epoch 13/100\n",
            "63/63 [==============================] - 27s 422ms/step - loss: 0.4839 - accuracy: 0.7620 - val_loss: 0.5153 - val_accuracy: 0.7410\n",
            "Epoch 14/100\n",
            "63/63 [==============================] - 27s 420ms/step - loss: 0.4609 - accuracy: 0.7875 - val_loss: 0.8306 - val_accuracy: 0.6110\n",
            "Epoch 15/100\n",
            "63/63 [==============================] - 27s 423ms/step - loss: 0.4528 - accuracy: 0.7925 - val_loss: 0.5541 - val_accuracy: 0.7490\n",
            "Epoch 16/100\n",
            "63/63 [==============================] - 27s 421ms/step - loss: 0.4352 - accuracy: 0.8005 - val_loss: 0.8878 - val_accuracy: 0.6200\n",
            "Epoch 17/100\n",
            "63/63 [==============================] - 27s 421ms/step - loss: 0.4431 - accuracy: 0.7965 - val_loss: 0.4501 - val_accuracy: 0.7950\n",
            "Epoch 18/100\n",
            "63/63 [==============================] - 27s 419ms/step - loss: 0.4347 - accuracy: 0.8020 - val_loss: 0.7473 - val_accuracy: 0.6540\n",
            "Epoch 19/100\n",
            "63/63 [==============================] - 27s 426ms/step - loss: 0.3768 - accuracy: 0.8315 - val_loss: 0.8488 - val_accuracy: 0.6650\n",
            "Epoch 20/100\n",
            "63/63 [==============================] - 27s 422ms/step - loss: 0.4094 - accuracy: 0.8195 - val_loss: 1.0417 - val_accuracy: 0.6030\n",
            "Epoch 21/100\n",
            "63/63 [==============================] - 27s 424ms/step - loss: 0.3924 - accuracy: 0.8265 - val_loss: 1.2689 - val_accuracy: 0.5470\n",
            "Epoch 22/100\n",
            "63/63 [==============================] - 27s 422ms/step - loss: 0.3869 - accuracy: 0.8220 - val_loss: 0.6990 - val_accuracy: 0.7080\n",
            "Epoch 23/100\n",
            "63/63 [==============================] - 27s 421ms/step - loss: 0.3894 - accuracy: 0.8240 - val_loss: 0.4921 - val_accuracy: 0.7650\n",
            "Epoch 24/100\n",
            "63/63 [==============================] - 27s 424ms/step - loss: 0.3678 - accuracy: 0.8435 - val_loss: 0.5864 - val_accuracy: 0.7380\n",
            "Epoch 25/100\n",
            "63/63 [==============================] - 27s 419ms/step - loss: 0.3722 - accuracy: 0.8295 - val_loss: 0.8452 - val_accuracy: 0.6640\n",
            "Epoch 26/100\n",
            "63/63 [==============================] - 27s 421ms/step - loss: 0.3626 - accuracy: 0.8475 - val_loss: 0.4123 - val_accuracy: 0.8150\n",
            "Epoch 27/100\n",
            "63/63 [==============================] - 28s 433ms/step - loss: 0.3342 - accuracy: 0.8540 - val_loss: 0.6992 - val_accuracy: 0.7460\n",
            "Epoch 28/100\n",
            "63/63 [==============================] - 28s 431ms/step - loss: 0.3420 - accuracy: 0.8425 - val_loss: 0.6193 - val_accuracy: 0.7540\n",
            "Epoch 29/100\n",
            "63/63 [==============================] - 27s 429ms/step - loss: 0.3270 - accuracy: 0.8610 - val_loss: 0.5398 - val_accuracy: 0.7560\n",
            "Epoch 30/100\n",
            "63/63 [==============================] - 28s 431ms/step - loss: 0.3171 - accuracy: 0.8645 - val_loss: 0.8903 - val_accuracy: 0.6710\n",
            "Epoch 31/100\n",
            "63/63 [==============================] - 28s 431ms/step - loss: 0.3018 - accuracy: 0.8665 - val_loss: 0.9877 - val_accuracy: 0.6660\n",
            "Epoch 32/100\n",
            "63/63 [==============================] - 28s 435ms/step - loss: 0.2875 - accuracy: 0.8760 - val_loss: 0.5355 - val_accuracy: 0.8030\n",
            "Epoch 33/100\n",
            "63/63 [==============================] - 27s 430ms/step - loss: 0.2958 - accuracy: 0.8810 - val_loss: 0.6409 - val_accuracy: 0.7780\n",
            "Epoch 34/100\n",
            "63/63 [==============================] - 28s 437ms/step - loss: 0.3191 - accuracy: 0.8625 - val_loss: 0.5776 - val_accuracy: 0.7440\n",
            "Epoch 35/100\n",
            "63/63 [==============================] - 27s 430ms/step - loss: 0.2926 - accuracy: 0.8720 - val_loss: 0.3535 - val_accuracy: 0.8420\n",
            "Epoch 36/100\n",
            "63/63 [==============================] - 27s 430ms/step - loss: 0.2796 - accuracy: 0.8790 - val_loss: 0.3813 - val_accuracy: 0.8420\n",
            "Epoch 37/100\n",
            "63/63 [==============================] - 28s 438ms/step - loss: 0.2677 - accuracy: 0.8875 - val_loss: 0.9537 - val_accuracy: 0.7340\n",
            "Epoch 38/100\n",
            "63/63 [==============================] - 28s 433ms/step - loss: 0.2668 - accuracy: 0.8865 - val_loss: 1.4122 - val_accuracy: 0.5990\n",
            "Epoch 39/100\n",
            "63/63 [==============================] - 27s 428ms/step - loss: 0.2538 - accuracy: 0.8965 - val_loss: 0.4444 - val_accuracy: 0.8220\n",
            "Epoch 40/100\n",
            "63/63 [==============================] - 28s 432ms/step - loss: 0.2520 - accuracy: 0.9025 - val_loss: 0.4056 - val_accuracy: 0.8130\n",
            "Epoch 41/100\n",
            "63/63 [==============================] - 27s 426ms/step - loss: 0.2562 - accuracy: 0.8900 - val_loss: 0.3737 - val_accuracy: 0.8380\n",
            "Epoch 42/100\n",
            "63/63 [==============================] - 27s 433ms/step - loss: 0.2636 - accuracy: 0.8925 - val_loss: 0.8517 - val_accuracy: 0.7450\n",
            "Epoch 43/100\n",
            "63/63 [==============================] - 28s 433ms/step - loss: 0.2282 - accuracy: 0.9035 - val_loss: 1.6941 - val_accuracy: 0.5630\n",
            "Epoch 44/100\n",
            "63/63 [==============================] - 28s 434ms/step - loss: 0.2500 - accuracy: 0.8960 - val_loss: 0.3501 - val_accuracy: 0.8560\n",
            "Epoch 45/100\n",
            "63/63 [==============================] - 28s 432ms/step - loss: 0.2253 - accuracy: 0.9085 - val_loss: 0.5672 - val_accuracy: 0.7690\n",
            "Epoch 46/100\n",
            "63/63 [==============================] - 27s 431ms/step - loss: 0.2087 - accuracy: 0.9180 - val_loss: 0.6395 - val_accuracy: 0.7780\n",
            "Epoch 47/100\n",
            "63/63 [==============================] - 27s 427ms/step - loss: 0.2286 - accuracy: 0.9130 - val_loss: 0.4880 - val_accuracy: 0.8110\n",
            "Epoch 48/100\n",
            "63/63 [==============================] - 28s 437ms/step - loss: 0.2070 - accuracy: 0.9125 - val_loss: 0.3865 - val_accuracy: 0.8570\n",
            "Epoch 49/100\n",
            "63/63 [==============================] - 28s 431ms/step - loss: 0.2099 - accuracy: 0.9160 - val_loss: 1.1027 - val_accuracy: 0.6920\n",
            "Epoch 50/100\n",
            "63/63 [==============================] - 28s 434ms/step - loss: 0.2085 - accuracy: 0.9200 - val_loss: 0.3976 - val_accuracy: 0.8460\n",
            "Epoch 51/100\n",
            "63/63 [==============================] - 27s 432ms/step - loss: 0.2052 - accuracy: 0.9140 - val_loss: 0.5355 - val_accuracy: 0.8290\n",
            "Epoch 52/100\n",
            "63/63 [==============================] - 28s 432ms/step - loss: 0.1786 - accuracy: 0.9235 - val_loss: 0.3798 - val_accuracy: 0.8490\n",
            "Epoch 53/100\n",
            "63/63 [==============================] - 27s 429ms/step - loss: 0.2116 - accuracy: 0.9195 - val_loss: 0.2818 - val_accuracy: 0.8850\n",
            "Epoch 54/100\n",
            "63/63 [==============================] - 27s 430ms/step - loss: 0.1855 - accuracy: 0.9310 - val_loss: 0.3484 - val_accuracy: 0.8700\n",
            "Epoch 55/100\n",
            "63/63 [==============================] - 28s 435ms/step - loss: 0.1872 - accuracy: 0.9175 - val_loss: 0.5985 - val_accuracy: 0.7810\n",
            "Epoch 56/100\n",
            "63/63 [==============================] - 28s 438ms/step - loss: 0.1817 - accuracy: 0.9255 - val_loss: 1.4700 - val_accuracy: 0.6400\n",
            "Epoch 57/100\n",
            "63/63 [==============================] - 28s 437ms/step - loss: 0.1635 - accuracy: 0.9365 - val_loss: 0.4368 - val_accuracy: 0.8460\n",
            "Epoch 58/100\n",
            "63/63 [==============================] - 27s 428ms/step - loss: 0.1793 - accuracy: 0.9325 - val_loss: 0.9361 - val_accuracy: 0.7060\n",
            "Epoch 59/100\n",
            "63/63 [==============================] - 28s 433ms/step - loss: 0.1638 - accuracy: 0.9360 - val_loss: 0.3644 - val_accuracy: 0.8680\n",
            "Epoch 60/100\n",
            "63/63 [==============================] - 28s 433ms/step - loss: 0.1659 - accuracy: 0.9350 - val_loss: 0.3891 - val_accuracy: 0.8660\n",
            "Epoch 61/100\n",
            "63/63 [==============================] - 28s 433ms/step - loss: 0.1734 - accuracy: 0.9340 - val_loss: 0.3809 - val_accuracy: 0.8660\n"
          ]
        }
      ],
      "source": [
        "model.compile(loss=\"binary_crossentropy\",\n",
        "              optimizer=\"rmsprop\",\n",
        "              metrics=[\"accuracy\"])\n",
        "history = model.fit(\n",
        "    train_dataset,\n",
        "    epochs=100,\n",
        "    validation_data=validation_dataset)"
      ]
    }
  ],
  "metadata": {
    "colab": {
      "collapsed_sections": [],
      "name": "chapter09_part02_modern-convnet-architecture-patterns.i",
      "provenance": []
    },
    "kernelspec": {
      "display_name": "Python 3",
      "language": "python",
      "name": "python3"
    },
    "language_info": {
      "codemirror_mode": {
        "name": "ipython",
        "version": 3
      },
      "file_extension": ".py",
      "mimetype": "text/x-python",
      "name": "python",
      "nbconvert_exporter": "python",
      "pygments_lexer": "ipython3",
      "version": "3.7.0"
    },
    "accelerator": "GPU"
  },
  "nbformat": 4,
  "nbformat_minor": 0
}