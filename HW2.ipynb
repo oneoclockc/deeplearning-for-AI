{
  "nbformat": 4,
  "nbformat_minor": 0,
  "metadata": {
    "colab": {
      "name": "HW2.ipynb",
      "provenance": [],
      "collapsed_sections": [],
      "include_colab_link": true
    },
    "kernelspec": {
      "name": "python3",
      "display_name": "Python 3"
    },
    "language_info": {
      "name": "python"
    },
    "accelerator": "GPU"
  },
  "cells": [
    {
      "cell_type": "markdown",
      "metadata": {
        "id": "view-in-github",
        "colab_type": "text"
      },
      "source": [
        "<a href=\"https://colab.research.google.com/github/oneoclockc/deeplearning-for-AI/blob/main/HW2.ipynb\" target=\"_parent\"><img src=\"https://colab.research.google.com/assets/colab-badge.svg\" alt=\"Open In Colab\"/></a>"
      ]
    },
    {
      "cell_type": "markdown",
      "source": [
        "## HW 2\n",
        "Answer folloing questions \n",
        "\n"
      ],
      "metadata": {
        "id": "OwBySVVU5h6M"
      }
    },
    {
      "cell_type": "code",
      "execution_count": null,
      "metadata": {
        "id": "aZSgHuiR5W1k"
      },
      "outputs": [],
      "source": [
        ""
      ]
    },
    {
      "cell_type": "markdown",
      "source": [
        "### Below is one of the example code for binary-class classification problem on IMDB dataset"
      ],
      "metadata": {
        "id": "qEqK8L1k6PSd"
      }
    },
    {
      "cell_type": "code",
      "source": [
        "from tensorflow.keras.datasets import imdb\n",
        "(train_data, train_labels), (test_data, test_labels) = imdb.load_data(\n",
        "    num_words=10000)"
      ],
      "metadata": {
        "id": "WKvVq8pQ6YNt",
        "outputId": "64e8ad14-4fd1-44c6-be90-28b71e60987d",
        "colab": {
          "base_uri": "https://localhost:8080/"
        }
      },
      "execution_count": 1,
      "outputs": [
        {
          "output_type": "stream",
          "name": "stdout",
          "text": [
            "Downloading data from https://storage.googleapis.com/tensorflow/tf-keras-datasets/imdb.npz\n",
            "17465344/17464789 [==============================] - 0s 0us/step\n",
            "17473536/17464789 [==============================] - 0s 0us/step\n"
          ]
        }
      ]
    },
    {
      "cell_type": "code",
      "source": [
        "import numpy as np\n",
        "def vectorize_sequences(sequences, dimension=10000):\n",
        "    results = np.zeros((len(sequences), dimension))\n",
        "    for i, sequence in enumerate(sequences):\n",
        "        for j in sequence:\n",
        "            results[i, j] = 1.\n",
        "    return results\n",
        "x_train = vectorize_sequences(train_data)\n",
        "x_test = vectorize_sequences(test_data)"
      ],
      "metadata": {
        "id": "IFml1LhPXCsk"
      },
      "execution_count": 2,
      "outputs": []
    },
    {
      "cell_type": "code",
      "source": [
        "y_train = np.asarray(train_labels).astype(\"float32\")\n",
        "y_test = np.asarray(test_labels).astype(\"float32\")"
      ],
      "metadata": {
        "id": "FCxmgWVYXHoD"
      },
      "execution_count": 3,
      "outputs": []
    },
    {
      "cell_type": "code",
      "source": [
        "y_train[:5]"
      ],
      "metadata": {
        "colab": {
          "base_uri": "https://localhost:8080/"
        },
        "id": "RMI28KpIXVYE",
        "outputId": "38266856-b975-4940-c17d-2a809b1a0bfa"
      },
      "execution_count": 4,
      "outputs": [
        {
          "output_type": "execute_result",
          "data": {
            "text/plain": [
              "array([1., 0., 0., 1., 0.], dtype=float32)"
            ]
          },
          "metadata": {},
          "execution_count": 4
        }
      ]
    },
    {
      "cell_type": "code",
      "source": [
        "from tensorflow import keras\n",
        "from tensorflow.keras import layers\n",
        "\n",
        "model = keras.Sequential([\n",
        "    layers.Dense(16, activation=\"relu\"),\n",
        "    layers.Dense(16, activation=\"relu\"),\n",
        "    layers.Dense(1, activation=\"sigmoid\")\n",
        "])"
      ],
      "metadata": {
        "id": "xgDMHxOVXKRE"
      },
      "execution_count": 5,
      "outputs": []
    },
    {
      "cell_type": "code",
      "source": [
        "model.compile(optimizer=\"rmsprop\",\n",
        "              loss=\"binary_crossentropy\",\n",
        "              metrics=[\"accuracy\"])"
      ],
      "metadata": {
        "id": "tT4KACL9XdNE"
      },
      "execution_count": 6,
      "outputs": []
    },
    {
      "cell_type": "code",
      "source": [
        "x_val = x_train[:10000]\n",
        "partial_x_train = x_train[10000:]\n",
        "y_val = y_train[:10000]\n",
        "partial_y_train = y_train[10000:]"
      ],
      "metadata": {
        "id": "k-Ufwj3iXc8l"
      },
      "execution_count": 7,
      "outputs": []
    },
    {
      "cell_type": "code",
      "source": [
        "history = model.fit(partial_x_train,\n",
        "                    partial_y_train,\n",
        "                    epochs=20,\n",
        "                    batch_size=512,\n",
        "                    validation_data=(x_val, y_val))"
      ],
      "metadata": {
        "id": "5kJLbfX3Xp_U",
        "outputId": "4a6a7197-12c0-43e6-9542-8ed12aa8e81b",
        "colab": {
          "base_uri": "https://localhost:8080/"
        }
      },
      "execution_count": 8,
      "outputs": [
        {
          "output_type": "stream",
          "name": "stdout",
          "text": [
            "Epoch 1/20\n",
            "30/30 [==============================] - 5s 46ms/step - loss: 0.5341 - accuracy: 0.7737 - val_loss: 0.4303 - val_accuracy: 0.8320\n",
            "Epoch 2/20\n",
            "30/30 [==============================] - 1s 22ms/step - loss: 0.3281 - accuracy: 0.8978 - val_loss: 0.3190 - val_accuracy: 0.8850\n",
            "Epoch 3/20\n",
            "30/30 [==============================] - 1s 21ms/step - loss: 0.2333 - accuracy: 0.9276 - val_loss: 0.2811 - val_accuracy: 0.8927\n",
            "Epoch 4/20\n",
            "30/30 [==============================] - 1s 22ms/step - loss: 0.1772 - accuracy: 0.9446 - val_loss: 0.2864 - val_accuracy: 0.8858\n",
            "Epoch 5/20\n",
            "30/30 [==============================] - 1s 21ms/step - loss: 0.1428 - accuracy: 0.9541 - val_loss: 0.2879 - val_accuracy: 0.8855\n",
            "Epoch 6/20\n",
            "30/30 [==============================] - 1s 21ms/step - loss: 0.1148 - accuracy: 0.9658 - val_loss: 0.2986 - val_accuracy: 0.8838\n",
            "Epoch 7/20\n",
            "30/30 [==============================] - 1s 21ms/step - loss: 0.0928 - accuracy: 0.9740 - val_loss: 0.3476 - val_accuracy: 0.8740\n",
            "Epoch 8/20\n",
            "30/30 [==============================] - 1s 21ms/step - loss: 0.0780 - accuracy: 0.9787 - val_loss: 0.3596 - val_accuracy: 0.8759\n",
            "Epoch 9/20\n",
            "30/30 [==============================] - 1s 22ms/step - loss: 0.0624 - accuracy: 0.9843 - val_loss: 0.3753 - val_accuracy: 0.8742\n",
            "Epoch 10/20\n",
            "30/30 [==============================] - 1s 21ms/step - loss: 0.0534 - accuracy: 0.9859 - val_loss: 0.3916 - val_accuracy: 0.8766\n",
            "Epoch 11/20\n",
            "30/30 [==============================] - 1s 21ms/step - loss: 0.0442 - accuracy: 0.9894 - val_loss: 0.4310 - val_accuracy: 0.8742\n",
            "Epoch 12/20\n",
            "30/30 [==============================] - 1s 22ms/step - loss: 0.0338 - accuracy: 0.9937 - val_loss: 0.4469 - val_accuracy: 0.8737\n",
            "Epoch 13/20\n",
            "30/30 [==============================] - 1s 25ms/step - loss: 0.0290 - accuracy: 0.9938 - val_loss: 0.4927 - val_accuracy: 0.8718\n",
            "Epoch 14/20\n",
            "30/30 [==============================] - 1s 21ms/step - loss: 0.0257 - accuracy: 0.9942 - val_loss: 0.5158 - val_accuracy: 0.8723\n",
            "Epoch 15/20\n",
            "30/30 [==============================] - 1s 22ms/step - loss: 0.0135 - accuracy: 0.9987 - val_loss: 0.5437 - val_accuracy: 0.8692\n",
            "Epoch 16/20\n",
            "30/30 [==============================] - 1s 21ms/step - loss: 0.0161 - accuracy: 0.9967 - val_loss: 0.5762 - val_accuracy: 0.8696\n",
            "Epoch 17/20\n",
            "30/30 [==============================] - 1s 21ms/step - loss: 0.0087 - accuracy: 0.9992 - val_loss: 0.6821 - val_accuracy: 0.8538\n",
            "Epoch 18/20\n",
            "30/30 [==============================] - 1s 23ms/step - loss: 0.0067 - accuracy: 0.9994 - val_loss: 0.6495 - val_accuracy: 0.8661\n",
            "Epoch 19/20\n",
            "30/30 [==============================] - 1s 22ms/step - loss: 0.0087 - accuracy: 0.9981 - val_loss: 0.6876 - val_accuracy: 0.8662\n",
            "Epoch 20/20\n",
            "30/30 [==============================] - 1s 25ms/step - loss: 0.0037 - accuracy: 0.9998 - val_loss: 0.9128 - val_accuracy: 0.8455\n"
          ]
        }
      ]
    },
    {
      "cell_type": "markdown",
      "source": [
        "### Q1 Binary classification is multi-class classification with two classes so we can modify our model as below:"
      ],
      "metadata": {
        "id": "AFsXMZmW6e6F"
      }
    },
    {
      "cell_type": "code",
      "source": [
        "model2 = keras.Sequential([\n",
        "    layers.Dense(16, activation=\"relu\"),\n",
        "    layers.Dense(16, activation=\"relu\"),\n",
        "    layers.Dense(2, activation=\"softmax\")\n",
        "])"
      ],
      "metadata": {
        "id": "mXXKBxo36kPl"
      },
      "execution_count": 9,
      "outputs": []
    },
    {
      "cell_type": "markdown",
      "source": [
        "### Complete the codes for compile and model fitting. "
      ],
      "metadata": {
        "id": "PsOrD_13YWn1"
      }
    },
    {
      "cell_type": "code",
      "source": [
        "# 타겟 y를 one hot encoding\n",
        "def to_one_hot(labels, dimension=2):\n",
        "    results = np.zeros((len(labels), dimension))\n",
        "    for i, label in enumerate(labels):\n",
        "        results[i, label] = 1.\n",
        "    return results\n",
        "y_train = to_one_hot(train_labels)\n",
        "y_test = to_one_hot(test_labels)"
      ],
      "metadata": {
        "id": "O5cfDGH3otBf"
      },
      "execution_count": 10,
      "outputs": []
    },
    {
      "cell_type": "code",
      "source": [
        "x_val = x_train[:10000]\n",
        "partial_x_train = x_train[10000:]\n",
        "y_val = y_train[:10000]\n",
        "partial_y_train = y_train[10000:]"
      ],
      "metadata": {
        "id": "1Nt0pG6hotkz"
      },
      "execution_count": 11,
      "outputs": []
    },
    {
      "cell_type": "code",
      "source": [
        "#model2.compile()\n",
        "model2.compile(optimizer=\"rmsprop\",\n",
        "              loss=\"binary_crossentropy\",\n",
        "              metrics=[\"accuracy\"])\n",
        "\n",
        "#model2.fit()\n",
        "history2 = model2.fit(partial_x_train,\n",
        "                    partial_y_train,\n",
        "                    epochs=20,\n",
        "                    batch_size=512,\n",
        "                    validation_data=(x_val, y_val))"
      ],
      "metadata": {
        "id": "Hj4AauQvYT7F",
        "outputId": "addd669d-7767-4135-cdcb-c3256fb3cada",
        "colab": {
          "base_uri": "https://localhost:8080/"
        }
      },
      "execution_count": 12,
      "outputs": [
        {
          "output_type": "stream",
          "name": "stdout",
          "text": [
            "Epoch 1/20\n",
            "30/30 [==============================] - 2s 36ms/step - loss: 0.5130 - accuracy: 0.7929 - val_loss: 0.3849 - val_accuracy: 0.8739\n",
            "Epoch 2/20\n",
            "30/30 [==============================] - 1s 21ms/step - loss: 0.3074 - accuracy: 0.9012 - val_loss: 0.3120 - val_accuracy: 0.8827\n",
            "Epoch 3/20\n",
            "30/30 [==============================] - 1s 22ms/step - loss: 0.2263 - accuracy: 0.9273 - val_loss: 0.2833 - val_accuracy: 0.8883\n",
            "Epoch 4/20\n",
            "30/30 [==============================] - 1s 21ms/step - loss: 0.1811 - accuracy: 0.9385 - val_loss: 0.2807 - val_accuracy: 0.8873\n",
            "Epoch 5/20\n",
            "30/30 [==============================] - 1s 21ms/step - loss: 0.1480 - accuracy: 0.9529 - val_loss: 0.2796 - val_accuracy: 0.8863\n",
            "Epoch 6/20\n",
            "30/30 [==============================] - 1s 21ms/step - loss: 0.1235 - accuracy: 0.9621 - val_loss: 0.2943 - val_accuracy: 0.8847\n",
            "Epoch 7/20\n",
            "30/30 [==============================] - 1s 22ms/step - loss: 0.1012 - accuracy: 0.9699 - val_loss: 0.3082 - val_accuracy: 0.8818\n",
            "Epoch 8/20\n",
            "30/30 [==============================] - 1s 22ms/step - loss: 0.0842 - accuracy: 0.9762 - val_loss: 0.3280 - val_accuracy: 0.8821\n",
            "Epoch 9/20\n",
            "30/30 [==============================] - 1s 25ms/step - loss: 0.0720 - accuracy: 0.9803 - val_loss: 0.3535 - val_accuracy: 0.8772\n",
            "Epoch 10/20\n",
            "30/30 [==============================] - 1s 21ms/step - loss: 0.0569 - accuracy: 0.9862 - val_loss: 0.3779 - val_accuracy: 0.8750\n",
            "Epoch 11/20\n",
            "30/30 [==============================] - 1s 22ms/step - loss: 0.0484 - accuracy: 0.9882 - val_loss: 0.4059 - val_accuracy: 0.8745\n",
            "Epoch 12/20\n",
            "30/30 [==============================] - 1s 21ms/step - loss: 0.0377 - accuracy: 0.9921 - val_loss: 0.4380 - val_accuracy: 0.8739\n",
            "Epoch 13/20\n",
            "30/30 [==============================] - 1s 21ms/step - loss: 0.0323 - accuracy: 0.9926 - val_loss: 0.5280 - val_accuracy: 0.8628\n",
            "Epoch 14/20\n",
            "30/30 [==============================] - 1s 22ms/step - loss: 0.0250 - accuracy: 0.9949 - val_loss: 0.5435 - val_accuracy: 0.8621\n",
            "Epoch 15/20\n",
            "30/30 [==============================] - 1s 21ms/step - loss: 0.0209 - accuracy: 0.9964 - val_loss: 0.5388 - val_accuracy: 0.8689\n",
            "Epoch 16/20\n",
            "30/30 [==============================] - 1s 25ms/step - loss: 0.0182 - accuracy: 0.9965 - val_loss: 0.5695 - val_accuracy: 0.8692\n",
            "Epoch 17/20\n",
            "30/30 [==============================] - 1s 22ms/step - loss: 0.0121 - accuracy: 0.9986 - val_loss: 0.6426 - val_accuracy: 0.8623\n",
            "Epoch 18/20\n",
            "30/30 [==============================] - 1s 21ms/step - loss: 0.0086 - accuracy: 0.9996 - val_loss: 0.6532 - val_accuracy: 0.8626\n",
            "Epoch 19/20\n",
            "30/30 [==============================] - 1s 21ms/step - loss: 0.0108 - accuracy: 0.9984 - val_loss: 0.6844 - val_accuracy: 0.8661\n",
            "Epoch 20/20\n",
            "30/30 [==============================] - 1s 21ms/step - loss: 0.0050 - accuracy: 0.9998 - val_loss: 0.7197 - val_accuracy: 0.8643\n"
          ]
        }
      ]
    },
    {
      "cell_type": "markdown",
      "source": [
        "### Q2 Below is visualization of the validation loss. We can see overfitting after 5 epochs.  "
      ],
      "metadata": {
        "id": "6SGxXX70Ylr_"
      }
    },
    {
      "cell_type": "code",
      "source": [
        "import matplotlib.pyplot as plt\n",
        "history_dict = history.history\n",
        "loss_values = history_dict[\"loss\"]\n",
        "val_loss_values = history_dict[\"val_loss\"]\n",
        "epochs = range(1, len(loss_values) + 1)\n",
        "plt.plot(epochs, loss_values, \"bo\", label=\"Training loss\")\n",
        "plt.plot(epochs, val_loss_values, \"b\", label=\"Validation loss\")\n",
        "plt.title(\"Training and validation loss\")\n",
        "plt.xlabel(\"Epochs\")\n",
        "plt.ylabel(\"Loss\")\n",
        "plt.legend()\n",
        "plt.show()"
      ],
      "metadata": {
        "colab": {
          "base_uri": "https://localhost:8080/",
          "height": 295
        },
        "id": "X8rcODQ7Yk_E",
        "outputId": "70ef85f1-b688-4786-aca9-3b398e5670e4"
      },
      "execution_count": 13,
      "outputs": [
        {
          "output_type": "display_data",
          "data": {
            "text/plain": [
              "<Figure size 432x288 with 1 Axes>"
            ],
            "image/png": "[encoded data removed]"
          },
          "metadata": {
            "needs_background": "light"
          }
        }
      ]
    },
    {
      "cell_type": "markdown",
      "source": [
        "### Add dropout layers and visualize the validation loss of your new model."
      ],
      "metadata": {
        "id": "4LbAGmB-aD-d"
      }
    },
    {
      "cell_type": "code",
      "source": [
        "## Add dropout layers \n",
        "\n",
        "model2_dr = keras.Sequential([\n",
        "    layers.Dense(16, activation=\"relu\"),\n",
        "    layers.Dropout(0.3),\n",
        "    layers.Dense(16, activation=\"relu\"),\n",
        "    layers.Dropout(0.3),\n",
        "    layers.Dense(2, activation=\"softmax\")\n",
        "])\n",
        "\n",
        "## retrain and visualize the validation loss of new model\n"
      ],
      "metadata": {
        "id": "uY9QQxR1Z013"
      },
      "execution_count": 14,
      "outputs": []
    },
    {
      "cell_type": "code",
      "source": [
        "#model2.compile()\n",
        "model2_dr.compile(optimizer=\"rmsprop\",\n",
        "              loss=\"binary_crossentropy\",\n",
        "              metrics=[\"accuracy\"])\n",
        "\n",
        "#model2.fit()\n",
        "history_dr = model2_dr.fit(partial_x_train,\n",
        "                    partial_y_train,\n",
        "                    epochs=20,\n",
        "                    batch_size=512,\n",
        "                    validation_data=(x_val, y_val))"
      ],
      "metadata": {
        "id": "h1U4efHVpYfX",
        "outputId": "f91bec5e-a9a3-443f-cda5-75cd9ceca553",
        "colab": {
          "base_uri": "https://localhost:8080/"
        }
      },
      "execution_count": 15,
      "outputs": [
        {
          "output_type": "stream",
          "name": "stdout",
          "text": [
            "Epoch 1/20\n",
            "30/30 [==============================] - 2s 35ms/step - loss: 0.6333 - accuracy: 0.6967 - val_loss: 0.5461 - val_accuracy: 0.8535\n",
            "Epoch 2/20\n",
            "30/30 [==============================] - 1s 25ms/step - loss: 0.5121 - accuracy: 0.8165 - val_loss: 0.4317 - val_accuracy: 0.8755\n",
            "Epoch 3/20\n",
            "30/30 [==============================] - 1s 21ms/step - loss: 0.4111 - accuracy: 0.8657 - val_loss: 0.3652 - val_accuracy: 0.8701\n",
            "Epoch 4/20\n",
            "30/30 [==============================] - 1s 21ms/step - loss: 0.3358 - accuracy: 0.8935 - val_loss: 0.2996 - val_accuracy: 0.8896\n",
            "Epoch 5/20\n",
            "30/30 [==============================] - 1s 25ms/step - loss: 0.2795 - accuracy: 0.9118 - val_loss: 0.2805 - val_accuracy: 0.8902\n",
            "Epoch 6/20\n",
            "30/30 [==============================] - 1s 21ms/step - loss: 0.2353 - accuracy: 0.9269 - val_loss: 0.2734 - val_accuracy: 0.8902\n",
            "Epoch 7/20\n",
            "30/30 [==============================] - 1s 22ms/step - loss: 0.2004 - accuracy: 0.9402 - val_loss: 0.2746 - val_accuracy: 0.8903\n",
            "Epoch 8/20\n",
            "30/30 [==============================] - 1s 22ms/step - loss: 0.1694 - accuracy: 0.9512 - val_loss: 0.2820 - val_accuracy: 0.8880\n",
            "Epoch 9/20\n",
            "30/30 [==============================] - 1s 22ms/step - loss: 0.1430 - accuracy: 0.9573 - val_loss: 0.3073 - val_accuracy: 0.8856\n",
            "Epoch 10/20\n",
            "30/30 [==============================] - 1s 21ms/step - loss: 0.1215 - accuracy: 0.9645 - val_loss: 0.3207 - val_accuracy: 0.8859\n",
            "Epoch 11/20\n",
            "30/30 [==============================] - 1s 22ms/step - loss: 0.1008 - accuracy: 0.9714 - val_loss: 0.3553 - val_accuracy: 0.8840\n",
            "Epoch 12/20\n",
            "30/30 [==============================] - 1s 21ms/step - loss: 0.0847 - accuracy: 0.9750 - val_loss: 0.3750 - val_accuracy: 0.8831\n",
            "Epoch 13/20\n",
            "30/30 [==============================] - 1s 21ms/step - loss: 0.0741 - accuracy: 0.9785 - val_loss: 0.3962 - val_accuracy: 0.8826\n",
            "Epoch 14/20\n",
            "30/30 [==============================] - 1s 21ms/step - loss: 0.0597 - accuracy: 0.9841 - val_loss: 0.4560 - val_accuracy: 0.8851\n",
            "Epoch 15/20\n",
            "30/30 [==============================] - 1s 21ms/step - loss: 0.0516 - accuracy: 0.9857 - val_loss: 0.4776 - val_accuracy: 0.8819\n",
            "Epoch 16/20\n",
            "30/30 [==============================] - 1s 25ms/step - loss: 0.0415 - accuracy: 0.9886 - val_loss: 0.5805 - val_accuracy: 0.8746\n",
            "Epoch 17/20\n",
            "30/30 [==============================] - 1s 22ms/step - loss: 0.0349 - accuracy: 0.9907 - val_loss: 0.5903 - val_accuracy: 0.8751\n",
            "Epoch 18/20\n",
            "30/30 [==============================] - 1s 25ms/step - loss: 0.0333 - accuracy: 0.9902 - val_loss: 0.6310 - val_accuracy: 0.8739\n",
            "Epoch 19/20\n",
            "30/30 [==============================] - 1s 21ms/step - loss: 0.0271 - accuracy: 0.9927 - val_loss: 0.6472 - val_accuracy: 0.8799\n",
            "Epoch 20/20\n",
            "30/30 [==============================] - 1s 25ms/step - loss: 0.0272 - accuracy: 0.9930 - val_loss: 0.6755 - val_accuracy: 0.8812\n"
          ]
        }
      ]
    },
    {
      "cell_type": "code",
      "source": [
        "# visualize \n",
        "\n",
        "import matplotlib.pyplot as plt\n",
        "history_dr_dict = history_dr.history\n",
        "val_loss_values_dr = history_dr_dict[\"val_loss\"]\n",
        "history2_dict = history2.history\n",
        "val_loss_values2 = history2_dict[\"val_loss\"]\n",
        "epochs = range(1, len(loss_values) + 1)\n",
        "plt.plot(epochs, val_loss_values2, \"bo\", label=\"original\")\n",
        "plt.plot(epochs, val_loss_values_dr, \"b\", label=\"dropout\")\n",
        "plt.title(\"validation loss\")\n",
        "plt.xlabel(\"Epochs\")\n",
        "plt.ylabel(\"Loss\")\n",
        "plt.legend()\n",
        "plt.show()"
      ],
      "metadata": {
        "id": "64FZ6BAKqWCo",
        "outputId": "f948379d-1a11-413b-ce4c-435fc007d645",
        "colab": {
          "base_uri": "https://localhost:8080/",
          "height": 295
        }
      },
      "execution_count": 17,
      "outputs": [
        {
          "output_type": "display_data",
          "data": {
            "text/plain": [
              "<Figure size 432x288 with 1 Axes>"
            ],
            "image/png": "[encoded data removed]"
          },
          "metadata": {
            "needs_background": "light"
          }
        }
      ]
    },
    {
      "cell_type": "markdown",
      "source": [
        "### Q3 Add l1 regularization on the second dense layer from the original model below. "
      ],
      "metadata": {
        "id": "Xs7jKhJKahhM"
      }
    },
    {
      "cell_type": "code",
      "source": [
        "## Add l1 regularization on the second dense layers \n",
        "from tensorflow.keras import regularizers\n",
        "model2_l1 = keras.Sequential([\n",
        "    layers.Dense(16, activation=\"relu\"),\n",
        "    layers.Dense(16,\n",
        "                 kernel_regularizer=regularizers.l1(0.002),\n",
        "                 activation=\"relu\"),    ### add l1 regularization here\n",
        "    layers.Dense(2, activation=\"softmax\")\n",
        "])"
      ],
      "metadata": {
        "id": "VeuwleNJa9r9"
      },
      "execution_count": 20,
      "outputs": []
    },
    {
      "cell_type": "code",
      "source": [
        "#model2.compile()\n",
        "model2_l1.compile(optimizer=\"rmsprop\",\n",
        "              loss=\"binary_crossentropy\",\n",
        "              metrics=[\"accuracy\"])\n",
        "\n",
        "#model2.fit()\n",
        "history_l1 = model2_l1.fit(partial_x_train,\n",
        "                    partial_y_train,\n",
        "                    epochs=20,\n",
        "                    batch_size=512,\n",
        "                    validation_data=(x_val, y_val))"
      ],
      "metadata": {
        "id": "Pga0Ps-tsvks",
        "outputId": "d40275c7-c61c-4c8c-c6f0-2e6c1050471a",
        "colab": {
          "base_uri": "https://localhost:8080/"
        }
      },
      "execution_count": 19,
      "outputs": [
        {
          "output_type": "stream",
          "name": "stdout",
          "text": [
            "Epoch 1/20\n",
            "30/30 [==============================] - 2s 35ms/step - loss: 0.6703 - accuracy: 0.7895 - val_loss: 0.5423 - val_accuracy: 0.8656\n",
            "Epoch 2/20\n",
            "30/30 [==============================] - 1s 21ms/step - loss: 0.4585 - accuracy: 0.8971 - val_loss: 0.4350 - val_accuracy: 0.8830\n",
            "Epoch 3/20\n",
            "30/30 [==============================] - 1s 24ms/step - loss: 0.3585 - accuracy: 0.9209 - val_loss: 0.3976 - val_accuracy: 0.8831\n",
            "Epoch 4/20\n",
            "30/30 [==============================] - 1s 21ms/step - loss: 0.3007 - accuracy: 0.9349 - val_loss: 0.3705 - val_accuracy: 0.8911\n",
            "Epoch 5/20\n",
            "30/30 [==============================] - 1s 25ms/step - loss: 0.2608 - accuracy: 0.9471 - val_loss: 0.3645 - val_accuracy: 0.8926\n",
            "Epoch 6/20\n",
            "30/30 [==============================] - 1s 22ms/step - loss: 0.2307 - accuracy: 0.9557 - val_loss: 0.3779 - val_accuracy: 0.8839\n",
            "Epoch 7/20\n",
            "30/30 [==============================] - 1s 21ms/step - loss: 0.2080 - accuracy: 0.9619 - val_loss: 0.3705 - val_accuracy: 0.8877\n",
            "Epoch 8/20\n",
            "30/30 [==============================] - 1s 22ms/step - loss: 0.1868 - accuracy: 0.9707 - val_loss: 0.3893 - val_accuracy: 0.8821\n",
            "Epoch 9/20\n",
            "30/30 [==============================] - 1s 25ms/step - loss: 0.1702 - accuracy: 0.9751 - val_loss: 0.4135 - val_accuracy: 0.8752\n",
            "Epoch 10/20\n",
            "30/30 [==============================] - 1s 25ms/step - loss: 0.1548 - accuracy: 0.9793 - val_loss: 0.4320 - val_accuracy: 0.8733\n",
            "Epoch 11/20\n",
            "30/30 [==============================] - 1s 21ms/step - loss: 0.1418 - accuracy: 0.9841 - val_loss: 0.4180 - val_accuracy: 0.8814\n",
            "Epoch 12/20\n",
            "30/30 [==============================] - 1s 22ms/step - loss: 0.1294 - accuracy: 0.9862 - val_loss: 0.4345 - val_accuracy: 0.8785\n",
            "Epoch 13/20\n",
            "30/30 [==============================] - 1s 21ms/step - loss: 0.1206 - accuracy: 0.9879 - val_loss: 0.4536 - val_accuracy: 0.8761\n",
            "Epoch 14/20\n",
            "30/30 [==============================] - 1s 21ms/step - loss: 0.1108 - accuracy: 0.9901 - val_loss: 0.4739 - val_accuracy: 0.8760\n",
            "Epoch 15/20\n",
            "30/30 [==============================] - 1s 24ms/step - loss: 0.1018 - accuracy: 0.9932 - val_loss: 0.4862 - val_accuracy: 0.8729\n",
            "Epoch 16/20\n",
            "30/30 [==============================] - 1s 21ms/step - loss: 0.0969 - accuracy: 0.9947 - val_loss: 0.5205 - val_accuracy: 0.8679\n",
            "Epoch 17/20\n",
            "30/30 [==============================] - 1s 22ms/step - loss: 0.0909 - accuracy: 0.9956 - val_loss: 0.5236 - val_accuracy: 0.8704\n",
            "Epoch 18/20\n",
            "30/30 [==============================] - 1s 21ms/step - loss: 0.0865 - accuracy: 0.9966 - val_loss: 0.5374 - val_accuracy: 0.8721\n",
            "Epoch 19/20\n",
            "30/30 [==============================] - 1s 21ms/step - loss: 0.0814 - accuracy: 0.9973 - val_loss: 0.5512 - val_accuracy: 0.8691\n",
            "Epoch 20/20\n",
            "30/30 [==============================] - 1s 24ms/step - loss: 0.0773 - accuracy: 0.9979 - val_loss: 0.5666 - val_accuracy: 0.8694\n"
          ]
        }
      ]
    },
    {
      "cell_type": "markdown",
      "source": [
        "### Finish the training and compare the dropout model(model from Q2) and l1 regularization model after visualizing their validation losses."
      ],
      "metadata": {
        "id": "e9yx1WLrbJUd"
      }
    },
    {
      "cell_type": "code",
      "source": [
        "# visualize \n",
        "import matplotlib.pyplot as plt\n",
        "history_dr_dict = history_dr.history\n",
        "history_l1_dict = history_l1.history\n",
        "history2_dict = history2.history\n",
        "val_loss_values2 = history2_dict[\"val_loss\"]\n",
        "val_loss_values_dr = history_dr_dict[\"val_loss\"]\n",
        "val_loss_values_l1 = history_l1_dict[\"val_loss\"]\n",
        "epochs = range(1, len(loss_values) + 1)\n",
        "plt.plot(epochs, val_loss_values2, \"b\", label=\"original\", color=\"red\")\n",
        "plt.plot(epochs, val_loss_values_dr, \"bo\", label=\"dropout\")\n",
        "plt.plot(epochs, val_loss_values_l1, \"b\", label=\"l1\")\n",
        "plt.title(\"validation loss\")\n",
        "plt.xlabel(\"Epochs\")\n",
        "plt.ylabel(\"Loss\")\n",
        "plt.legend()\n",
        "plt.show()"
      ],
      "metadata": {
        "id": "EyL_jfmNbWe_",
        "outputId": "c4b96359-0a31-4545-dd2b-7b4c558b983c",
        "colab": {
          "base_uri": "https://localhost:8080/",
          "height": 295
        }
      },
      "execution_count": 25,
      "outputs": [
        {
          "output_type": "display_data",
          "data": {
            "text/plain": [
              "<Figure size 432x288 with 1 Axes>"
            ],
            "image/png": "[encoded data removed]"
          },
          "metadata": {
            "needs_background": "light"
          }
        }
      ]
    }
  ]
}