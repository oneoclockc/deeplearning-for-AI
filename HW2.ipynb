{
  "nbformat": 4,
  "nbformat_minor": 0,
  "metadata": {
    "colab": {
      "name": "HW2.ipynb",
      "provenance": [],
      "collapsed_sections": [],
      "include_colab_link": true
    },
    "kernelspec": {
      "name": "python3",
      "display_name": "Python 3"
    },
    "language_info": {
      "name": "python"
    },
    "accelerator": "GPU"
  },
  "cells": [
    {
      "cell_type": "markdown",
      "metadata": {
        "id": "view-in-github",
        "colab_type": "text"
      },
      "source": [
        "<a href=\"https://colab.research.google.com/github/oneoclockc/deeplearning-for-AI/blob/main/HW2.ipynb\" target=\"_parent\"><img src=\"https://colab.research.google.com/assets/colab-badge.svg\" alt=\"Open In Colab\"/></a>"
      ]
    },
    {
      "cell_type": "markdown",
      "source": [
        "## HW 2\n",
        "Answer folloing questions \n",
        "\n"
      ],
      "metadata": {
        "id": "OwBySVVU5h6M"
      }
    },
    {
      "cell_type": "code",
      "execution_count": null,
      "metadata": {
        "id": "aZSgHuiR5W1k"
      },
      "outputs": [],
      "source": [
        ""
      ]
    },
    {
      "cell_type": "markdown",
      "source": [
        "### Below is one of the example code for binary-class classification problem on IMDB dataset"
      ],
      "metadata": {
        "id": "qEqK8L1k6PSd"
      }
    },
    {
      "cell_type": "code",
      "source": [
        "from tensorflow.keras.datasets import imdb\n",
        "(train_data, train_labels), (test_data, test_labels) = imdb.load_data(\n",
        "    num_words=10000)"
      ],
      "metadata": {
        "id": "WKvVq8pQ6YNt"
      },
      "execution_count": 47,
      "outputs": []
    },
    {
      "cell_type": "code",
      "source": [
        "import numpy as np\n",
        "def vectorize_sequences(sequences, dimension=10000):\n",
        "    results = np.zeros((len(sequences), dimension))\n",
        "    for i, sequence in enumerate(sequences):\n",
        "        for j in sequence:\n",
        "            results[i, j] = 1.\n",
        "    return results\n",
        "x_train = vectorize_sequences(train_data)\n",
        "x_test = vectorize_sequences(test_data)"
      ],
      "metadata": {
        "id": "IFml1LhPXCsk"
      },
      "execution_count": 48,
      "outputs": []
    },
    {
      "cell_type": "code",
      "source": [
        "y_train = np.asarray(train_labels).astype(\"float32\")\n",
        "y_test = np.asarray(test_labels).astype(\"float32\")"
      ],
      "metadata": {
        "id": "FCxmgWVYXHoD"
      },
      "execution_count": 49,
      "outputs": []
    },
    {
      "cell_type": "code",
      "source": [
        "y_train[:5]"
      ],
      "metadata": {
        "colab": {
          "base_uri": "https://localhost:8080/"
        },
        "id": "RMI28KpIXVYE",
        "outputId": "b41bc32d-7cb1-4c75-a4d2-c4464d616ac5"
      },
      "execution_count": 4,
      "outputs": [
        {
          "output_type": "execute_result",
          "data": {
            "text/plain": [
              "array([1., 0., 0., 1., 0.], dtype=float32)"
            ]
          },
          "metadata": {},
          "execution_count": 4
        }
      ]
    },
    {
      "cell_type": "code",
      "source": [
        "from tensorflow import keras\n",
        "from tensorflow.keras import layers\n",
        "\n",
        "model = keras.Sequential([\n",
        "    layers.Dense(16, activation=\"relu\"),\n",
        "    layers.Dense(16, activation=\"relu\"),\n",
        "    layers.Dense(1, activation=\"sigmoid\")\n",
        "])"
      ],
      "metadata": {
        "id": "xgDMHxOVXKRE"
      },
      "execution_count": 50,
      "outputs": []
    },
    {
      "cell_type": "code",
      "source": [
        "model.compile(optimizer=\"rmsprop\",\n",
        "              loss=\"binary_crossentropy\",\n",
        "              metrics=[\"accuracy\"])"
      ],
      "metadata": {
        "id": "tT4KACL9XdNE"
      },
      "execution_count": 51,
      "outputs": []
    },
    {
      "cell_type": "code",
      "source": [
        "x_val = x_train[:10000]\n",
        "partial_x_train = x_train[10000:]\n",
        "y_val = y_train[:10000]\n",
        "partial_y_train = y_train[10000:]"
      ],
      "metadata": {
        "id": "k-Ufwj3iXc8l"
      },
      "execution_count": 52,
      "outputs": []
    },
    {
      "cell_type": "code",
      "source": [
        "history = model.fit(partial_x_train,\n",
        "                    partial_y_train,\n",
        "                    epochs=20,\n",
        "                    batch_size=512,\n",
        "                    validation_data=(x_val, y_val))"
      ],
      "metadata": {
        "id": "5kJLbfX3Xp_U",
        "outputId": "162ffb27-1446-4d50-b743-4f0cdc0898e4",
        "colab": {
          "base_uri": "https://localhost:8080/"
        }
      },
      "execution_count": 53,
      "outputs": [
        {
          "output_type": "stream",
          "name": "stdout",
          "text": [
            "Epoch 1/20\n",
            "30/30 [==============================] - 2s 55ms/step - loss: 0.5450 - accuracy: 0.7635 - val_loss: 0.4060 - val_accuracy: 0.8740\n",
            "Epoch 2/20\n",
            "30/30 [==============================] - 1s 39ms/step - loss: 0.3267 - accuracy: 0.9007 - val_loss: 0.3347 - val_accuracy: 0.8743\n",
            "Epoch 3/20\n",
            "30/30 [==============================] - 1s 38ms/step - loss: 0.2387 - accuracy: 0.9230 - val_loss: 0.2902 - val_accuracy: 0.8867\n",
            "Epoch 4/20\n",
            "30/30 [==============================] - 1s 41ms/step - loss: 0.1885 - accuracy: 0.9397 - val_loss: 0.2712 - val_accuracy: 0.8915\n",
            "Epoch 5/20\n",
            "30/30 [==============================] - 1s 41ms/step - loss: 0.1530 - accuracy: 0.9509 - val_loss: 0.2867 - val_accuracy: 0.8846\n",
            "Epoch 6/20\n",
            "30/30 [==============================] - 1s 38ms/step - loss: 0.1264 - accuracy: 0.9611 - val_loss: 0.2939 - val_accuracy: 0.8867\n",
            "Epoch 7/20\n",
            "30/30 [==============================] - 1s 38ms/step - loss: 0.1066 - accuracy: 0.9682 - val_loss: 0.3221 - val_accuracy: 0.8806\n",
            "Epoch 8/20\n",
            "30/30 [==============================] - 1s 37ms/step - loss: 0.0892 - accuracy: 0.9737 - val_loss: 0.3307 - val_accuracy: 0.8813\n",
            "Epoch 9/20\n",
            "30/30 [==============================] - 1s 38ms/step - loss: 0.0763 - accuracy: 0.9785 - val_loss: 0.3492 - val_accuracy: 0.8777\n",
            "Epoch 10/20\n",
            "30/30 [==============================] - 1s 39ms/step - loss: 0.0626 - accuracy: 0.9847 - val_loss: 0.3606 - val_accuracy: 0.8811\n",
            "Epoch 11/20\n",
            "30/30 [==============================] - 1s 38ms/step - loss: 0.0507 - accuracy: 0.9884 - val_loss: 0.4096 - val_accuracy: 0.8683\n",
            "Epoch 12/20\n",
            "30/30 [==============================] - 1s 38ms/step - loss: 0.0438 - accuracy: 0.9900 - val_loss: 0.4107 - val_accuracy: 0.8778\n",
            "Epoch 13/20\n",
            "30/30 [==============================] - 1s 38ms/step - loss: 0.0361 - accuracy: 0.9919 - val_loss: 0.4465 - val_accuracy: 0.8673\n",
            "Epoch 14/20\n",
            "30/30 [==============================] - 1s 39ms/step - loss: 0.0282 - accuracy: 0.9951 - val_loss: 0.4702 - val_accuracy: 0.8742\n",
            "Epoch 15/20\n",
            "30/30 [==============================] - 1s 38ms/step - loss: 0.0228 - accuracy: 0.9958 - val_loss: 0.4995 - val_accuracy: 0.8706\n",
            "Epoch 16/20\n",
            "30/30 [==============================] - 1s 38ms/step - loss: 0.0171 - accuracy: 0.9976 - val_loss: 0.5335 - val_accuracy: 0.8686\n",
            "Epoch 17/20\n",
            "30/30 [==============================] - 1s 37ms/step - loss: 0.0135 - accuracy: 0.9985 - val_loss: 0.5841 - val_accuracy: 0.8636\n",
            "Epoch 18/20\n",
            "30/30 [==============================] - 1s 37ms/step - loss: 0.0120 - accuracy: 0.9983 - val_loss: 0.6026 - val_accuracy: 0.8693\n",
            "Epoch 19/20\n",
            "30/30 [==============================] - 1s 41ms/step - loss: 0.0075 - accuracy: 0.9995 - val_loss: 0.7041 - val_accuracy: 0.8533\n",
            "Epoch 20/20\n",
            "30/30 [==============================] - 1s 38ms/step - loss: 0.0087 - accuracy: 0.9987 - val_loss: 0.6598 - val_accuracy: 0.8669\n"
          ]
        }
      ]
    },
    {
      "cell_type": "markdown",
      "source": [
        "### Q1 Binary classification is multi-class classification with two classes so we can modify our model as below:"
      ],
      "metadata": {
        "id": "AFsXMZmW6e6F"
      }
    },
    {
      "cell_type": "code",
      "source": [
        "model2 = keras.Sequential([\n",
        "    layers.Dense(16, activation=\"relu\"),\n",
        "    layers.Dense(16, activation=\"relu\"),\n",
        "    layers.Dense(2, activation=\"softmax\")\n",
        "])"
      ],
      "metadata": {
        "id": "mXXKBxo36kPl"
      },
      "execution_count": 8,
      "outputs": []
    },
    {
      "cell_type": "markdown",
      "source": [
        "### Complete the codes for compile and model fitting. "
      ],
      "metadata": {
        "id": "PsOrD_13YWn1"
      }
    },
    {
      "cell_type": "code",
      "source": [
        "from tensorflow.keras.datasets import imdb\n",
        "(train_data, train_labels), (test_data, test_labels) = imdb.load_data(\n",
        "    num_words=10000)"
      ],
      "metadata": {
        "id": "HY8u4VYj0j99"
      },
      "execution_count": 16,
      "outputs": []
    },
    {
      "cell_type": "code",
      "source": [
        "# 타겟 y를 one hot encoding\n",
        "def to_one_hot(labels, dimension=2):\n",
        "    results = np.zeros((len(labels), dimension))\n",
        "    for i, label in enumerate(labels):\n",
        "        results[i, label] = 1.\n",
        "    return results\n",
        "y_train = to_one_hot(train_labels)\n",
        "y_test = to_one_hot(test_labels)"
      ],
      "metadata": {
        "id": "O5cfDGH3otBf"
      },
      "execution_count": 17,
      "outputs": []
    },
    {
      "cell_type": "code",
      "source": [
        "x_val = x_train[:10000]\n",
        "partial_x_train = x_train[10000:]\n",
        "y_val = y_train[:10000]\n",
        "partial_y_train = y_train[10000:]"
      ],
      "metadata": {
        "id": "1Nt0pG6hotkz"
      },
      "execution_count": 18,
      "outputs": []
    },
    {
      "cell_type": "code",
      "source": [
        "#model2.compile()\n",
        "model2.compile(optimizer=\"rmsprop\",\n",
        "              loss=\"categorical_crossentropy\",\n",
        "              metrics=[\"accuracy\"])\n",
        "\n",
        "#model2.fit()\n",
        "history2 = model2.fit(partial_x_train,\n",
        "                    partial_y_train,\n",
        "                    epochs=20,\n",
        "                    batch_size=512,\n",
        "                    validation_data=(x_val, y_val))"
      ],
      "metadata": {
        "id": "Hj4AauQvYT7F",
        "outputId": "6aa31683-6ac3-44d7-c430-6065a954d47f",
        "colab": {
          "base_uri": "https://localhost:8080/"
        }
      },
      "execution_count": 19,
      "outputs": [
        {
          "output_type": "stream",
          "name": "stdout",
          "text": [
            "Epoch 1/20\n",
            "30/30 [==============================] - 2s 63ms/step - loss: 0.0137 - accuracy: 0.9961 - val_loss: 0.8171 - val_accuracy: 0.8629\n",
            "Epoch 2/20\n",
            "30/30 [==============================] - 2s 53ms/step - loss: 0.0015 - accuracy: 0.9999 - val_loss: 0.8463 - val_accuracy: 0.8632\n",
            "Epoch 3/20\n",
            "30/30 [==============================] - 1s 50ms/step - loss: 0.0060 - accuracy: 0.9980 - val_loss: 0.8935 - val_accuracy: 0.8628\n",
            "Epoch 4/20\n",
            "30/30 [==============================] - 1s 49ms/step - loss: 7.3475e-04 - accuracy: 1.0000 - val_loss: 0.9112 - val_accuracy: 0.8618\n",
            "Epoch 5/20\n",
            "30/30 [==============================] - 1s 50ms/step - loss: 5.8674e-04 - accuracy: 1.0000 - val_loss: 0.9516 - val_accuracy: 0.8600\n",
            "Epoch 6/20\n",
            "30/30 [==============================] - 1s 49ms/step - loss: 0.0100 - accuracy: 0.9975 - val_loss: 1.0051 - val_accuracy: 0.8602\n",
            "Epoch 7/20\n",
            "30/30 [==============================] - 2s 59ms/step - loss: 3.0527e-04 - accuracy: 1.0000 - val_loss: 1.0159 - val_accuracy: 0.8594\n",
            "Epoch 8/20\n",
            "30/30 [==============================] - 2s 54ms/step - loss: 2.6411e-04 - accuracy: 1.0000 - val_loss: 1.0455 - val_accuracy: 0.8609\n",
            "Epoch 9/20\n",
            "30/30 [==============================] - 2s 61ms/step - loss: 2.3059e-04 - accuracy: 1.0000 - val_loss: 1.2320 - val_accuracy: 0.8532\n",
            "Epoch 10/20\n",
            "30/30 [==============================] - 2s 52ms/step - loss: 0.0049 - accuracy: 0.9989 - val_loss: 1.1060 - val_accuracy: 0.8579\n",
            "Epoch 11/20\n",
            "30/30 [==============================] - 1s 50ms/step - loss: 1.4213e-04 - accuracy: 1.0000 - val_loss: 1.1217 - val_accuracy: 0.8573\n",
            "Epoch 12/20\n",
            "30/30 [==============================] - 1s 50ms/step - loss: 1.1621e-04 - accuracy: 1.0000 - val_loss: 1.1663 - val_accuracy: 0.8559\n",
            "Epoch 13/20\n",
            "30/30 [==============================] - 1s 50ms/step - loss: 0.0068 - accuracy: 0.9979 - val_loss: 1.2185 - val_accuracy: 0.8559\n",
            "Epoch 14/20\n",
            "30/30 [==============================] - 2s 51ms/step - loss: 7.1571e-05 - accuracy: 1.0000 - val_loss: 1.2265 - val_accuracy: 0.8559\n",
            "Epoch 15/20\n",
            "30/30 [==============================] - 2s 51ms/step - loss: 5.7548e-05 - accuracy: 1.0000 - val_loss: 1.2402 - val_accuracy: 0.8556\n",
            "Epoch 16/20\n",
            "30/30 [==============================] - 1s 50ms/step - loss: 4.8734e-05 - accuracy: 1.0000 - val_loss: 1.2686 - val_accuracy: 0.8560\n",
            "Epoch 17/20\n",
            "30/30 [==============================] - 2s 51ms/step - loss: 3.6867e-05 - accuracy: 1.0000 - val_loss: 1.3313 - val_accuracy: 0.8556\n",
            "Epoch 18/20\n",
            "30/30 [==============================] - 2s 51ms/step - loss: 0.0041 - accuracy: 0.9991 - val_loss: 1.4047 - val_accuracy: 0.8578\n",
            "Epoch 19/20\n",
            "30/30 [==============================] - 1s 50ms/step - loss: 2.3887e-05 - accuracy: 1.0000 - val_loss: 1.4068 - val_accuracy: 0.8563\n",
            "Epoch 20/20\n",
            "30/30 [==============================] - 1s 50ms/step - loss: 1.6544e-05 - accuracy: 1.0000 - val_loss: 1.4175 - val_accuracy: 0.8567\n"
          ]
        }
      ]
    },
    {
      "cell_type": "markdown",
      "source": [
        "### Q2 Below is visualization of the validation loss. We can see overfitting after 5 epochs.  "
      ],
      "metadata": {
        "id": "6SGxXX70Ylr_"
      }
    },
    {
      "cell_type": "code",
      "source": [
        "import matplotlib.pyplot as plt\n",
        "history_dict = history.history\n",
        "loss_values = history_dict[\"loss\"]\n",
        "val_loss_values = history_dict[\"val_loss\"]\n",
        "epochs = range(1, len(loss_values) + 1)\n",
        "plt.plot(epochs, loss_values, \"bo\", label=\"Training loss\")\n",
        "plt.plot(epochs, val_loss_values, \"b\", label=\"Validation loss\")\n",
        "plt.title(\"Training and validation loss\")\n",
        "plt.xlabel(\"Epochs\")\n",
        "plt.ylabel(\"Loss\")\n",
        "plt.legend()\n",
        "plt.show()"
      ],
      "metadata": {
        "colab": {
          "base_uri": "https://localhost:8080/",
          "height": 295
        },
        "id": "X8rcODQ7Yk_E",
        "outputId": "f8b6de08-9e91-4c8a-d4e9-7459fdb69fb3"
      },
      "execution_count": 54,
      "outputs": [
        {
          "output_type": "display_data",
          "data": {
            "text/plain": [
              "<Figure size 432x288 with 1 Axes>"
            ],
            "image/png": "[encoded data removed]"
          },
          "metadata": {
            "needs_background": "light"
          }
        }
      ]
    },
    {
      "cell_type": "markdown",
      "source": [
        "### Add dropout layers and visualize the validation loss of your new model."
      ],
      "metadata": {
        "id": "4LbAGmB-aD-d"
      }
    },
    {
      "cell_type": "code",
      "source": [
        "## Add dropout layers \n",
        "\n",
        "model2_dr = keras.Sequential([\n",
        "    layers.Dense(16, activation=\"relu\"),\n",
        "    layers.Dropout(0.5),\n",
        "    layers.Dense(16, activation=\"relu\"),\n",
        "    layers.Dropout(0.5),\n",
        "    layers.Dense(2, activation=\"softmax\")\n",
        "])\n",
        "\n",
        "## retrain and visualize the validation loss of new model\n"
      ],
      "metadata": {
        "id": "uY9QQxR1Z013"
      },
      "execution_count": 37,
      "outputs": []
    },
    {
      "cell_type": "code",
      "source": [
        "(train_data, train_labels), (test_data, test_labels) = imdb.load_data(\n",
        "    num_words=10000)\n",
        "y_train = to_one_hot(train_labels)\n",
        "y_test = to_one_hot(test_labels)\n",
        "\n",
        "x_val = x_train[:10000]\n",
        "partial_x_train = x_train[10000:]\n",
        "y_val = y_train[:10000]\n",
        "partial_y_train = y_train[10000:]"
      ],
      "metadata": {
        "id": "99A0hNSW053f"
      },
      "execution_count": 40,
      "outputs": []
    },
    {
      "cell_type": "code",
      "source": [
        "#model2.compile()\n",
        "model2_dr.compile(optimizer=\"rmsprop\",\n",
        "              loss=\"categorical_crossentropy\",\n",
        "              metrics=[\"accuracy\"])\n",
        "\n",
        "#model2.fit()\n",
        "history_dr = model2_dr.fit(partial_x_train,\n",
        "                    partial_y_train,\n",
        "                    epochs=20,\n",
        "                    batch_size=512,\n",
        "                    validation_data=(x_val, y_val))"
      ],
      "metadata": {
        "id": "h1U4efHVpYfX",
        "outputId": "775adbc7-60f7-485b-95e8-e6748b8201ff",
        "colab": {
          "base_uri": "https://localhost:8080/"
        }
      },
      "execution_count": 39,
      "outputs": [
        {
          "output_type": "stream",
          "name": "stdout",
          "text": [
            "Epoch 1/20\n",
            "30/30 [==============================] - 2s 50ms/step - loss: 0.6076 - accuracy: 0.6746 - val_loss: 0.4652 - val_accuracy: 0.8489\n",
            "Epoch 2/20\n",
            "30/30 [==============================] - 1s 40ms/step - loss: 0.4567 - accuracy: 0.8071 - val_loss: 0.3997 - val_accuracy: 0.8406\n",
            "Epoch 3/20\n",
            "30/30 [==============================] - 1s 40ms/step - loss: 0.3752 - accuracy: 0.8550 - val_loss: 0.3107 - val_accuracy: 0.8857\n",
            "Epoch 4/20\n",
            "30/30 [==============================] - 1s 40ms/step - loss: 0.3090 - accuracy: 0.8856 - val_loss: 0.2837 - val_accuracy: 0.8828\n",
            "Epoch 5/20\n",
            "30/30 [==============================] - 1s 39ms/step - loss: 0.2621 - accuracy: 0.9084 - val_loss: 0.2797 - val_accuracy: 0.8876\n",
            "Epoch 6/20\n",
            "30/30 [==============================] - 1s 40ms/step - loss: 0.2267 - accuracy: 0.9224 - val_loss: 0.2837 - val_accuracy: 0.8829\n",
            "Epoch 7/20\n",
            "30/30 [==============================] - 1s 41ms/step - loss: 0.1996 - accuracy: 0.9301 - val_loss: 0.3077 - val_accuracy: 0.8889\n",
            "Epoch 8/20\n",
            "30/30 [==============================] - 1s 40ms/step - loss: 0.1709 - accuracy: 0.9429 - val_loss: 0.3401 - val_accuracy: 0.8789\n",
            "Epoch 9/20\n",
            "30/30 [==============================] - 1s 40ms/step - loss: 0.1546 - accuracy: 0.9489 - val_loss: 0.3251 - val_accuracy: 0.8863\n",
            "Epoch 10/20\n",
            "30/30 [==============================] - 1s 40ms/step - loss: 0.1356 - accuracy: 0.9553 - val_loss: 0.3548 - val_accuracy: 0.8867\n",
            "Epoch 11/20\n",
            "30/30 [==============================] - 1s 40ms/step - loss: 0.1240 - accuracy: 0.9601 - val_loss: 0.4028 - val_accuracy: 0.8787\n",
            "Epoch 12/20\n",
            "30/30 [==============================] - 1s 40ms/step - loss: 0.1066 - accuracy: 0.9645 - val_loss: 0.4157 - val_accuracy: 0.8851\n",
            "Epoch 13/20\n",
            "30/30 [==============================] - 1s 40ms/step - loss: 0.0961 - accuracy: 0.9689 - val_loss: 0.4466 - val_accuracy: 0.8851\n",
            "Epoch 14/20\n",
            "30/30 [==============================] - 1s 40ms/step - loss: 0.0952 - accuracy: 0.9679 - val_loss: 0.5000 - val_accuracy: 0.8852\n",
            "Epoch 15/20\n",
            "30/30 [==============================] - 1s 40ms/step - loss: 0.0831 - accuracy: 0.9725 - val_loss: 0.5653 - val_accuracy: 0.8846\n",
            "Epoch 16/20\n",
            "30/30 [==============================] - 1s 41ms/step - loss: 0.0808 - accuracy: 0.9735 - val_loss: 0.5766 - val_accuracy: 0.8837\n",
            "Epoch 17/20\n",
            "30/30 [==============================] - 1s 40ms/step - loss: 0.0803 - accuracy: 0.9736 - val_loss: 0.5854 - val_accuracy: 0.8843\n",
            "Epoch 18/20\n",
            "30/30 [==============================] - 1s 40ms/step - loss: 0.0765 - accuracy: 0.9764 - val_loss: 0.6197 - val_accuracy: 0.8830\n",
            "Epoch 19/20\n",
            "30/30 [==============================] - 1s 40ms/step - loss: 0.0685 - accuracy: 0.9763 - val_loss: 0.6555 - val_accuracy: 0.8827\n",
            "Epoch 20/20\n",
            "30/30 [==============================] - 1s 40ms/step - loss: 0.0692 - accuracy: 0.9765 - val_loss: 0.6208 - val_accuracy: 0.8764\n"
          ]
        }
      ]
    },
    {
      "cell_type": "code",
      "source": [
        "# visualize \n",
        "\n",
        "import matplotlib.pyplot as plt\n",
        "history_dr_dict = history_dr.history\n",
        "val_loss_values_dr = history_dr_dict[\"val_loss\"]\n",
        "history2_dict = history2.history\n",
        "val_loss_values2 = history2_dict[\"val_loss\"]\n",
        "epochs = range(1, len(val_loss_values_dr) + 1)\n",
        "plt.plot(epochs, val_loss_values2, \"bo\", label=\"original\")\n",
        "plt.plot(epochs, val_loss_values_dr, \"bo\", label=\"dropout\", color = \"red\")\n",
        "plt.title(\"validation loss\")\n",
        "plt.xlabel(\"Epochs\")\n",
        "plt.ylabel(\"Loss\")\n",
        "plt.legend()\n",
        "plt.show()"
      ],
      "metadata": {
        "id": "64FZ6BAKqWCo",
        "outputId": "765f0c82-8c30-402b-e507-179cd695eb22",
        "colab": {
          "base_uri": "https://localhost:8080/",
          "height": 295
        }
      },
      "execution_count": 41,
      "outputs": [
        {
          "output_type": "display_data",
          "data": {
            "text/plain": [
              "<Figure size 432x288 with 1 Axes>"
            ],
            "image/png": "[encoded data removed]"
          },
          "metadata": {
            "needs_background": "light"
          }
        }
      ]
    },
    {
      "cell_type": "markdown",
      "source": [
        "### Q3 Add l1 regularization on the second dense layer from the original model below. "
      ],
      "metadata": {
        "id": "Xs7jKhJKahhM"
      }
    },
    {
      "cell_type": "code",
      "source": [
        "(train_data, train_labels), (test_data, test_labels) = imdb.load_data(\n",
        "    num_words=10000)\n",
        "y_train = to_one_hot(train_labels)\n",
        "y_test = to_one_hot(test_labels)\n",
        "\n",
        "x_val = x_train[:10000]\n",
        "partial_x_train = x_train[10000:]\n",
        "y_val = y_train[:10000]\n",
        "partial_y_train = y_train[10000:]"
      ],
      "metadata": {
        "id": "9pfPYXjF1a06"
      },
      "execution_count": 31,
      "outputs": []
    },
    {
      "cell_type": "code",
      "source": [
        "## Add l1 regularization on the second dense layers \n",
        "from tensorflow.keras import regularizers\n",
        "model2_l1 = keras.Sequential([\n",
        "    layers.Dense(16, activation=\"relu\"),\n",
        "    layers.Dense(16,\n",
        "                 kernel_regularizer=regularizers.l1(0.002),\n",
        "                 activation=\"relu\"),    ### add l1 regularization here\n",
        "    layers.Dense(2, activation=\"softmax\")\n",
        "])"
      ],
      "metadata": {
        "id": "VeuwleNJa9r9"
      },
      "execution_count": 32,
      "outputs": []
    },
    {
      "cell_type": "code",
      "source": [
        "#model2.compile()\n",
        "model2_l1.compile(optimizer=\"rmsprop\",\n",
        "              loss=\"categorical_crossentropy\",\n",
        "              metrics=[\"accuracy\"])\n",
        "\n",
        "#model2.fit()\n",
        "history_l1 = model2_l1.fit(partial_x_train,\n",
        "                    partial_y_train,\n",
        "                    epochs=20,\n",
        "                    batch_size=512,\n",
        "                    validation_data=(x_val, y_val))"
      ],
      "metadata": {
        "id": "Pga0Ps-tsvks",
        "outputId": "e3068906-d837-445b-b55f-c2a2d8bfc246",
        "colab": {
          "base_uri": "https://localhost:8080/"
        }
      },
      "execution_count": 33,
      "outputs": [
        {
          "output_type": "stream",
          "name": "stdout",
          "text": [
            "Epoch 1/20\n",
            "30/30 [==============================] - 2s 50ms/step - loss: 0.6004 - accuracy: 0.7709 - val_loss: 0.4572 - val_accuracy: 0.8697\n",
            "Epoch 2/20\n",
            "30/30 [==============================] - 1s 40ms/step - loss: 0.3750 - accuracy: 0.9015 - val_loss: 0.4091 - val_accuracy: 0.8703\n",
            "Epoch 3/20\n",
            "30/30 [==============================] - 1s 41ms/step - loss: 0.2937 - accuracy: 0.9299 - val_loss: 0.3539 - val_accuracy: 0.8931\n",
            "Epoch 4/20\n",
            "30/30 [==============================] - 1s 40ms/step - loss: 0.2472 - accuracy: 0.9427 - val_loss: 0.3494 - val_accuracy: 0.8913\n",
            "Epoch 5/20\n",
            "30/30 [==============================] - 1s 40ms/step - loss: 0.2074 - accuracy: 0.9575 - val_loss: 0.3526 - val_accuracy: 0.8873\n",
            "Epoch 6/20\n",
            "30/30 [==============================] - 1s 41ms/step - loss: 0.1852 - accuracy: 0.9628 - val_loss: 0.3653 - val_accuracy: 0.8805\n",
            "Epoch 7/20\n",
            "30/30 [==============================] - 1s 39ms/step - loss: 0.1606 - accuracy: 0.9713 - val_loss: 0.3755 - val_accuracy: 0.8847\n",
            "Epoch 8/20\n",
            "30/30 [==============================] - 1s 40ms/step - loss: 0.1390 - accuracy: 0.9786 - val_loss: 0.4057 - val_accuracy: 0.8802\n",
            "Epoch 9/20\n",
            "30/30 [==============================] - 1s 39ms/step - loss: 0.1237 - accuracy: 0.9835 - val_loss: 0.4055 - val_accuracy: 0.8797\n",
            "Epoch 10/20\n",
            "30/30 [==============================] - 1s 39ms/step - loss: 0.1125 - accuracy: 0.9851 - val_loss: 0.4365 - val_accuracy: 0.8798\n",
            "Epoch 11/20\n",
            "30/30 [==============================] - 1s 40ms/step - loss: 0.0973 - accuracy: 0.9902 - val_loss: 0.4527 - val_accuracy: 0.8766\n",
            "Epoch 12/20\n",
            "30/30 [==============================] - 1s 42ms/step - loss: 0.0906 - accuracy: 0.9923 - val_loss: 0.4703 - val_accuracy: 0.8757\n",
            "Epoch 13/20\n",
            "30/30 [==============================] - 1s 40ms/step - loss: 0.0835 - accuracy: 0.9937 - val_loss: 0.5002 - val_accuracy: 0.8691\n",
            "Epoch 14/20\n",
            "30/30 [==============================] - 1s 40ms/step - loss: 0.0745 - accuracy: 0.9965 - val_loss: 0.5432 - val_accuracy: 0.8619\n",
            "Epoch 15/20\n",
            "30/30 [==============================] - 1s 40ms/step - loss: 0.0737 - accuracy: 0.9951 - val_loss: 0.5406 - val_accuracy: 0.8717\n",
            "Epoch 16/20\n",
            "30/30 [==============================] - 1s 40ms/step - loss: 0.0649 - accuracy: 0.9979 - val_loss: 0.5540 - val_accuracy: 0.8692\n",
            "Epoch 17/20\n",
            "30/30 [==============================] - 1s 40ms/step - loss: 0.0635 - accuracy: 0.9971 - val_loss: 0.5773 - val_accuracy: 0.8712\n",
            "Epoch 18/20\n",
            "30/30 [==============================] - 1s 40ms/step - loss: 0.0592 - accuracy: 0.9985 - val_loss: 0.5890 - val_accuracy: 0.8705\n",
            "Epoch 19/20\n",
            "30/30 [==============================] - 1s 40ms/step - loss: 0.0559 - accuracy: 0.9986 - val_loss: 0.6100 - val_accuracy: 0.8689\n",
            "Epoch 20/20\n",
            "30/30 [==============================] - 1s 40ms/step - loss: 0.0512 - accuracy: 0.9999 - val_loss: 0.6195 - val_accuracy: 0.8642\n"
          ]
        }
      ]
    },
    {
      "cell_type": "markdown",
      "source": [
        "### Finish the training and compare the dropout model(model from Q2) and l1 regularization model after visualizing their validation losses."
      ],
      "metadata": {
        "id": "e9yx1WLrbJUd"
      }
    },
    {
      "cell_type": "code",
      "source": [
        "# visualize \n",
        "import matplotlib.pyplot as plt\n",
        "history_dr_dict = history_dr.history\n",
        "history_l1_dict = history_l1.history\n",
        "history2_dict = history2.history\n",
        "val_loss_values2 = history2_dict[\"val_loss\"]\n",
        "val_loss_values_dr = history_dr_dict[\"val_loss\"]\n",
        "val_loss_values_l1 = history_l1_dict[\"val_loss\"]\n",
        "epochs = range(1, len(val_loss_values2) + 1)\n",
        "plt.plot(epochs, val_loss_values2, \"b\", label=\"original\", color=\"red\")\n",
        "plt.plot(epochs, val_loss_values_dr, \"bo\", label=\"dropout\")\n",
        "plt.plot(epochs, val_loss_values_l1, \"bo\", label=\"l1\", color = \"green\")\n",
        "plt.title(\"validation loss\")\n",
        "plt.xlabel(\"Epochs\")\n",
        "plt.ylabel(\"Loss\")\n",
        "plt.legend()\n",
        "plt.show()"
      ],
      "metadata": {
        "id": "EyL_jfmNbWe_",
        "outputId": "e4cdf2a3-ec34-4441-ec54-447c3c2956c4",
        "colab": {
          "base_uri": "https://localhost:8080/",
          "height": 295
        }
      },
      "execution_count": 44,
      "outputs": [
        {
          "output_type": "display_data",
          "data": {
            "text/plain": [
              "<Figure size 432x288 with 1 Axes>"
            ],
            "image/png": "[encoded data removed]"
          },
          "metadata": {
            "needs_background": "light"
          }
        }
      ]
    }
  ]
}